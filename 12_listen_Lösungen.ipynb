{
 "cells": [
  {
   "cell_type": "markdown",
   "id": "4e45b87a-2329-4505-86de-0c53b5ebf1bd",
   "metadata": {},
   "source": [
    "# Listen"
   ]
  },
  {
   "cell_type": "markdown",
   "id": "11cf6ce8-6354-462e-b6e9-0a1a503dc8b2",
   "metadata": {},
   "source": [
    "Eine Liste ist eine Reihe von mehreren Variablen, die unter einem einzelnen Namen zusammengefasst werden. \n",
    "Anstatt ein Programm mit vielen Variablen x0, x1, x2 zu schreiben, können Sie eine einzelne Variable x definieren und ihre einzelnen Mitglieder x[0], x[1], x[2], etc aufrufen. \n",
    "Was noch wichtiger ist: Sie können andere Ausdrücke und Variablen in die eckigen Klammern setzen, wie x[i] und x[i+1]. Dies erlaubt es uns, mit beliebig großen Datensätzen umzugehen, indem wir nur ein einziges kleines Stück Code benutzen.\n",
    "\n",
    "Ein Weg, eine Liste zu erzeugen ist es, mehrere Variablen beizufügen, die durch Kommas in eckigen Klammern getrennt werden:\n",
    "(Eckige Klammern mit ALT+5, ALT+6)"
   ]
  },
  {
   "cell_type": "code",
   "execution_count": 3,
   "id": "a33b29eb-5280-4acd-98e7-dd51d8b49148",
   "metadata": {},
   "outputs": [],
   "source": [
    "myList = [\"the first value in the list\", 1999, 4.5]"
   ]
  },
  {
   "cell_type": "markdown",
   "id": "58cf88af-0306-4798-ab9f-830b7dc2106b",
   "metadata": {},
   "source": [
    "Dies erzeugt eine Liste, die den Namen myList und eine Länge von 3 hat. Jedes Element der Liste bekommt eine Nummer zugeordnet, die man seinen Index nennt:\n",
    "Das erste Element hat den Index 0, das nächste hat den Index 1 und so weiter (wie auch bei einem String, dort erhaltet allerdings ein Character einen Index). Die individuellen Variablen, aus denen die Liste besteht, haben die Namen\n",
    "«listName»[«indexNumber»]"
   ]
  },
  {
   "cell_type": "markdown",
   "id": "94c2094f-c44a-4f9f-a066-1845dcda840f",
   "metadata": {},
   "source": [
    "## Werte ausgeben und ändern:"
   ]
  },
  {
   "cell_type": "markdown",
   "id": "f563794c-7230-43b6-9e3a-2b194c413bce",
   "metadata": {},
   "source": [
    "Also ist in diesem Beispiel myList[0] eine Variable, deren Wert folgende Zeichenkette ist: \"the first value in the list\" und print(myList[2]) ergibt 4.5. Sie können ausserdem die Werte der einzelnen Elemente der Liste ändern und komplette Listen ausgeben:"
   ]
  },
  {
   "cell_type": "code",
   "execution_count": 6,
   "id": "51b367ef-4ee1-4b51-a594-2b23e2dc2f78",
   "metadata": {},
   "outputs": [
    {
     "name": "stdout",
     "output_type": "stream",
     "text": [
      "the first value in the list\n",
      "1999\n",
      "4.5\n"
     ]
    }
   ],
   "source": [
    "myList = [\"the first value in the list\", 1999, 4.5]\n",
    "print(myList[0]) #Einzeln ausgeben\n",
    "print(myList[1])\n",
    "print(myList[2])"
   ]
  },
  {
   "cell_type": "code",
   "execution_count": 7,
   "id": "8d877cf0-c4f1-4706-beb6-f9ee969c1254",
   "metadata": {},
   "outputs": [
    {
     "name": "stdout",
     "output_type": "stream",
     "text": [
      "['the first value in the list', 1999, 4.5]\n"
     ]
    }
   ],
   "source": [
    "myList = [\"the first value in the list\", 1999, 4.5]\n",
    "print(myList) #Gesamte Liste ausgeben"
   ]
  },
  {
   "cell_type": "code",
   "execution_count": 9,
   "id": "501ee2eb-346b-4330-bc28-a080ba012313",
   "metadata": {
    "scrolled": true
   },
   "outputs": [
    {
     "name": "stdout",
     "output_type": "stream",
     "text": [
      "Alte Liste ['the first value in the list', 1999, 4.5]\n",
      "Neue Liste ['Erstes Element', 1999, 'Letztes Element']\n"
     ]
    }
   ],
   "source": [
    "myList = [\"the first value in the list\", 1999, 4.5]\n",
    "print(\"Alte Liste\",myList)\n",
    "myList[0] = \"Erstes Element\" #Werte in der Liste ersetzen\n",
    "myList[2] = \"Letztes Element\" #Werte in der Liste ersetzen\n",
    "print(\"Neue Liste\",myList)"
   ]
  },
  {
   "cell_type": "markdown",
   "id": "d80e0fcb-b77d-4e58-b789-5a2d304a3a10",
   "metadata": {},
   "source": [
    "## Länge einer Liste messen:"
   ]
  },
  {
   "cell_type": "markdown",
   "id": "ea7322b2-7d57-48c7-a557-44489a83fe6a",
   "metadata": {},
   "source": [
    "Die Länge einer Liste können wir Messen, indem wir len(liste) benützen:"
   ]
  },
  {
   "cell_type": "code",
   "execution_count": 11,
   "id": "eb37ab3d-3d1c-42b9-a930-2a1eda8ed874",
   "metadata": {},
   "outputs": [
    {
     "name": "stdout",
     "output_type": "stream",
     "text": [
      "Länge der Liste:  144\n"
     ]
    }
   ],
   "source": [
    "liste = [3,5,1,7,2,5,7,8,4,3,2,3,5,6,7,8,5,4,3,2,2,3,5,6,3,5,1,7,2,5,7,8,4,3,2,3,5,6,7,8,5,4,3,2,2,3,5,6,3,5,1,7,2,5,7,8,4,3,2,3,5,6,7,8,5,4,3,2,2,3,5,6,3,5,1,7,2,5,7,8,4,3,2,3,5,6,7,8,5,4,3,2,2,3,5,6,3,5,1,7,2,5,7,8,4,3,2,3,5,6,7,8,5,4,3,2,2,3,5,6,3,5,1,7,2,5,7,8,4,3,2,3,5,6,7,8,5,4,3,2,2,3,5,6]\n",
    "print(\"Länge der Liste: \",len(liste))"
   ]
  },
  {
   "cell_type": "markdown",
   "id": "a73eba81-91c3-46fc-a9ad-3d45b1d347b8",
   "metadata": {},
   "source": [
    "## Durch Listen iterieren:"
   ]
  },
  {
   "cell_type": "markdown",
   "id": "eb1bca08-6de3-4da9-a0d1-e27d4a73a0a0",
   "metadata": {},
   "source": [
    "### Variante 1:"
   ]
  },
  {
   "cell_type": "markdown",
   "id": "85e80d86-b9d7-4a69-949e-7b2031d395e6",
   "metadata": {},
   "source": [
    "Da Listen mit Index arbeiten, können wir die Listenelemente anhand ihres Index ausgeben:"
   ]
  },
  {
   "cell_type": "code",
   "execution_count": 13,
   "id": "61d94417-1cec-4685-9af4-0ab46ed57b7e",
   "metadata": {},
   "outputs": [
    {
     "name": "stdout",
     "output_type": "stream",
     "text": [
      "Französich\n",
      "Englisch\n",
      "Deutsch\n",
      "Mathematik\n",
      "Informatik\n"
     ]
    }
   ],
   "source": [
    "schulfächer = [\"Französich\",\"Englisch\",\"Deutsch\",\"Mathematik\",\"Informatik\"]\n",
    "länge = len(schulfächer)\n",
    "for i in range(länge):\n",
    "    print(schulfächer[i])"
   ]
  },
  {
   "cell_type": "markdown",
   "id": "e13a2c01-f238-4f0e-b633-9d18c26fc93b",
   "metadata": {},
   "source": [
    "### Variante 2:"
   ]
  },
  {
   "cell_type": "markdown",
   "id": "a025403d-8feb-4d37-870a-f77d48c700b5",
   "metadata": {},
   "source": [
    "Wir können direkt durch die Liste iterieren, indem wir \"for element in liste\" nutzen."
   ]
  },
  {
   "cell_type": "code",
   "execution_count": 16,
   "id": "229c3e13-882c-45a7-9b64-cb4d0994e73b",
   "metadata": {},
   "outputs": [
    {
     "name": "stdout",
     "output_type": "stream",
     "text": [
      "Französich\n",
      "Englisch\n",
      "Deutsch\n",
      "Mathematik\n",
      "Informatik\n"
     ]
    }
   ],
   "source": [
    "schulfächer = [\"Französich\",\"Englisch\",\"Deutsch\",\"Mathematik\",\"Informatik\"]\n",
    "\n",
    "for schulfach in schulfächer:\n",
    "    print(schulfach)"
   ]
  },
  {
   "cell_type": "markdown",
   "id": "a877abd4-519c-4c96-a3b0-160805fa7587",
   "metadata": {},
   "source": [
    "Wichtig: Die Namensgebung der Variable z.B \"schulfach\" spielt hierbei keine Rolle."
   ]
  },
  {
   "cell_type": "markdown",
   "id": "2870076f-f027-405d-a1cd-44cc7a603182",
   "metadata": {},
   "source": [
    "## Elemente hinzufügen/entfernen:"
   ]
  },
  {
   "cell_type": "markdown",
   "id": "57f0cd8f-a798-4208-a8fa-8a01ef71e117",
   "metadata": {},
   "source": [
    "### Elemente hinzufügen:"
   ]
  },
  {
   "cell_type": "markdown",
   "id": "3bce2db7-5b73-42ac-b966-847132567ab1",
   "metadata": {},
   "source": [
    "Um Elemente zu einer Liste hinzuzufügen oder zu entfernen, können Sie verschiedene Methoden in Python verwenden. Hier sind Beispiele für beide Aktionen:"
   ]
  },
  {
   "cell_type": "code",
   "execution_count": 31,
   "id": "363de03b-f82e-4f6a-9a55-d8a05243e4ae",
   "metadata": {},
   "outputs": [
    {
     "name": "stdout",
     "output_type": "stream",
     "text": [
      "[1, 2, 3, 4, 5, 6]\n"
     ]
    }
   ],
   "source": [
    "meine_liste = [1, 2, 3, 4, 5]\n",
    "meine_liste.append(6) # Element hinzufügen (an letzter Position)\n",
    "\n",
    "print(meine_liste)"
   ]
  },
  {
   "cell_type": "markdown",
   "id": "e4dee803-1dc2-484f-9ab4-7e1ec6dc7e1d",
   "metadata": {},
   "source": [
    "In diesem Beispiel wird die **append**-Methode verwendet, um die Zahl 6 am Ende der Liste hinzuzufügen."
   ]
  },
  {
   "cell_type": "markdown",
   "id": "b7c7dc97-5e3a-4048-a1e5-4f827f181659",
   "metadata": {},
   "source": [
    "Wir können die Listen auch einfach \"Addieren\", um die Elemente zweier Listen einer einzigen hinzuzufügen:"
   ]
  },
  {
   "cell_type": "code",
   "execution_count": 26,
   "id": "3040ea36-c91e-47ab-b7e7-920751a21a61",
   "metadata": {},
   "outputs": [
    {
     "name": "stdout",
     "output_type": "stream",
     "text": [
      "['Hallo', 'Bye', 'Ciao']\n"
     ]
    }
   ],
   "source": [
    "liste = [\"Hallo\"]\n",
    "liste = liste + [\"Bye\",\"Ciao\"]\n",
    "print(liste)"
   ]
  },
  {
   "cell_type": "markdown",
   "id": "f64a6478-1b05-4007-a50f-caeac8a03ab2",
   "metadata": {},
   "source": [
    "### Elemente entfernen:"
   ]
  },
  {
   "cell_type": "markdown",
   "id": "ffabb0e1-5af5-45f0-9258-85ce3de8fc72",
   "metadata": {},
   "source": [
    "Um Elemente zu entfernen, können wir die **remove** Methode nutzen."
   ]
  },
  {
   "cell_type": "code",
   "execution_count": 20,
   "id": "f1dedc68-b508-4557-8aa3-d1af72514c9a",
   "metadata": {},
   "outputs": [
    {
     "name": "stdout",
     "output_type": "stream",
     "text": [
      "[1, 2, 3, 5]\n"
     ]
    }
   ],
   "source": [
    "meine_liste = [1, 2, 3, 4, 5]\n",
    "meine_liste.remove(4) #Element \"4\" löschen\n",
    "print(meine_liste)"
   ]
  },
  {
   "cell_type": "markdown",
   "id": "fe08194c-6715-47b1-be29-408c1b812462",
   "metadata": {},
   "source": [
    "Um ein Element anhand ihres Index zu löschen, können wir den Befehl **pop(i)** verwenden:"
   ]
  },
  {
   "cell_type": "code",
   "execution_count": 27,
   "id": "c272c128-feb8-4291-abf3-c29bf483564b",
   "metadata": {},
   "outputs": [
    {
     "name": "stdout",
     "output_type": "stream",
     "text": [
      "[4, 1, 4, 10, 15, 3]\n"
     ]
    }
   ],
   "source": [
    "liste = [4,1,4,-1,10,15,3]\n",
    "# Wir löschen das Element an der Position 3 (viertes Element)\n",
    "liste.pop(3)\n",
    "print(liste)"
   ]
  },
  {
   "cell_type": "markdown",
   "id": "986e3a49-4b06-4db4-9693-8435150e292f",
   "metadata": {},
   "source": [
    "Wenn wir \"pop()\" ohne Argument (i) verwenden, wird das letzte Element der Liste gelöscht und zurückgegeben."
   ]
  },
  {
   "cell_type": "code",
   "execution_count": 29,
   "id": "d0f0b2fa-4d18-41b4-8ab2-4b056efc9458",
   "metadata": {},
   "outputs": [
    {
     "name": "stdout",
     "output_type": "stream",
     "text": [
      "[4, 1, 4, -1, 10, 15]\n"
     ]
    }
   ],
   "source": [
    "liste = [4,1,4,-1,10,15,3]\n",
    "liste.pop()\n",
    "print(liste)"
   ]
  },
  {
   "cell_type": "markdown",
   "id": "c71bc3ed-44f3-4815-ac60-d9338efcefa3",
   "metadata": {},
   "source": [
    "## Elemente finden:"
   ]
  },
  {
   "cell_type": "markdown",
   "id": "7812fb20-a6d5-41f0-9f73-0be29d7e0752",
   "metadata": {},
   "source": [
    "Um den Index eines Elements in einer Liste zu finden, können Sie die index-Methode in Python verwenden.\n",
    "Beispiel:"
   ]
  },
  {
   "cell_type": "code",
   "execution_count": 30,
   "id": "087d297d-876a-4da0-be2a-99a20c537e35",
   "metadata": {},
   "outputs": [
    {
     "name": "stdout",
     "output_type": "stream",
     "text": [
      "Index des Elements mit dem Wert 30: 2\n"
     ]
    }
   ],
   "source": [
    "meine_liste = [10, 20, 30, 40, 50]\n",
    "\n",
    "# Index des Elements mit dem Wert 30 finden\n",
    "index_von_30 = meine_liste.index(30)\n",
    "\n",
    "print(\"Index des Elements mit dem Wert 30:\", index_von_30)\n"
   ]
  },
  {
   "cell_type": "markdown",
   "id": "66129f47-acef-4868-b05e-4e55a6d12bb5",
   "metadata": {},
   "source": [
    "In diesem Beispiel wird die index-Methode verwendet, um den Index des Elements mit dem Wert 30 in der Liste zu finden. Der gefundene Index wird dann auf der Konsole ausgegeben.\n",
    "\n",
    "Es ist wichtig zu beachten, dass die index-Methode nur das erste Vorkommen des gesuchten Elements zurückgibt."
   ]
  },
  {
   "cell_type": "markdown",
   "id": "616e8778-b768-4579-9240-44684c14862d",
   "metadata": {},
   "source": [
    "## Listen innerhalb von Listen:"
   ]
  },
  {
   "cell_type": "markdown",
   "id": "0146ee8f-f123-45b8-a4cc-adf260774c01",
   "metadata": {},
   "source": [
    "Das Konzept von Listen innerhalb von Listen wird als \"nested lists\" oder \"verschachtelte Listen\" bezeichnet. Es ermöglicht, Listen in anderen Listen einzubetten, was besonders nützlich ist, wenn Sie mit mehrdimensionalen Datenstrukturen arbeiten. Jede innere Liste wird als Subliste betrachtet. Hier ist eine Erklärung mit Beispielen in Python:"
   ]
  },
  {
   "cell_type": "code",
   "execution_count": 1,
   "id": "2098a8b0-5d0e-4f63-b73c-ac2540d620c7",
   "metadata": {},
   "outputs": [
    {
     "name": "stdout",
     "output_type": "stream",
     "text": [
      "[[1, 2, 3], [4, 5, 6], [7, 8, 9]]\n"
     ]
    }
   ],
   "source": [
    "matrix = [[1, 2, 3], [4, 5, 6], [7, 8, 9]]\n",
    "print(matrix)"
   ]
  },
  {
   "cell_type": "markdown",
   "id": "f1740a0e-3b74-4265-90ba-2e8572e1b283",
   "metadata": {},
   "source": [
    "In diesem Beispiel ist matrix eine Liste von drei Listen."
   ]
  },
  {
   "cell_type": "markdown",
   "id": "6db66a3b-1298-495a-96f4-47ad59231519",
   "metadata": {},
   "source": [
    "### Auf Elemente zugreifen:"
   ]
  },
  {
   "cell_type": "markdown",
   "id": "fa701803-37a3-4062-8e9f-c0d0a159ae5f",
   "metadata": {},
   "source": [
    "Um auf Elemente in einer verschachtelten Liste zuzugreifen, können Sie den Index[i][j] benutzen. Der erste Index (i) bezieht sich auf die äussere Liste. Er gibt an welches Element (bzw. welche Liste) innerhalb der äusseren Liste Sie wählen möchten.\n",
    "\n",
    "Der zweite Index (j) bezieht sich auf das Element in der ausgewählten inneren Liste. Sobald du die innere Liste mit dem ersten Index ausgewählt hast, gibt der zweite Index das Element an der entsprechenden Position in dieser inneren Liste."
   ]
  },
  {
   "cell_type": "code",
   "execution_count": 2,
   "id": "a77cf154-1c0d-44b5-924c-3a7804ccbacb",
   "metadata": {},
   "outputs": [
    {
     "name": "stdout",
     "output_type": "stream",
     "text": [
      "Element: 6\n"
     ]
    }
   ],
   "source": [
    "matrix = [[1, 2, 3], [4, 5, 6], [7, 8, 9]]\n",
    "\n",
    "# Zugriff auf das Element in der zweiten Liste, dritte Position\n",
    "element = matrix[1][2]\n",
    "print(\"Element:\", element)"
   ]
  },
  {
   "cell_type": "markdown",
   "id": "99d97cb5-9f3d-4397-9b59-d486b5eef643",
   "metadata": {},
   "source": [
    "### Beispiel Tic-Tac-Toe:"
   ]
  },
  {
   "cell_type": "markdown",
   "id": "9d484b2b-a862-4f6b-801d-2d0df99e841e",
   "metadata": {},
   "source": [
    "Die verschachtelten Listen eignen sich wunderbar, um zweidimensionale listen (Gitter) darzustellen.\n",
    "Folgendes Beispiel zeigt ein Tic-Tac-Toe-Board:"
   ]
  },
  {
   "cell_type": "code",
   "execution_count": 2,
   "id": "7670003c-ea7e-4e3c-b0b4-ccc6d4002583",
   "metadata": {},
   "outputs": [
    {
     "name": "stdout",
     "output_type": "stream",
     "text": [
      "[['X', ' ', ' '], [' ', 'O', 'X'], [' ', 'O', ' ']]\n"
     ]
    }
   ],
   "source": [
    "tic_tac_toe_board = [\n",
    "    ['X', ' ', ' '],\n",
    "    [' ', 'O', 'X'],\n",
    "    [' ', 'O', ' ']\n",
    "]\n",
    "print(tic_tac_toe_board)"
   ]
  },
  {
   "cell_type": "markdown",
   "id": "6e292355-aba9-480f-90c0-f1fe8a2199b6",
   "metadata": {},
   "source": [
    "Wir können dies jedoch auch ein wenig schöner ausgeben. Wir nutzen hierfür verschachtelte for-loops:"
   ]
  },
  {
   "cell_type": "code",
   "execution_count": 4,
   "id": "f6fdfa04-8f9c-423b-aaf0-52037e595e4c",
   "metadata": {},
   "outputs": [
    {
     "name": "stdout",
     "output_type": "stream",
     "text": [
      "['X', ' ', ' ']\n",
      "[' ', 'O', 'X']\n",
      "[' ', 'O', ' ']\n"
     ]
    }
   ],
   "source": [
    "tic_tac_toe_board = [\n",
    "    ['X', ' ', ' '],\n",
    "    [' ', 'O', 'X'],\n",
    "    [' ', 'O', ' ']\n",
    "]\n",
    "for zeile in tic_tac_toe_board:\n",
    "    print(zeile)"
   ]
  },
  {
   "cell_type": "markdown",
   "id": "02054892-1b70-4024-9085-bfb4329f06e2",
   "metadata": {},
   "source": [
    "# Aufgaben:"
   ]
  },
  {
   "cell_type": "markdown",
   "id": "90b7ebb9-80ef-4c5e-b00a-336d8941ece0",
   "metadata": {},
   "source": [
    "## Aufgabe 1:"
   ]
  },
  {
   "cell_type": "markdown",
   "id": "46010560-9f39-4b53-9a80-e9d627e03dbd",
   "metadata": {},
   "source": [
    "Was ist die Ausgabe des folgenden Codes? Versuche es erst ohne den Code auszuführen."
   ]
  },
  {
   "cell_type": "code",
   "execution_count": null,
   "id": "4476ba9d-4368-4515-a87f-1ccbe8e4389a",
   "metadata": {},
   "outputs": [],
   "source": [
    "stuff = [2, 25, 80, 12]\n",
    "stuff[stuff[0]] = stuff[3]\n",
    "print(stuff)"
   ]
  },
  {
   "cell_type": "markdown",
   "id": "38d746e0-cd1c-4a29-9df4-96c7f75da893",
   "metadata": {},
   "source": [
    "Lösung:\n",
    "\n",
    "stuff[0] = 2\n",
    "\n",
    "\n",
    "stuff[stuff[0]] = stuff[2] = 80\n",
    "\n",
    "\n",
    "Also wird 80 ausgegeben."
   ]
  },
  {
   "cell_type": "markdown",
   "id": "682fe694-6b27-49be-af6b-4511e85464cd",
   "metadata": {},
   "source": [
    "## Aufgabe 2:"
   ]
  },
  {
   "cell_type": "markdown",
   "id": "462a81ae-2c4b-47bc-86ec-24d3bb0b30d8",
   "metadata": {},
   "source": [
    "Fügen Sie eine zufällige Anzahl (zwischen 1 und 10) an zufälligen Zahlen (zwischen 0 und 100) einer Liste hinzu. Lassen Sie sich die Länge der Liste, sowie die Liste an Zahlen am Schluss ausgeben."
   ]
  },
  {
   "cell_type": "markdown",
   "id": "f232c9fa-9134-496a-870e-04043d5e47b8",
   "metadata": {},
   "source": [
    "Lösung:"
   ]
  },
  {
   "cell_type": "code",
   "execution_count": null,
   "id": "b7a3035e-cec0-400d-9c81-69ad0e535cca",
   "metadata": {},
   "outputs": [],
   "source": [
    "import random\n",
    "l = random.randint(1,10)\n",
    "liste = []\n",
    "for i in range(l):\n",
    "    x = random.randint(0,100)\n",
    "    liste.append(x)\n",
    "print(liste,len(liste))"
   ]
  },
  {
   "cell_type": "markdown",
   "id": "e920300e-2b2a-40fc-85a0-60bfdb86db73",
   "metadata": {},
   "source": [
    "## Aufgabe 3:"
   ]
  },
  {
   "cell_type": "markdown",
   "id": "fb12aa6c-d597-4643-9b35-195f0b864c6a",
   "metadata": {},
   "source": [
    "Schreibe eine Funktion middle(L), die eine Liste L als ihr Argument nimmt und das Element in der mittleren Position von L zurückgibt. (Damit die Mitte gut definiert ist, solltest du annehmen, dass die Länge von L ungerade ist.) Zum Beispiel sollte, wenn du middle([8, 0, 100, 12, 1]) aufrufst, 100 zurückgegeben werden."
   ]
  },
  {
   "cell_type": "markdown",
   "id": "43583132-b9d3-49fd-b83d-b572a94d4f18",
   "metadata": {},
   "source": [
    "Lösung:"
   ]
  },
  {
   "cell_type": "code",
   "execution_count": 5,
   "id": "3b123353-6fc4-4cb1-bcaf-51780aee70e4",
   "metadata": {},
   "outputs": [
    {
     "data": {
      "text/plain": [
       "100"
      ]
     },
     "execution_count": 5,
     "metadata": {},
     "output_type": "execute_result"
    }
   ],
   "source": [
    "def middle(L):\n",
    "    l = len(L)\n",
    "    return L[(l)//2]\n",
    "middle([8, 0, 100, 12, 1])"
   ]
  },
  {
   "cell_type": "markdown",
   "id": "730d9b80-d5ad-4620-8ea6-46cd8817daa4",
   "metadata": {},
   "source": [
    "## Aufgabe 4:"
   ]
  },
  {
   "cell_type": "code",
   "execution_count": null,
   "id": "4cf412a8-1cad-40da-8ae2-7201a9ce8394",
   "metadata": {},
   "outputs": [],
   "source": [
    "Versuche zu erklären, was in folgendem Code-Block geschieht:"
   ]
  },
  {
   "cell_type": "code",
   "execution_count": null,
   "id": "ec15c92e-b9e8-48ad-b416-1f3b30c297d0",
   "metadata": {},
   "outputs": [],
   "source": [
    "myPhoneNumber = [9, 6, 7] + [1]*4\n",
    "print(myPhoneNumber)\n",
    "newEmptyList = [0]*20\n",
    "print(newEmptyList)"
   ]
  },
  {
   "cell_type": "markdown",
   "id": "36f9dd9f-3887-4ad7-96b7-b335a38babd4",
   "metadata": {},
   "source": [
    "Lösung:"
   ]
  },
  {
   "cell_type": "markdown",
   "id": "8ed8ab95-195e-4793-952f-ee7c4035b2d6",
   "metadata": {},
   "source": [
    "Zwei Listen werden addiert:\n",
    "\n",
    "[9, 6, 7] + [1]*4\n",
    "\n",
    "Die zweite Liste [1]*4 generiert eine Liste mit 4 Einsen --> [1,1,1,1]. Wir können eine Liste mit einer Zahl multiplizieren, also ihre Eintäge vervielfältigen.\n",
    "Bsp:"
   ]
  },
  {
   "cell_type": "code",
   "execution_count": 6,
   "id": "1ac5aa3a-2896-469c-a5e3-56e8b5c0e7f4",
   "metadata": {},
   "outputs": [
    {
     "name": "stdout",
     "output_type": "stream",
     "text": [
      "[1, 2, 3, 1, 2, 3, 1, 2, 3, 1, 2, 3, 1, 2, 3, 1, 2, 3, 1, 2, 3, 1, 2, 3, 1, 2, 3, 1, 2, 3]\n"
     ]
    }
   ],
   "source": [
    "liste = [1,2,3]\n",
    "print(liste*10)"
   ]
  },
  {
   "cell_type": "markdown",
   "id": "5c22f66c-f26f-4e70-b2e7-0291df237b2b",
   "metadata": {},
   "source": [
    "## Aufgabe 5:"
   ]
  },
  {
   "cell_type": "markdown",
   "id": "3c962942-9f5c-4fd3-ae49-d1c19cf6ffe3",
   "metadata": {},
   "source": [
    "Schreiben Sie eine Funktion naturalNumbers, die eine positive Ganzzahl n als Eingabe nimmt, und eine Liste [1, 2, ...] zurückgibt, die aus den ersten n natürlichen Zahlen besteht."
   ]
  },
  {
   "cell_type": "code",
   "execution_count": 9,
   "id": "436efeb9-f2fc-4d10-9289-c0a7be0223c5",
   "metadata": {},
   "outputs": [
    {
     "name": "stdout",
     "output_type": "stream",
     "text": [
      "None\n"
     ]
    }
   ],
   "source": []
  },
  {
   "cell_type": "markdown",
   "id": "087b353b-1ff4-4b40-9e8f-2cd31ab75c0e",
   "metadata": {},
   "source": [
    "## Aufgabe 6:"
   ]
  },
  {
   "cell_type": "markdown",
   "id": "9c6517da-92f9-4dde-8d28-75efe16223db",
   "metadata": {},
   "source": [
    "Schauen Sie sich die folgenden zwei Funktionen und deren Output an:"
   ]
  },
  {
   "cell_type": "code",
   "execution_count": null,
   "id": "df42a687-d58a-46ef-829f-92f0e1c27f50",
   "metadata": {},
   "outputs": [],
   "source": [
    "list = [3, 10, 4, 9, 0]\n",
    "print(sum(list))\n",
    "print(max(list))"
   ]
  },
  {
   "cell_type": "markdown",
   "id": "e8e4daac-c31f-4888-b84a-c5b5dfbd5d20",
   "metadata": {},
   "source": [
    "Definieren Sie nun eine Funktion prod(L), die das Produkt der Elemente in einer Liste L ausgibt."
   ]
  },
  {
   "cell_type": "markdown",
   "id": "5956faea-55ad-4043-a004-4134b7611549",
   "metadata": {},
   "source": [
    "Lösung:"
   ]
  },
  {
   "cell_type": "code",
   "execution_count": 9,
   "id": "6bd79dc3-5d38-4582-9120-6134597df68f",
   "metadata": {},
   "outputs": [
    {
     "data": {
      "text/plain": [
       "0"
      ]
     },
     "execution_count": 9,
     "metadata": {},
     "output_type": "execute_result"
    }
   ],
   "source": [
    "list = [3, 10, 4, 9, 0]\n",
    "def prod(L):\n",
    "    produkt = 1\n",
    "    for element in L: #Durch alle Elemente iterieren\n",
    "        produkt *= element\n",
    "    return element\n",
    "prod(list)"
   ]
  },
  {
   "cell_type": "markdown",
   "id": "185c1cae-64d1-4746-b892-1b3322ef4b26",
   "metadata": {},
   "source": [
    "## Aufgabe 7:"
   ]
  },
  {
   "cell_type": "markdown",
   "id": "473bf83a-48cb-4f14-92f6-2bfe85993ee4",
   "metadata": {},
   "source": [
    "Nutzen Sie verschachtelte Listen, um ein Vier-Gewinnt-Spielbrett zu programmmieren. Zeichnen Sie zwei Spielsituationen, bei denen jeweils eine Person gewinnt, ins Spielfeld ein. (Nutzen Sie X und O für die zwei spielenden)"
   ]
  },
  {
   "cell_type": "markdown",
   "id": "37148c0a-9ac5-4d68-b2bf-fc696e979a8a",
   "metadata": {},
   "source": [
    "Lösung:"
   ]
  },
  {
   "cell_type": "code",
   "execution_count": 35,
   "id": "1433737f-0f3c-4534-b17b-7e27da0c4583",
   "metadata": {},
   "outputs": [
    {
     "name": "stdout",
     "output_type": "stream",
     "text": [
      "Situation 1\n",
      "[' ', ' ', ' ', ' ', ' ', ' ', ' ']\n",
      "[' ', ' ', ' ', ' ', ' ', ' ', ' ']\n",
      "[' ', ' ', ' ', ' ', ' ', ' ', ' ']\n",
      "[' ', ' ', ' ', ' ', ' ', ' ', ' ']\n",
      "['O', ' ', 'O', ' ', ' ', ' ', ' ']\n",
      "['X', 'X', 'X', 'X', 'O', 'O', ' ']\n",
      "Situation 2\n",
      "[' ', ' ', ' ', ' ', ' ', ' ', ' ']\n",
      "[' ', ' ', ' ', ' ', ' ', ' ', ' ']\n",
      "['X', ' ', ' ', ' ', ' ', ' ', ' ']\n",
      "['X', ' ', ' ', ' ', ' ', ' ', ' ']\n",
      "['X', ' ', ' ', ' ', ' ', ' ', ' ']\n",
      "['X', 'O', 'O', ' ', 'O', 'O', ' ']\n"
     ]
    }
   ],
   "source": [
    "spielbrett = [[\" \",\" \",\" \",\" \",\" \",\" \",\" \"],\n",
    "              [\" \",\" \",\" \",\" \",\" \",\" \",\" \"],\n",
    "              [\" \",\" \",\" \",\" \",\" \",\" \",\" \"],\n",
    "              [\" \",\" \",\" \",\" \",\" \",\" \",\" \"],\n",
    "              [\" \",\" \",\" \",\" \",\" \",\" \",\" \"],\n",
    "              [\" \",\" \",\" \",\" \",\" \",\" \",\" \"]]\n",
    "\n",
    "spielbrett[5][0] = \"X\"\n",
    "spielbrett[5][1] = \"X\"\n",
    "spielbrett[5][2] = \"X\"\n",
    "spielbrett[5][3] = \"X\"\n",
    "spielbrett[4][0] = \"O\"\n",
    "spielbrett[4][2] = \"O\"\n",
    "spielbrett[5][4] = \"O\"\n",
    "spielbrett[5][5] = \"O\"\n",
    "print(\"Situation 1\")\n",
    "for zeile in spielbrett:\n",
    "    print(zeile)\n",
    "\n",
    "spielbrett = [[\" \",\" \",\" \",\" \",\" \",\" \",\" \"],\n",
    "              [\" \",\" \",\" \",\" \",\" \",\" \",\" \"],\n",
    "              [\" \",\" \",\" \",\" \",\" \",\" \",\" \"],\n",
    "              [\" \",\" \",\" \",\" \",\" \",\" \",\" \"],\n",
    "              [\" \",\" \",\" \",\" \",\" \",\" \",\" \"],\n",
    "              [\" \",\" \",\" \",\" \",\" \",\" \",\" \"]]\n",
    "\n",
    "spielbrett[5][0] = \"X\"\n",
    "spielbrett[4][0] = \"X\"\n",
    "spielbrett[3][0] = \"X\"\n",
    "spielbrett[2][0] = \"X\"\n",
    "spielbrett[5][1] = \"O\"\n",
    "spielbrett[5][2] = \"O\"\n",
    "spielbrett[5][4] = \"O\"\n",
    "spielbrett[5][5] = \"O\"\n",
    "print(\"Situation 2\")\n",
    "for zeile in spielbrett:\n",
    "    print(zeile)\n"
   ]
  },
  {
   "cell_type": "markdown",
   "id": "b2fffd16-3719-4074-9913-2040fa7e75d5",
   "metadata": {},
   "source": [
    "## Zusatzaufgabe 8:"
   ]
  },
  {
   "cell_type": "code",
   "execution_count": null,
   "id": "c5f4355c-9743-455e-bd01-bb203e41b890",
   "metadata": {},
   "outputs": [],
   "source": [
    "Was ist der Wert von x, der mystery(x) dazu bringen wird, unendlich zu laufen?"
   ]
  },
  {
   "cell_type": "code",
   "execution_count": null,
   "id": "6923a4b6-7763-495d-8d05-1e85490dbde5",
   "metadata": {},
   "outputs": [],
   "source": [
    "def mystery(x):\n",
    "  a = [0, 4, 0, 3, 2]\n",
    "  while x > 0:\n",
    "    x = a[x]\n",
    "  return \"Done\""
   ]
  },
  {
   "cell_type": "markdown",
   "id": "06737fa7-1a97-4717-b48b-c16e5fe06b0d",
   "metadata": {},
   "source": [
    "Lösung:"
   ]
  },
  {
   "cell_type": "markdown",
   "id": "20fadafd-507f-4e95-9766-e9ee7383b4bb",
   "metadata": {},
   "source": [
    "Mögliche Werte: x in [0,1,2,3,4] --> wegen a[x] muss x ein Index der Liste sein."
   ]
  },
  {
   "cell_type": "code",
   "execution_count": 39,
   "id": "3cfd623f-7ce2-4ae4-a1d2-fd417eded15f",
   "metadata": {},
   "outputs": [
    {
     "ename": "KeyboardInterrupt",
     "evalue": "",
     "output_type": "error",
     "traceback": [
      "\u001b[0;31m---------------------------------------------------------------------------\u001b[0m",
      "\u001b[0;31mKeyboardInterrupt\u001b[0m                         Traceback (most recent call last)",
      "Cell \u001b[0;32mIn[39], line 9\u001b[0m\n\u001b[1;32m      7\u001b[0m mystery(\u001b[38;5;241m1\u001b[39m)\n\u001b[1;32m      8\u001b[0m mystery(\u001b[38;5;241m2\u001b[39m)\n\u001b[0;32m----> 9\u001b[0m \u001b[43mmystery\u001b[49m\u001b[43m(\u001b[49m\u001b[38;5;241;43m3\u001b[39;49m\u001b[43m)\u001b[49m\n",
      "Cell \u001b[0;32mIn[39], line 4\u001b[0m, in \u001b[0;36mmystery\u001b[0;34m(x)\u001b[0m\n\u001b[1;32m      2\u001b[0m a \u001b[38;5;241m=\u001b[39m [\u001b[38;5;241m0\u001b[39m, \u001b[38;5;241m4\u001b[39m, \u001b[38;5;241m0\u001b[39m, \u001b[38;5;241m3\u001b[39m, \u001b[38;5;241m2\u001b[39m]\n\u001b[1;32m      3\u001b[0m \u001b[38;5;28;01mwhile\u001b[39;00m x \u001b[38;5;241m>\u001b[39m \u001b[38;5;241m0\u001b[39m:\n\u001b[0;32m----> 4\u001b[0m   x \u001b[38;5;241m=\u001b[39m \u001b[43ma\u001b[49m\u001b[43m[\u001b[49m\u001b[43mx\u001b[49m\u001b[43m]\u001b[49m\n\u001b[1;32m      5\u001b[0m \u001b[38;5;28;01mreturn\u001b[39;00m \u001b[38;5;124m\"\u001b[39m\u001b[38;5;124mDone\u001b[39m\u001b[38;5;124m\"\u001b[39m\n",
      "\u001b[0;31mKeyboardInterrupt\u001b[0m: "
     ]
    }
   ],
   "source": [
    "def mystery(x):\n",
    "  a = [0, 4, 0, 3, 2]\n",
    "  while x > 0:\n",
    "    x = a[x]\n",
    "  return \"Done\"\n",
    "mystery(0)\n",
    "mystery(1)\n",
    "mystery(2)\n",
    "mystery(3) #Läuft unendlich weiter!"
   ]
  },
  {
   "cell_type": "markdown",
   "id": "f5ff02fe-f646-403f-8533-5f8ac06a0f38",
   "metadata": {},
   "source": [
    "mystery(3) läuft unendlich weiter aus folgendem Grund:\n",
    "\n",
    "Wir haben einen while x > 0 loop. Anfangs wird x 3 gewählt und somit findet eine Iteration statt. Danach wird dem Wert x der Wert der Liste an der Stelle x (also 3) zugewiesen. Die Liste hat jedoch an der dritten Stelle den Wert 3, und somit bleibt der Wert x stets gleich. Dadurch wird der Loop unendlich oft ausgeführt."
   ]
  },
  {
   "cell_type": "markdown",
   "id": "83ba840b-1ca2-4c78-9337-a6777943a9fe",
   "metadata": {},
   "source": [
    "## Zusatzaufgabe 9:"
   ]
  },
  {
   "cell_type": "markdown",
   "id": "10af1a01-2a77-4af8-b287-a9466b49fbf9",
   "metadata": {},
   "source": [
    "Bauen Sie aus Aufgabe 7 ein funktionierendes Spiel."
   ]
  },
  {
   "cell_type": "markdown",
   "id": "af62cd75-7fbe-4f2b-9370-5b4406607002",
   "metadata": {},
   "source": [
    "Lösung Individuell!"
   ]
  }
 ],
 "metadata": {
  "kernelspec": {
   "display_name": "Python 3 (ipykernel)",
   "language": "python",
   "name": "python3"
  },
  "language_info": {
   "codemirror_mode": {
    "name": "ipython",
    "version": 3
   },
   "file_extension": ".py",
   "mimetype": "text/x-python",
   "name": "python",
   "nbconvert_exporter": "python",
   "pygments_lexer": "ipython3",
   "version": "3.9.7"
  }
 },
 "nbformat": 4,
 "nbformat_minor": 5
}
