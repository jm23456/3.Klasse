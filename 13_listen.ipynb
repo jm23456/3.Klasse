{
 "cells": [
  {
   "cell_type": "markdown",
   "id": "a70964e2-ece7-4b60-bb9f-3782b3c3dce4",
   "metadata": {},
   "source": [
    "# Listen"
   ]
  },
  {
   "cell_type": "markdown",
   "id": "11cf6ce8-6354-462e-b6e9-0a1a503dc8b2",
   "metadata": {},
   "source": [
    "Eine Liste ist eine Reihe von mehreren Variablen, die unter einem einzelnen Namen zusammengefasst werden. \n",
    "Anstatt ein Programm mit vielen Variablen x0, x1, x2 zu schreiben, können Sie eine einzelne Variable x definieren und ihre einzelnen Mitglieder x[0], x[1], x[2], etc aufrufen. \n",
    "Was noch wichtiger ist: Sie können andere Ausdrücke und Variablen in die eckigen Klammern setzen, wie x[i] und x[i+1]. Dies erlaubt es uns, mit beliebig großen Datensätzen umzugehen, indem wir nur ein einziges kleines Stück Code benutzen.\n",
    "\n",
    "Ein Weg, eine Liste zu erzeugen ist es, mehrere Variablen beizufügen, die durch Kommas in eckigen Klammern getrennt werden:\n",
    "(Eckige Klammern mit ALT+5, ALT+6)"
   ]
  },
  {
   "cell_type": "code",
   "execution_count": 1,
   "id": "a33b29eb-5280-4acd-98e7-dd51d8b49148",
   "metadata": {},
   "outputs": [],
   "source": [
    "myList = [\"der erste Wert der Liste\", 1999, 4.5]"
   ]
  },
  {
   "cell_type": "markdown",
   "id": "58cf88af-0306-4798-ab9f-830b7dc2106b",
   "metadata": {},
   "source": [
    "Dies erzeugt eine Liste, die den Namen myList und eine Länge von 3 hat. Jedes Element der Liste bekommt eine Nummer zugeordnet, die man seinen Index nennt:\n",
    "Das erste Element hat den Index 0, das nächste hat den Index 1 und so weiter (wie auch bei einem String, dort erhaltet allerdings ein Character einen Index). Die individuellen Variablen, aus denen die Liste besteht, haben die Namen\n",
    "«listName»[«indexNumber»]"
   ]
  },
  {
   "cell_type": "markdown",
   "id": "94c2094f-c44a-4f9f-a066-1845dcda840f",
   "metadata": {},
   "source": [
    "## Werte ausgeben und ändern:"
   ]
  },
  {
   "cell_type": "markdown",
   "id": "f563794c-7230-43b6-9e3a-2b194c413bce",
   "metadata": {},
   "source": [
    "Also ist in diesem Beispiel myList[0] eine Variable, deren Wert folgende Zeichenkette ist: \"the first value in the list\" und print(myList[2]) ergibt 4.5. Sie können ausserdem die Werte der einzelnen Elemente der Liste ändern und komplette Listen ausgeben:"
   ]
  },
  {
   "cell_type": "code",
   "execution_count": 4,
   "id": "51b367ef-4ee1-4b51-a594-2b23e2dc2f78",
   "metadata": {},
   "outputs": [
    {
     "name": "stdout",
     "output_type": "stream",
     "text": [
      "der erste Wert der Liste\n",
      "1999\n",
      "4.5\n"
     ]
    }
   ],
   "source": [
    "myList = [\"der erste Wert der Liste\", 1999, 4.5]\n",
    "print(myList[0]) #Einzeln ausgeben\n",
    "print(myList[1])\n",
    "print(myList[2])"
   ]
  },
  {
   "cell_type": "code",
   "execution_count": 5,
   "id": "8d877cf0-c4f1-4706-beb6-f9ee969c1254",
   "metadata": {},
   "outputs": [
    {
     "name": "stdout",
     "output_type": "stream",
     "text": [
      "['der erste Wert der Liste', 1999, 4.5]\n"
     ]
    }
   ],
   "source": [
    "myList = [\"der erste Wert der Liste\", 1999, 4.5]\n",
    "print(myList) #Gesamte Liste ausgeben"
   ]
  },
  {
   "cell_type": "code",
   "execution_count": 2,
   "id": "501ee2eb-346b-4330-bc28-a080ba012313",
   "metadata": {
    "scrolled": true
   },
   "outputs": [
    {
     "name": "stdout",
     "output_type": "stream",
     "text": [
      "Alte Liste ['der erste Wert der Liste', 1999, 4.5]\n",
      "Neue Liste ['Erstes Element', 1999, 'Letztes Element']\n"
     ]
    }
   ],
   "source": [
    "myList = [\"der erste Wert der Liste\", 1999, 4.5]\n",
    "print(\"Alte Liste\",myList)\n",
    "myList[0] = \"Erstes Element\" #Werte in der Liste ersetzen\n",
    "myList[2] = \"Letztes Element\" #Werte in der Liste ersetzen\n",
    "print(\"Neue Liste\",myList)"
   ]
  },
  {
   "cell_type": "markdown",
   "id": "d80e0fcb-b77d-4e58-b789-5a2d304a3a10",
   "metadata": {},
   "source": [
    "## Länge einer Liste messen:"
   ]
  },
  {
   "cell_type": "markdown",
   "id": "ea7322b2-7d57-48c7-a557-44489a83fe6a",
   "metadata": {},
   "source": [
    "Die Länge einer Liste können wir Messen, indem wir len(liste) benützen:"
   ]
  },
  {
   "cell_type": "code",
   "execution_count": 11,
   "id": "eb37ab3d-3d1c-42b9-a930-2a1eda8ed874",
   "metadata": {},
   "outputs": [
    {
     "name": "stdout",
     "output_type": "stream",
     "text": [
      "Länge der Liste:  144\n"
     ]
    }
   ],
   "source": [
    "liste = [3,5,1,7,2,5,7,8,4,3,2,3,5,6,7,8,5,4,3,2,2,3,5,6,3,5,1,7,2,5,7,8,4,3,2,3,5,6,7,8,5,4,3,2,2,3,5,6,3,5,1,7,2,5,7,8,4,3,2,3,5,6,7,8,5,4,3,2,2,3,5,6,3,5,1,7,2,5,7,8,4,3,2,3,5,6,7,8,5,4,3,2,2,3,5,6,3,5,1,7,2,5,7,8,4,3,2,3,5,6,7,8,5,4,3,2,2,3,5,6,3,5,1,7,2,5,7,8,4,3,2,3,5,6,7,8,5,4,3,2,2,3,5,6]\n",
    "print(\"Länge der Liste: \",len(liste))"
   ]
  },
  {
   "cell_type": "markdown",
   "id": "a73eba81-91c3-46fc-a9ad-3d45b1d347b8",
   "metadata": {},
   "source": [
    "## Durch Listen iterieren:"
   ]
  },
  {
   "cell_type": "markdown",
   "id": "eb1bca08-6de3-4da9-a0d1-e27d4a73a0a0",
   "metadata": {},
   "source": [
    "### Variante 1:"
   ]
  },
  {
   "cell_type": "markdown",
   "id": "85e80d86-b9d7-4a69-949e-7b2031d395e6",
   "metadata": {},
   "source": [
    "Da Listen mit Index arbeiten, können wir die Listenelemente anhand ihres Indexes mit einer for-Schleife ausgeben:"
   ]
  },
  {
   "cell_type": "code",
   "execution_count": 13,
   "id": "61d94417-1cec-4685-9af4-0ab46ed57b7e",
   "metadata": {},
   "outputs": [
    {
     "name": "stdout",
     "output_type": "stream",
     "text": [
      "Französich\n",
      "Englisch\n",
      "Deutsch\n",
      "Mathematik\n",
      "Informatik\n"
     ]
    }
   ],
   "source": [
    "schulfächer = [\"Französich\",\"Englisch\",\"Deutsch\",\"Mathematik\",\"Informatik\"]\n",
    "länge = len(schulfächer)\n",
    "for i in range(länge):\n",
    "    print(schulfächer[i])"
   ]
  },
  {
   "cell_type": "markdown",
   "id": "e13a2c01-f238-4f0e-b633-9d18c26fc93b",
   "metadata": {},
   "source": [
    "### Variante 2:"
   ]
  },
  {
   "cell_type": "markdown",
   "id": "a025403d-8feb-4d37-870a-f77d48c700b5",
   "metadata": {},
   "source": [
    "Wir können direkt durch die Liste iterieren, indem wir \"**for** *element* **in** *liste*\" nutzen. So wird jedes Element der Liste nacheinander ausgegeben."
   ]
  },
  {
   "cell_type": "code",
   "execution_count": 16,
   "id": "229c3e13-882c-45a7-9b64-cb4d0994e73b",
   "metadata": {},
   "outputs": [
    {
     "name": "stdout",
     "output_type": "stream",
     "text": [
      "Französich\n",
      "Englisch\n",
      "Deutsch\n",
      "Mathematik\n",
      "Informatik\n"
     ]
    }
   ],
   "source": [
    "schulfächer = [\"Französich\",\"Englisch\",\"Deutsch\",\"Mathematik\",\"Informatik\"]\n",
    "\n",
    "for schulfach in schulfächer:\n",
    "    print(schulfach)"
   ]
  },
  {
   "cell_type": "markdown",
   "id": "a877abd4-519c-4c96-a3b0-160805fa7587",
   "metadata": {},
   "source": [
    "Wichtig: Die Namensgebung der Schleifenvariable z.B \"schulfach\" spielt hierbei keine Rolle."
   ]
  },
  {
   "cell_type": "markdown",
   "id": "2870076f-f027-405d-a1cd-44cc7a603182",
   "metadata": {},
   "source": [
    "## Elemente hinzufügen/entfernen:"
   ]
  },
  {
   "cell_type": "markdown",
   "id": "57f0cd8f-a798-4208-a8fa-8a01ef71e117",
   "metadata": {},
   "source": [
    "### Elemente hinzufügen:"
   ]
  },
  {
   "cell_type": "markdown",
   "id": "3bce2db7-5b73-42ac-b966-847132567ab1",
   "metadata": {},
   "source": [
    "Um Elemente zu einer Liste hinzuzufügen oder zu entfernen, können Sie verschiedene Methoden in Python verwenden. Hier sind Beispiele für beide Aktionen:"
   ]
  },
  {
   "cell_type": "code",
   "execution_count": 31,
   "id": "363de03b-f82e-4f6a-9a55-d8a05243e4ae",
   "metadata": {},
   "outputs": [
    {
     "name": "stdout",
     "output_type": "stream",
     "text": [
      "[1, 2, 3, 4, 5, 6]\n"
     ]
    }
   ],
   "source": [
    "meine_liste = [1, 2, 3, 4, 5]\n",
    "meine_liste.append(6) # Element hinzufügen (an letzter Position)\n",
    "\n",
    "print(meine_liste)"
   ]
  },
  {
   "cell_type": "markdown",
   "id": "e4dee803-1dc2-484f-9ab4-7e1ec6dc7e1d",
   "metadata": {},
   "source": [
    "In diesem Beispiel wird die **append**-Funktion verwendet, um die Zahl 6 am Ende der Liste hinzuzufügen."
   ]
  },
  {
   "cell_type": "markdown",
   "id": "b7c7dc97-5e3a-4048-a1e5-4f827f181659",
   "metadata": {},
   "source": [
    "Wir können die Listen auch einfach \"Addieren\", um die Elemente zweier Listen einer einzigen hinzuzufügen:"
   ]
  },
  {
   "cell_type": "code",
   "execution_count": 26,
   "id": "3040ea36-c91e-47ab-b7e7-920751a21a61",
   "metadata": {},
   "outputs": [
    {
     "name": "stdout",
     "output_type": "stream",
     "text": [
      "['Hallo', 'Bye', 'Ciao']\n"
     ]
    }
   ],
   "source": [
    "liste = [\"Hallo\"]\n",
    "liste = liste + [\"Bye\",\"Ciao\"]\n",
    "print(liste)"
   ]
  },
  {
   "cell_type": "markdown",
   "id": "f64a6478-1b05-4007-a50f-caeac8a03ab2",
   "metadata": {},
   "source": [
    "### Elemente entfernen:"
   ]
  },
  {
   "cell_type": "markdown",
   "id": "ffabb0e1-5af5-45f0-9258-85ce3de8fc72",
   "metadata": {},
   "source": [
    "Um Elemente zu entfernen, können wir die **remove**-Funktion nutzen."
   ]
  },
  {
   "cell_type": "code",
   "execution_count": 20,
   "id": "f1dedc68-b508-4557-8aa3-d1af72514c9a",
   "metadata": {},
   "outputs": [
    {
     "name": "stdout",
     "output_type": "stream",
     "text": [
      "[1, 2, 3, 5]\n"
     ]
    }
   ],
   "source": [
    "meine_liste = [1, 2, 3, 4, 5]\n",
    "meine_liste.remove(4) #Element \"4\" löschen\n",
    "print(meine_liste)"
   ]
  },
  {
   "cell_type": "markdown",
   "id": "ddbef2d6-b2cf-49c9-b708-7568232ac939",
   "metadata": {},
   "source": [
    "Um ein Element anhand ihres Index i zu löschen, können wir den Befehl **pop(i)** verwenden:"
   ]
  },
  {
   "cell_type": "code",
   "execution_count": 27,
   "id": "c272c128-feb8-4291-abf3-c29bf483564b",
   "metadata": {},
   "outputs": [
    {
     "name": "stdout",
     "output_type": "stream",
     "text": [
      "[4, 1, 4, 10, 15, 3]\n"
     ]
    }
   ],
   "source": [
    "liste = [4,1,4,-1,10,15,3]\n",
    "# Wir löschen das Element an der Position 3 (viertes Element)\n",
    "liste.pop(3)\n",
    "print(liste)"
   ]
  },
  {
   "cell_type": "markdown",
   "id": "986e3a49-4b06-4db4-9693-8435150e292f",
   "metadata": {},
   "source": [
    "Wenn wir \"pop()\" ohne Argument (i) verwenden, wird das letzte Element der Liste gelöscht und zurückgegeben."
   ]
  },
  {
   "cell_type": "code",
   "execution_count": 29,
   "id": "d0f0b2fa-4d18-41b4-8ab2-4b056efc9458",
   "metadata": {},
   "outputs": [
    {
     "name": "stdout",
     "output_type": "stream",
     "text": [
      "[4, 1, 4, -1, 10, 15]\n"
     ]
    }
   ],
   "source": [
    "liste = [4,1,4,-1,10,15,3]\n",
    "liste.pop()\n",
    "print(liste)"
   ]
  },
  {
   "cell_type": "markdown",
   "id": "c71bc3ed-44f3-4815-ac60-d9338efcefa3",
   "metadata": {},
   "source": [
    "## Elemente finden:"
   ]
  },
  {
   "cell_type": "markdown",
   "id": "7812fb20-a6d5-41f0-9f73-0be29d7e0752",
   "metadata": {},
   "source": [
    "Um den Index eines Elements in einer Liste zu finden, können Sie die **index**-Funktion in Python verwenden.\n",
    "Beispiel:"
   ]
  },
  {
   "cell_type": "code",
   "execution_count": 30,
   "id": "087d297d-876a-4da0-be2a-99a20c537e35",
   "metadata": {},
   "outputs": [
    {
     "name": "stdout",
     "output_type": "stream",
     "text": [
      "Index des Elements mit dem Wert 30: 2\n"
     ]
    }
   ],
   "source": [
    "meine_liste = [10, 20, 30, 40, 50]\n",
    "\n",
    "# Index des Elements mit dem Wert 30 finden\n",
    "index_von_30 = meine_liste.index(30)\n",
    "\n",
    "print(\"Index des Elements mit dem Wert 30:\", index_von_30)\n"
   ]
  },
  {
   "cell_type": "markdown",
   "id": "66129f47-acef-4868-b05e-4e55a6d12bb5",
   "metadata": {},
   "source": [
    "In diesem Beispiel wird die index-Funktion verwendet, um den Index des Elements mit dem Wert 30 in der Liste zu finden. Der gefundene Index wird dann auf der Konsole ausgegeben.\n",
    "\n",
    "Es ist wichtig zu beachten, dass die index-Funktion nur das erste Vorkommen des gesuchten Elements zurückgibt."
   ]
  },
  {
   "cell_type": "markdown",
   "id": "616e8778-b768-4579-9240-44684c14862d",
   "metadata": {},
   "source": [
    "## Listen innerhalb von Listen:"
   ]
  },
  {
   "cell_type": "markdown",
   "id": "0146ee8f-f123-45b8-a4cc-adf260774c01",
   "metadata": {},
   "source": [
    "Das Konzept von Listen innerhalb von Listen wird als \"nested lists\" oder \"verschachtelte Listen\" bezeichnet. Es ermöglicht, Listen in anderen Listen einzubetten, was besonders nützlich ist, wenn Sie mit mehrdimensionalen Datenstrukturen arbeiten. Jede innere Liste wird als Subliste betrachtet. Hier ist eine Erklärung mit Beispielen in Python:"
   ]
  },
  {
   "cell_type": "code",
   "execution_count": 7,
   "id": "2098a8b0-5d0e-4f63-b73c-ac2540d620c7",
   "metadata": {},
   "outputs": [
    {
     "name": "stdout",
     "output_type": "stream",
     "text": [
      "[[1, 2, 3], [4, 5, 6], [7, 8, 9]]\n"
     ]
    }
   ],
   "source": [
    "matrix = [[1, 2, 3], [4, 5, 6], [7, 8, 9]]\n",
    "print(matrix)"
   ]
  },
  {
   "cell_type": "markdown",
   "id": "17021f39-8163-484c-9f50-7cdba62d8c44",
   "metadata": {},
   "source": [
    "In diesem Beispiel ist matrix eine Liste von drei Elementen, welche Listen sind."
   ]
  },
  {
   "cell_type": "markdown",
   "id": "6db66a3b-1298-495a-96f4-47ad59231519",
   "metadata": {},
   "source": [
    "### Auf Elemente zugreifen in verschachtelten Listen:"
   ]
  },
  {
   "cell_type": "markdown",
   "id": "d2710e98-2093-4163-a766-b83ff2e610c6",
   "metadata": {},
   "source": [
    "Um auf Elemente in einer verschachtelten Liste zuzugreifen, können Sie den **Index[i][j]** benutzen. Der erste Index (i) bezieht sich auf die äussere Liste. Er gibt an welches Element (bzw. welche Liste) innerhalb der äusseren Liste Sie wählen möchten.\n",
    "\n",
    "Der zweite Index (j) bezieht sich auf das Element in der ausgewählten inneren Liste. Sobald du die innere Liste mit dem ersten Index ausgewählt hast, gibt der zweite Index das Element an der entsprechenden Position in dieser inneren Liste."
   ]
  },
  {
   "cell_type": "code",
   "execution_count": 11,
   "id": "a77cf154-1c0d-44b5-924c-3a7804ccbacb",
   "metadata": {
    "scrolled": true
   },
   "outputs": [
    {
     "name": "stdout",
     "output_type": "stream",
     "text": [
      "Element: 6\n"
     ]
    }
   ],
   "source": [
    "matrix = [[1, 2, 3], [4, 5, 6], [7, 8, 9]]\n",
    "\n",
    "# Zugriff auf das Element in der zweiten Liste, dritte Position\n",
    "element = matrix[1][2]\n",
    "print(\"Element:\", element)"
   ]
  },
  {
   "cell_type": "markdown",
   "id": "99d97cb5-9f3d-4397-9b59-d486b5eef643",
   "metadata": {},
   "source": [
    "### Beispiel Tic-Tac-Toe:"
   ]
  },
  {
   "cell_type": "markdown",
   "id": "a5f5d64c-9ab3-4dd1-bd31-3895bbc7e85a",
   "metadata": {},
   "source": [
    "Die verschachtelten Listen eignen sich wunderbar, um zweidimensionale Listen (Gitter) darzustellen.\n",
    "Folgendes Beispiel zeigt ein Tic-Tac-Toe-Board:"
   ]
  },
  {
   "cell_type": "code",
   "execution_count": 10,
   "id": "7670003c-ea7e-4e3c-b0b4-ccc6d4002583",
   "metadata": {},
   "outputs": [
    {
     "name": "stdout",
     "output_type": "stream",
     "text": [
      "[['X', ' ', ' '], [' ', 'O', 'X'], [' ', 'O', ' ']]\n"
     ]
    }
   ],
   "source": [
    "tic_tac_toe_board = [\n",
    "    ['X', ' ', ' '],\n",
    "    [' ', 'O', 'X'],\n",
    "    [' ', 'O', ' ']\n",
    "]\n",
    "print(tic_tac_toe_board)"
   ]
  },
  {
   "cell_type": "markdown",
   "id": "6e292355-aba9-480f-90c0-f1fe8a2199b6",
   "metadata": {},
   "source": [
    "Wir können dies jedoch auch ein wenig schöner ausgeben. Wir nutzen hierfür verschachtelte for-loops:"
   ]
  },
  {
   "cell_type": "code",
   "execution_count": 4,
   "id": "f6fdfa04-8f9c-423b-aaf0-52037e595e4c",
   "metadata": {},
   "outputs": [
    {
     "name": "stdout",
     "output_type": "stream",
     "text": [
      "['X', ' ', ' ']\n",
      "[' ', 'O', 'X']\n",
      "[' ', 'O', ' ']\n"
     ]
    }
   ],
   "source": [
    "tic_tac_toe_board = [\n",
    "    ['X', ' ', ' '],\n",
    "    [' ', 'O', 'X'],\n",
    "    [' ', 'O', ' ']\n",
    "]\n",
    "for zeile in tic_tac_toe_board:\n",
    "    print(zeile)"
   ]
  },
  {
   "cell_type": "markdown",
   "id": "02054892-1b70-4024-9085-bfb4329f06e2",
   "metadata": {},
   "source": [
    "# Aufgaben:"
   ]
  },
  {
   "cell_type": "markdown",
   "id": "90b7ebb9-80ef-4c5e-b00a-336d8941ece0",
   "metadata": {},
   "source": [
    "## Aufgabe 1:"
   ]
  },
  {
   "cell_type": "markdown",
   "id": "46010560-9f39-4b53-9a80-e9d627e03dbd",
   "metadata": {},
   "source": [
    "Was ist die Ausgabe des folgenden Codes? Versuche es erst ohne den Code auszuführen."
   ]
  },
  {
   "cell_type": "code",
   "execution_count": null,
   "id": "4476ba9d-4368-4515-a87f-1ccbe8e4389a",
   "metadata": {},
   "outputs": [],
   "source": [
    "stuff = [2, 25, 80, 12]\n",
    "stuff[stuff[0]] = stuff[3]\n",
    "print(stuff)"
   ]
  },
  {
   "cell_type": "markdown",
   "id": "c0ed555a-6c84-48a5-ba7d-1aac20d1368a",
   "metadata": {},
   "source": []
  },
  {
   "cell_type": "markdown",
   "id": "682fe694-6b27-49be-af6b-4511e85464cd",
   "metadata": {},
   "source": [
    "## Aufgabe 2:"
   ]
  },
  {
   "cell_type": "markdown",
   "id": "462a81ae-2c4b-47bc-86ec-24d3bb0b30d8",
   "metadata": {},
   "source": [
    "Fügen Sie eine zufällige Anzahl (zwischen 1 und 10) an zufälligen Zahlen (zwischen 0 und 100) einer Liste hinzu. Lassen Sie sich die Länge der Liste, sowie die Liste an Zahlen am Schluss ausgeben."
   ]
  },
  {
   "cell_type": "code",
   "execution_count": null,
   "id": "b7a3035e-cec0-400d-9c81-69ad0e535cca",
   "metadata": {},
   "outputs": [],
   "source": []
  },
  {
   "cell_type": "markdown",
   "id": "e920300e-2b2a-40fc-85a0-60bfdb86db73",
   "metadata": {},
   "source": [
    "## Aufgabe 3:"
   ]
  },
  {
   "cell_type": "markdown",
   "id": "fb12aa6c-d597-4643-9b35-195f0b864c6a",
   "metadata": {},
   "source": [
    "Schreibe eine Funktion middle(L), die eine Liste L als ihr Argument nimmt und das Element in der mittleren Position von L zurückgibt. (Damit die Mitte gut definiert ist, solltest du annehmen, dass die Länge von L ungerade ist.) Zum Beispiel sollte, wenn du middle([8, 0, 100, 12, 1]) aufrufst, 100 zurückgegeben werden."
   ]
  },
  {
   "cell_type": "code",
   "execution_count": null,
   "id": "3b123353-6fc4-4cb1-bcaf-51780aee70e4",
   "metadata": {},
   "outputs": [],
   "source": []
  },
  {
   "cell_type": "markdown",
   "id": "730d9b80-d5ad-4620-8ea6-46cd8817daa4",
   "metadata": {},
   "source": [
    "## Aufgabe 4:"
   ]
  },
  {
   "cell_type": "markdown",
   "id": "21a63b7b-5673-4546-8fe2-79b8d05b15e6",
   "metadata": {},
   "source": [
    "Versuche zu erklären, was in folgendem Code-Block geschieht:"
   ]
  },
  {
   "cell_type": "markdown",
   "id": "c8d13a0d-9c33-4852-96a8-c417a6178a68",
   "metadata": {},
   "source": []
  },
  {
   "cell_type": "code",
   "execution_count": null,
   "id": "ec15c92e-b9e8-48ad-b416-1f3b30c297d0",
   "metadata": {},
   "outputs": [],
   "source": [
    "myPhoneNumber = [9, 6, 7] + [1]*4\n",
    "print(myPhoneNumber)\n",
    "newEmptyList = [0]*20\n",
    "print(newEmptyList)"
   ]
  },
  {
   "cell_type": "markdown",
   "id": "5c22f66c-f26f-4e70-b2e7-0291df237b2b",
   "metadata": {},
   "source": [
    "## Aufgabe 5:"
   ]
  },
  {
   "cell_type": "markdown",
   "id": "3c962942-9f5c-4fd3-ae49-d1c19cf6ffe3",
   "metadata": {},
   "source": [
    "Schreiben Sie eine Funktion naturalNumbers, die eine positive Ganzzahl n als Eingabe nimmt, und eine Liste [1, 2, ...] zurückgibt, die aus den ersten n natürlichen Zahlen besteht."
   ]
  },
  {
   "cell_type": "code",
   "execution_count": 9,
   "id": "436efeb9-f2fc-4d10-9289-c0a7be0223c5",
   "metadata": {},
   "outputs": [
    {
     "name": "stdout",
     "output_type": "stream",
     "text": [
      "None\n"
     ]
    }
   ],
   "source": []
  },
  {
   "cell_type": "markdown",
   "id": "087b353b-1ff4-4b40-9e8f-2cd31ab75c0e",
   "metadata": {},
   "source": [
    "## Aufgabe 6:"
   ]
  },
  {
   "cell_type": "markdown",
   "id": "9c6517da-92f9-4dde-8d28-75efe16223db",
   "metadata": {},
   "source": [
    "Schauen Sie sich die folgenden zwei Funktionen und deren Output an:"
   ]
  },
  {
   "cell_type": "code",
   "execution_count": null,
   "id": "df42a687-d58a-46ef-829f-92f0e1c27f50",
   "metadata": {},
   "outputs": [],
   "source": [
    "list = [3, 10, 4, 9, 0]\n",
    "print(sum(list))\n",
    "print(max(list))"
   ]
  },
  {
   "cell_type": "markdown",
   "id": "e8e4daac-c31f-4888-b84a-c5b5dfbd5d20",
   "metadata": {},
   "source": [
    "Definieren Sie nun eine Funktion prod(L), die das Produkt der Elemente in einer Liste L ausgibt."
   ]
  },
  {
   "cell_type": "code",
   "execution_count": null,
   "id": "7ca23d7e-99f6-4359-a748-245ad5d90ca1",
   "metadata": {},
   "outputs": [],
   "source": []
  },
  {
   "cell_type": "markdown",
   "id": "185c1cae-64d1-4746-b892-1b3322ef4b26",
   "metadata": {},
   "source": [
    "## Aufgabe 7:"
   ]
  },
  {
   "cell_type": "markdown",
   "id": "473bf83a-48cb-4f14-92f6-2bfe85993ee4",
   "metadata": {},
   "source": [
    "Nutzen Sie verschachtelte Listen, um ein Vier-Gewinnt-Spielbrett zu programmmieren. Zeichnen Sie zwei Spielsituationen, bei denen jeweils eine Person gewinnt, ins Spielfeld ein. (Nutzen Sie X und O für die zwei spielenden)"
   ]
  },
  {
   "cell_type": "code",
   "execution_count": null,
   "id": "8b13e70f-9bba-4c36-8b57-3113bbd669ae",
   "metadata": {},
   "outputs": [],
   "source": []
  },
  {
   "cell_type": "markdown",
   "id": "b2fffd16-3719-4074-9913-2040fa7e75d5",
   "metadata": {},
   "source": [
    "## Zusatzaufgabe 8:"
   ]
  },
  {
   "cell_type": "markdown",
   "id": "1969e35a-69c8-4f40-8c88-a069457df200",
   "metadata": {},
   "source": [
    "Was ist der Wert von x, der mystery(x) dazu bringen wird, unendlich zu laufen?"
   ]
  },
  {
   "cell_type": "code",
   "execution_count": null,
   "id": "6923a4b6-7763-495d-8d05-1e85490dbde5",
   "metadata": {},
   "outputs": [],
   "source": [
    "def mystery(x):\n",
    "  a = [0, 4, 0, 3, 2]\n",
    "  while x > 0:\n",
    "    x = a[x]\n",
    "  return \"Done\""
   ]
  },
  {
   "cell_type": "markdown",
   "id": "83ba840b-1ca2-4c78-9337-a6777943a9fe",
   "metadata": {},
   "source": [
    "## Zusatzaufgabe 9:"
   ]
  },
  {
   "cell_type": "markdown",
   "id": "10af1a01-2a77-4af8-b287-a9466b49fbf9",
   "metadata": {},
   "source": [
    "Bauen Sie aus Aufgabe 7 ein funktionierendes Spiel."
   ]
  },
  {
   "cell_type": "code",
   "execution_count": null,
   "id": "5e11a6ce-3db6-424c-9f79-701b4b474afe",
   "metadata": {},
   "outputs": [],
   "source": []
  }
 ],
 "metadata": {
  "kernelspec": {
   "display_name": "Python 3 (ipykernel)",
   "language": "python",
   "name": "python3"
  },
  "language_info": {
   "codemirror_mode": {
    "name": "ipython",
    "version": 3
   },
   "file_extension": ".py",
   "mimetype": "text/x-python",
   "name": "python",
   "nbconvert_exporter": "python",
   "pygments_lexer": "ipython3",
   "version": "3.9.7"
  }
 },
 "nbformat": 4,
 "nbformat_minor": 5
}
