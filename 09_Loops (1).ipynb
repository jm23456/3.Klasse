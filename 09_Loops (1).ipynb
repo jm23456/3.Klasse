{
 "cells": [
  {
   "cell_type": "markdown",
   "id": "dcf56777",
   "metadata": {},
   "source": [
    "# Einführung"
   ]
  },
  {
   "cell_type": "markdown",
   "id": "219c0e95",
   "metadata": {},
   "source": [
    "In dieser Lektion führen wir Schleifen ein (manchmal auch Wiederholungen oder Iterationen genannt: eine Möglichkeit, den Computer immer wieder die gleiche Sache (oder ähnliche Dinge) machen zu lassen. Zum Beispiel würde die Rechtschreibprüfung jedes Wortes in einem Dokument mit einer Schleife (loop) gemacht werden. Wir werden in dieser Lektion die beiden Arten von Python Schleifen beschreiben: for-Schleife und while-Schleife."
   ]
  },
  {
   "cell_type": "markdown",
   "id": "93319cad",
   "metadata": {},
   "source": [
    "## kurze Repetition: for-Schleifen "
   ]
  },
  {
   "cell_type": "markdown",
   "id": "b7d805f1",
   "metadata": {},
   "source": [
    "Eine for-Schleife wird gebaut, um eine Reihe von Zahlen (oder wie wir später sehen werden, irgendeine Liste von Daten) systematisch durchzugehen.\n",
    "\n",
    "Sehen wir uns dies anhand eines praktischen Beispiels an. In folgender Code-Zelle sollen die Zahlen von 0-10 ausgegeben werden:"
   ]
  },
  {
   "cell_type": "code",
   "execution_count": null,
   "id": "61156445",
   "metadata": {
    "scrolled": true
   },
   "outputs": [],
   "source": [
    "for i in range(0,10):\n",
    "    print(i)"
   ]
  },
  {
   "cell_type": "markdown",
   "id": "b07fdb8c",
   "metadata": {},
   "source": [
    "Wie aber auffällt werden lediglich die Zahlen von 1-9 ausgegeben!\n",
    "\n",
    "Dies liegt daran, dass der Befehl range(1,10) nicht als \"Zahlen von 0 bis und mit 10\" gemeint ist.\n",
    "Wir müssen den Code folgendermassen anpassen, um das gewünschte Resultat zu erzielen:b"
   ]
  },
  {
   "cell_type": "code",
   "execution_count": null,
   "id": "258cd3d1",
   "metadata": {
    "scrolled": true
   },
   "outputs": [],
   "source": [
    "for i in range(0,11):\n",
    "    print(i)"
   ]
  },
  {
   "cell_type": "markdown",
   "id": "33ee6010-3f1d-4319-b8d7-519102006d6a",
   "metadata": {},
   "source": [
    "Wenn die Aufzählung von 0 beginnt, können wir den Code nochmals etwas vereinfachen, und folgenden Code schreiben:"
   ]
  },
  {
   "cell_type": "code",
   "execution_count": null,
   "id": "95a6b233-4626-43d1-a8fb-aab3ef247688",
   "metadata": {},
   "outputs": [],
   "source": [
    "for i in range(11):\n",
    "    print(i)"
   ]
  },
  {
   "cell_type": "markdown",
   "id": "61d33914",
   "metadata": {},
   "source": [
    "## Verschachtelte for-Schleifen"
   ]
  },
  {
   "cell_type": "markdown",
   "id": "9b4e1e64",
   "metadata": {},
   "source": [
    "Wir können for-Schleifen auch verschachteln (ähnlich wie bei den if-Anweisungen).\n",
    "\n",
    "Wir schauen uns dies anhand des folgenden Beispieles an:"
   ]
  },
  {
   "cell_type": "code",
   "execution_count": null,
   "id": "51ccf19c",
   "metadata": {},
   "outputs": [],
   "source": [
    "for i in range(1,6):\n",
    "    print(\"Abschnitt \",i)\n",
    "    for j in range(4):\n",
    "        print(j)\n",
    "        "
   ]
  },
  {
   "cell_type": "markdown",
   "id": "b1d5be14",
   "metadata": {},
   "source": [
    "Wir sehen, dass pro Abschnitt (1,2,3,4,5) jeweils der innere for-loop (for i in range(4) = 0,1,2,3) ausgegeben wird.\n",
    "\n",
    "Vergleichen Sie nun dieses Resultat mit dem folgenden:"
   ]
  },
  {
   "cell_type": "code",
   "execution_count": null,
   "id": "a900d364",
   "metadata": {},
   "outputs": [],
   "source": [
    "for j in range(4):\n",
    "    print(j)\n",
    "    for i in range(1,6):\n",
    "        print(\"Abschnitt \",i)\n",
    "    "
   ]
  },
  {
   "cell_type": "markdown",
   "id": "7000305c",
   "metadata": {},
   "source": [
    "Wir sehen also es kommt darauf an, welcher loop der \"innere\" und welches der \"äussere\" ist."
   ]
  },
  {
   "cell_type": "markdown",
   "id": "36233aee",
   "metadata": {},
   "source": [
    "## for i in range mit Schritten:"
   ]
  },
  {
   "cell_type": "markdown",
   "id": "73ed4f4d",
   "metadata": {},
   "source": [
    "Der Befehl \"for i in range\" ist folgendermassen aufgebaut:\n",
    "\n",
    "for variabel in range(start,bis,schritte)\n",
    "\n",
    "wir können mittels dem \"schritte\"-Parameter des Befehls beeinflussen in was für einem Abstand die Zahlen ausgegeben werden. Wenn wir z.B alle geraden Zahlen von 0-100 ausgeben möchten, können wir den Parameter \"schritte\" 2 wählen, um in Zweierschritten von 0 bis 100 zu gelangen:"
   ]
  },
  {
   "cell_type": "code",
   "execution_count": null,
   "id": "62d9ad88",
   "metadata": {
    "scrolled": true
   },
   "outputs": [],
   "source": [
    "for i in range(0,101,2):\n",
    "    print(i)"
   ]
  },
  {
   "cell_type": "markdown",
   "id": "2746f75f",
   "metadata": {},
   "source": [
    "Wir können mittels des \"schritte\"-Parameters auch runterzählen. Sehen Sie sich folgende Beispiele dazu an:"
   ]
  },
  {
   "cell_type": "code",
   "execution_count": null,
   "id": "84178dac",
   "metadata": {},
   "outputs": [],
   "source": [
    "for i in range(100,0,-1):\n",
    "    print(i)"
   ]
  },
  {
   "cell_type": "code",
   "execution_count": null,
   "id": "a6f602b4",
   "metadata": {},
   "outputs": [],
   "source": [
    "for i in range(100,0,-10):\n",
    "    print(\"i:\",i)\n",
    "    \n",
    "print(\"\\n\")\n",
    "for j in range(100,-1,-10):\n",
    "    print(\"j:\",j)"
   ]
  },
  {
   "cell_type": "markdown",
   "id": "3fcc9304",
   "metadata": {},
   "source": [
    "## Aufgaben zum for-loop"
   ]
  },
  {
   "cell_type": "markdown",
   "id": "ca1fbc40",
   "metadata": {},
   "source": [
    "### Aufgabe 1"
   ]
  },
  {
   "cell_type": "markdown",
   "id": "a1994f61",
   "metadata": {},
   "source": [
    "Schreiben Sie einen for-loop, welcher die Zahlen von 500 - 1000 ausgibt:"
   ]
  },
  {
   "cell_type": "code",
   "execution_count": null,
   "id": "41f74322",
   "metadata": {},
   "outputs": [],
   "source": []
  },
  {
   "cell_type": "markdown",
   "id": "d474a3f9",
   "metadata": {},
   "source": [
    "### Aufgabe 2"
   ]
  },
  {
   "cell_type": "markdown",
   "id": "0ff1dacf",
   "metadata": {},
   "source": [
    "Schreiben Sie einen for-loop, welcher alle ungeraden Zahlen von 101 - 200 ausgibt:"
   ]
  },
  {
   "cell_type": "code",
   "execution_count": null,
   "id": "72584cb0",
   "metadata": {},
   "outputs": [],
   "source": []
  },
  {
   "cell_type": "markdown",
   "id": "8be47192",
   "metadata": {},
   "source": [
    "### Aufgabe 3"
   ]
  },
  {
   "cell_type": "markdown",
   "id": "4c463513",
   "metadata": {},
   "source": [
    "Schreiben Sie zwei verschachtelte for-Schleifen: Die äussere Schleifen, soll von 10 bis und mit 0 runterzählen, und der innere von 5 bis und mit 9 hochzählen:"
   ]
  },
  {
   "cell_type": "code",
   "execution_count": null,
   "id": "6a2f0d66",
   "metadata": {},
   "outputs": [],
   "source": []
  },
  {
   "cell_type": "markdown",
   "id": "c60115e1",
   "metadata": {},
   "source": [
    "### Aufgabe 4"
   ]
  },
  {
   "cell_type": "markdown",
   "id": "517043ec",
   "metadata": {},
   "source": [
    "Analysieren Sie folgenden Code:"
   ]
  },
  {
   "cell_type": "code",
   "execution_count": null,
   "id": "f70aab89",
   "metadata": {},
   "outputs": [],
   "source": [
    "wort = \"ABRACADABRA\"\n",
    "counter = 0\n",
    "for buchstabe in wort:\n",
    "    if buchstabe == \"A\":\n",
    "        counter += 1\n",
    "print(counter)"
   ]
  },
  {
   "cell_type": "markdown",
   "id": "5de1cea2",
   "metadata": {},
   "source": [
    "was macht dieser Code genau?"
   ]
  },
  {
   "cell_type": "markdown",
   "id": "18f1feea",
   "metadata": {},
   "source": [
    "## while-Schleifen "
   ]
  },
  {
   "cell_type": "markdown",
   "id": "81061c4a",
   "metadata": {},
   "source": [
    "Ein while-Statement (also ein „Während“-Statement) wiederholt einen Code-Abschnitt immer wieder, solange bestimmte Bedingungen noch erfüllt sind. Hier ist ein Beispiel:"
   ]
  },
  {
   "cell_type": "code",
   "execution_count": null,
   "id": "bd663c9d",
   "metadata": {},
   "outputs": [],
   "source": [
    "timeLeft = 5\n",
    "while timeLeft > 0:           # Bedingung\n",
    "  print(timeLeft)             \n",
    "  timeLeft = timeLeft-1      \n",
    "print('Raketenstart!')           "
   ]
  },
  {
   "cell_type": "markdown",
   "id": "13393c85",
   "metadata": {},
   "source": [
    "Hier ist die allgemeine Struktur:\n",
    "\n",
    "Die erste Zeile ist die während - «Bedingung»:, wobei wir 'Bedingung' solche Ausdrücke nennen, die Wahr oder Falsch ausgeben (so wie ein if Statement)\n",
    "\n",
    "Danach setzen wir einen eingerückten Textblock (wieder so wie ein if Statement), der aus den Statements besteht, die wir immer wieder wiederholt sehen möchten.\n",
    "Wenn wir das Programm ausführst, wird das Folgende wiederholt:\n",
    "Die Bedingung wird überprüft; wenn die Bedingung Wahr ist, wird der Körper ausgeführt und im Anschluss wiederholen wir von vorne. Erst wenn die Bedingung als Falsch beurteilt wird, endet diese Schleife."
   ]
  },
  {
   "cell_type": "markdown",
   "id": "1c3878ff",
   "metadata": {},
   "source": [
    "Wir müssen darauf achten, dass die Bedingungen nicht stets Wahr oder stets Falsch sind. Im folgenden Beispiel sehen Sie eine Bedingung, welche immer Wahr sein wird, und daher einen sogenannten \"infinite-loop\" erzeugt:"
   ]
  },
  {
   "cell_type": "code",
   "execution_count": null,
   "id": "54f29227",
   "metadata": {
    "scrolled": true
   },
   "outputs": [],
   "source": [
    "while 2 + 3 == 5:\n",
    "    print(\"INFINITE LOOP\")"
   ]
  },
  {
   "cell_type": "markdown",
   "id": "f201a6ce",
   "metadata": {},
   "source": [
    "## Aufgaben zu while-Schleifen:"
   ]
  },
  {
   "cell_type": "markdown",
   "id": "50cf144c",
   "metadata": {},
   "source": [
    "### Aufgabe 5"
   ]
  },
  {
   "cell_type": "markdown",
   "id": "9bdb228a",
   "metadata": {},
   "source": [
    "schreiben Sie mittels while-Schleifen ein Programm, welches solange das Wort \"WARTEN\" ausgibt, bis die Variabel x den Wert 20 erreicht hat. Die Variabel soll zu Beginn den Wert -10 haben, und mit jeder Iteration um 1 erhöht werden."
   ]
  },
  {
   "cell_type": "code",
   "execution_count": null,
   "id": "6c6a3170",
   "metadata": {},
   "outputs": [],
   "source": []
  },
  {
   "cell_type": "markdown",
   "id": "71221b26",
   "metadata": {},
   "source": [
    "### Aufgabe 6"
   ]
  },
  {
   "cell_type": "markdown",
   "id": "fa1eb35c",
   "metadata": {},
   "source": [
    "Gegeben ist folgende for-Schleifen:"
   ]
  },
  {
   "cell_type": "code",
   "execution_count": null,
   "id": "9d090a25",
   "metadata": {},
   "outputs": [],
   "source": [
    "for i in range(-10,10,2):\n",
    "    print(i)"
   ]
  },
  {
   "cell_type": "markdown",
   "id": "d0450a80",
   "metadata": {},
   "source": [
    "Schreiben sie diese Schleife in eine while-Schleifen um."
   ]
  },
  {
   "cell_type": "markdown",
   "id": "a8844bc1",
   "metadata": {},
   "source": [
    "## Break & Continue"
   ]
  },
  {
   "cell_type": "markdown",
   "id": "bab46029",
   "metadata": {},
   "source": [
    "Um \"infinite-loop\" und andere Missgeschicke zu vermeiden, können wir Break- und Continue-Statements verwenden.\n",
    "\n",
    "Wenn der Befehl \"break\" ausgeführt wird, verlässt Python die laufende Schleife und bewegt sich zur Codezeile direkt nach der Schleife.\n",
    "\n",
    "Hier einige Beispiele dazu:"
   ]
  },
  {
   "cell_type": "code",
   "execution_count": null,
   "id": "e110b0bf",
   "metadata": {},
   "outputs": [],
   "source": [
    "# Breche loop ab, sobald i = 10 ist:\n",
    "i = 0\n",
    "while True:\n",
    "    print(\"i ist: \",i)\n",
    "    if i == 10: #prüfen mittels if-Anweisung\n",
    "        print(\"Abbruch\")\n",
    "        break\n",
    "    i += 1"
   ]
  },
  {
   "cell_type": "code",
   "execution_count": null,
   "id": "630798ee",
   "metadata": {},
   "outputs": [],
   "source": [
    "# breche ab, wenn der Nenner 0 ist:\n",
    "for i in range(10,-10,-1)\n"
   ]
  },
  {
   "cell_type": "markdown",
   "id": "694b6416",
   "metadata": {},
   "source": [
    "Wenn der Befehl \"continue\" ausgeführt wird, überspringt Python die aktuelle Iteration und setzt mit der nächsten fort.\n"
   ]
  },
  {
   "cell_type": "code",
   "execution_count": null,
   "id": "68220565",
   "metadata": {
    "scrolled": true
   },
   "outputs": [],
   "source": [
    "for i in range(20):\n",
    "    if i == 12:\n",
    "        print(\"Aussetzen\")\n",
    "        continue\n",
    "    else:\n",
    "        print(\"i: \",i)"
   ]
  },
  {
   "cell_type": "markdown",
   "id": "57877613",
   "metadata": {},
   "source": [
    "## Aufgaben zu break und continue"
   ]
  },
  {
   "cell_type": "markdown",
   "id": "f037de18",
   "metadata": {},
   "source": [
    "### Aufgabe 7"
   ]
  },
  {
   "cell_type": "markdown",
   "id": "50d78591",
   "metadata": {},
   "source": [
    "Schreiben sie folgendes Programm um, sodass keine Division durch null durchgeführt werden kann. Ergänzen sie continue-Statements:"
   ]
  },
  {
   "cell_type": "code",
   "execution_count": null,
   "id": "383593b7",
   "metadata": {
    "scrolled": true
   },
   "outputs": [],
   "source": [
    "for a in range(-5,5):\n",
    "    for b in range(-5,5):\n",
    "        print(a / b)"
   ]
  },
  {
   "cell_type": "markdown",
   "id": "9dc13b31",
   "metadata": {},
   "source": [
    "### Aufgabe 8"
   ]
  },
  {
   "cell_type": "markdown",
   "id": "3ff20d6c",
   "metadata": {},
   "source": [
    "Schreiben sie ein Programm, welches einen infinte loop (while True) erzeugt, und stets das Wort \"Loop\" ausgibt. Brechen sie diese Schleife ab, sobald das Wort 1000 mal ausgegeben wurde. Nutzen Sie ein break-Statement."
   ]
  },
  {
   "cell_type": "code",
   "execution_count": null,
   "id": "ca778215",
   "metadata": {},
   "outputs": [],
   "source": []
  },
  {
   "cell_type": "markdown",
   "id": "f534b249",
   "metadata": {},
   "source": []
  }
 ],
 "metadata": {
  "kernelspec": {
   "display_name": "Python 3 (ipykernel)",
   "language": "python",
   "name": "python3"
  },
  "language_info": {
   "codemirror_mode": {
    "name": "ipython",
    "version": 3
   },
   "file_extension": ".py",
   "mimetype": "text/x-python",
   "name": "python",
   "nbconvert_exporter": "python",
   "pygments_lexer": "ipython3",
   "version": "3.9.7"
  }
 },
 "nbformat": 4,
 "nbformat_minor": 5
}
