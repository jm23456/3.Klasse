{
 "cells": [
  {
   "cell_type": "markdown",
   "id": "455b9fe6",
   "metadata": {},
   "source": [
    "# Erste Schritte"
   ]
  },
  {
   "cell_type": "markdown",
   "id": "87027aa0",
   "metadata": {},
   "source": [
    "Ein Computerprogramm ist eine Folge von Befehlen, beschrieben in Wörtern, Zahlen und Symbolen. So, wie jeder gesprochene Satz in einer menschlichen Sprache wie Deutsch oder Englisch ausgedrückt wird, wird jedes Programm in einer Programmiersprache ausgedrückt. Einige bekannte Programmiersprachen sind Python, C++, JavaScript und PHP. Unsere Auswahl fiel auf Python, da es sowohl einfach genug für Einsteiger als auch leistungsfähig genug für moderne Anwendungen ist. Alle Programmiersprachen bauen auf den selben Prinzipien auf, also können Sie einfach weitere lernen, wenn Sie schon eine kennst.\n",
    "\n",
    "\n",
    "# Wieso lernen wir Python?\n",
    "* ##### Einfachheit und Lesbarkeit:\n",
    "Python verfügt über eine klare und leicht verständliche Syntax, die es Personen aller Erfahrungsstufen ermöglicht, schnell zu lernen und produktiv zu sein. \n",
    "* ##### Vielseitigkeit:\n",
    "Python wird aufgrund seiner Vielseitigkeit in einer breiten Palette von Anwendungen eingesetzt. Von der Webentwicklung über Datenanalyse bis hin zur künstlichen Intelligenz und dem maschinellen Lernen kann Python verwendet werden.\n",
    "* ##### Plattformunabhängigkeit:\n",
    "Python-Programme können auf verschiedenen Plattformen und Betriebssystemen ausgeführt werden, einschliesslich Windows, macOS und diverse Unix-Systemen. Dies erleichtert die Entwicklung von plattformübergreifenden Anwendungen.\n",
    "* ##### Open-Source:\n",
    "Python ist eine Open-Source-Programmiersprache, was bedeutet, dass sie für alle frei verfügbar ist.\n",
    "* ##### Grosse Unternehmen nutzen Python:\n",
    "Unternehmen wie Facebook, Netflix und Nasa setzen Python für verschiedene Anwendungen ein. Dies trägt dazu bei, dass Python eine bevorzugte Wahl für viele Entwickler*innen und Organisationen ist.\n"
   ]
  },
  {
   "cell_type": "markdown",
   "id": "d3b95ce2",
   "metadata": {},
   "source": [
    "Führen Sie eine erste Zeile Code aus indem Sie auf \"Run\" klicken."
   ]
  },
  {
   "cell_type": "code",
   "execution_count": null,
   "id": "0faf9b60-6795-43bb-af1f-da54caef090c",
   "metadata": {},
   "outputs": [],
   "source": [
    "print(\"Hallo Welt\")"
   ]
  },
  {
   "cell_type": "markdown",
   "id": "1a9f7b2e",
   "metadata": {},
   "source": [
    "Wenn Sie ein Programm ausführen, können Sie auch dessen Ausgabe sehen. Dieses Beispiel-Programm hat genau einen Befehl, print(\"Hallo, Welt!\"), und erzeugt eine einzeilige Ausgabe,\n",
    "\n",
    "Hallo, Welt!"
   ]
  },
  {
   "cell_type": "markdown",
   "id": "be90551e",
   "metadata": {},
   "source": [
    "Hier ist eine Analyse von dem, was dieses Programm macht:\n",
    "    print ist der Name eines Python-Befehls, der Text ausgibt.\n",
    "    Die Klammern () nach dem Print-Befehl enthalten das, was du ausgeben möchtest.\n",
    "    Die Anführungsstriche \" \" sind eine Art Behälter für den Text Hallo, Welt!.\n",
    "Ohne Anführungsstriche würde Python annehmen, dass Hallo als Befehl gemeint ist. Das würde einen Fehler produzieren, da es keinen solchen Befehl gibt."
   ]
  },
  {
   "cell_type": "markdown",
   "id": "92d8f24b",
   "metadata": {},
   "source": [
    "Schauen wir uns doch mal an, was genau passiert, wenn man die Anführungsstriche weglässt:"
   ]
  },
  {
   "cell_type": "code",
   "execution_count": null,
   "id": "c24e32a7",
   "metadata": {},
   "outputs": [],
   "source": [
    "print(Hallo, Welt)"
   ]
  },
  {
   "cell_type": "markdown",
   "id": "5e330110",
   "metadata": {},
   "source": [
    "Hier ist das Programm abgestürzt: Das heißt, wir haben dem Computer einen falschen Befehl gegeben, der zu einem Fehler und zum Programmende führte."
   ]
  },
  {
   "cell_type": "markdown",
   "id": "392729ae",
   "metadata": {},
   "source": [
    "## Aufgaben"
   ]
  },
  {
   "cell_type": "markdown",
   "id": "70906a78",
   "metadata": {},
   "source": [
    "### Aufgabe 1 "
   ]
  },
  {
   "cell_type": "markdown",
   "id": "f88d9329",
   "metadata": {},
   "source": [
    "Schreiben Sie ein Programm, das folgende Ausgabe erzeugt:\n",
    "    Bonjour, tout le monde!"
   ]
  },
  {
   "cell_type": "code",
   "execution_count": null,
   "id": "7a502513-aaec-4c7a-92c0-8f5e62ffb99b",
   "metadata": {},
   "outputs": [],
   "source": []
  },
  {
   "cell_type": "markdown",
   "id": "87d998ef",
   "metadata": {},
   "source": [
    "### Aufgabe 2"
   ]
  },
  {
   "cell_type": "markdown",
   "id": "0d3fd4a1",
   "metadata": {},
   "source": [
    "Schreiben Sie ein Programm, welches zwei Wörter miteinander verbindet:\n",
    "    -> Wörter verbinden kann man indem man sie mit einem + Zeichen aneinanderhängt: \"Du\"+\"rchsage\"."
   ]
  },
  {
   "cell_type": "code",
   "execution_count": null,
   "id": "d171cb87",
   "metadata": {},
   "outputs": [],
   "source": []
  },
  {
   "cell_type": "markdown",
   "id": "3ed270e0",
   "metadata": {},
   "source": [
    "### Aufgabe 3"
   ]
  },
  {
   "cell_type": "markdown",
   "id": "c6e2ca21",
   "metadata": {},
   "source": [
    "Wir können auch Wörter mehrfach aneinanderreihen. Um dies zu tun können wir ein Wort multiplizieren. Ähnlich wie bei einer mathematischen Multiplikation, schreiben wir x * Wort um das Wort x mal auszugeben.\n",
    "(Bsp. print(3*\"KZI\"))\n",
    "Nutzen Sie diese Informationen um Ihren Namen 10'000 mal Auszugeben."
   ]
  },
  {
   "cell_type": "code",
   "execution_count": null,
   "id": "d2791cea",
   "metadata": {},
   "outputs": [],
   "source": []
  },
  {
   "cell_type": "markdown",
   "id": "e8c7ea04",
   "metadata": {},
   "source": [
    "Was passiert wenn der Faktor zu gross wird?"
   ]
  },
  {
   "cell_type": "code",
   "execution_count": null,
   "id": "c481cc88",
   "metadata": {},
   "outputs": [],
   "source": []
  },
  {
   "cell_type": "markdown",
   "id": "151c583f",
   "metadata": {},
   "source": [
    "### Aufgabe 4"
   ]
  },
  {
   "cell_type": "markdown",
   "id": "6cb2a7f0",
   "metadata": {},
   "source": [
    "Um einen Zeilenumbruch in der Ausgabe zu generieren, können wir folgendes im Text einführen:\n",
    "    \\n\n",
    "An dieser Stelle wird der Text nun geteilt.\n",
    "Schreiben Sie folgenden Text in die Konsole:\n",
    "\n",
    "Kantonsschule\n",
    "\n",
    "Zimmerberg\n",
    "\n",
    "2023\n"
   ]
  },
  {
   "cell_type": "code",
   "execution_count": null,
   "id": "1440b9be-70d4-42df-a036-53de4f1afbdd",
   "metadata": {},
   "outputs": [],
   "source": []
  },
  {
   "cell_type": "markdown",
   "id": "5b0859fd-ca99-4831-b9e3-65f78c7b4ac4",
   "metadata": {},
   "source": [
    "### Aufgabe 5"
   ]
  },
  {
   "cell_type": "markdown",
   "id": "2cfdcb5a-b2bb-4aac-bf14-6ba209a261ed",
   "metadata": {},
   "source": [
    "Schreiben Sie ein Programm, welches zwei Zahlen addiert und das Resultat ausgibt. (Bsp 3+4)"
   ]
  },
  {
   "cell_type": "code",
   "execution_count": null,
   "id": "db4d353b-f484-4be7-8283-b34c1578d3b5",
   "metadata": {},
   "outputs": [],
   "source": []
  },
  {
   "cell_type": "markdown",
   "id": "a99d0b9b-3354-4b3c-8aa4-d883447dfc4c",
   "metadata": {},
   "source": [
    "### Aufgabe 6"
   ]
  },
  {
   "cell_type": "markdown",
   "id": "74e26af0-3762-4174-be42-b30e02164972",
   "metadata": {},
   "source": [
    "Recherchieren Sie, was LOC oder SLOC im Kontext der Informatik bedeutet, und wieviele LOC z.B Minecraft hat."
   ]
  },
  {
   "cell_type": "code",
   "execution_count": null,
   "id": "555d9f38-88bc-4a6d-94be-12405f1c3de4",
   "metadata": {},
   "outputs": [],
   "source": []
  },
  {
   "cell_type": "markdown",
   "id": "03a797f8-d721-4d8a-8e81-a3b58364d5c8",
   "metadata": {},
   "source": [
    "### Zusatzaufgabe"
   ]
  },
  {
   "cell_type": "markdown",
   "id": "c27da5b1-15b3-45b6-b076-7a60f43fcb78",
   "metadata": {},
   "source": [
    "Schreiben Sie ein Programm, welches einem 100 Lorem-Ipsum-Wörter ausgibt. (Hilfe: https://www.loremipsum.de/) Fügen Sie an geeigneten Stellen Zeilenumbrüche ein."
   ]
  },
  {
   "cell_type": "code",
   "execution_count": null,
   "id": "d6abf4f4-2dc9-4900-b649-391e8643c903",
   "metadata": {},
   "outputs": [],
   "source": []
  }
 ],
 "metadata": {
  "kernelspec": {
   "display_name": "Python 3 (ipykernel)",
   "language": "python",
   "name": "python3"
  },
  "language_info": {
   "codemirror_mode": {
    "name": "ipython",
    "version": 3
   },
   "file_extension": ".py",
   "mimetype": "text/x-python",
   "name": "python",
   "nbconvert_exporter": "python",
   "pygments_lexer": "ipython3",
   "version": "3.9.7"
  }
 },
 "nbformat": 4,
 "nbformat_minor": 5
}
