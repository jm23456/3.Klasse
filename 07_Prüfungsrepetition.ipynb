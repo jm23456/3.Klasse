{
 "cells": [
  {
   "cell_type": "markdown",
   "id": "27d510ac-b58f-4aaa-ba74-34cd0ab456ac",
   "metadata": {},
   "source": [
    "### Prüfungsrepetition - Aufgaben"
   ]
  },
  {
   "cell_type": "markdown",
   "id": "f3708b24-0625-4470-8ce8-aca515233b1b",
   "metadata": {},
   "source": [
    "#### Aufgabe 1"
   ]
  },
  {
   "cell_type": "markdown",
   "id": "ffdc6546-3ede-4cc6-98a7-3049f9ad0469",
   "metadata": {},
   "source": [
    "Erstelle drei verschiedene Variablen: eine mit einem ganzzahligen Wert, eine mit einem Float und eine mit einem Textwert. Gib die Variablen und deren Typen aus."
   ]
  },
  {
   "cell_type": "code",
   "execution_count": null,
   "id": "c220ce79-cd02-4603-abe6-2d76a43a499f",
   "metadata": {},
   "outputs": [],
   "source": []
  },
  {
   "cell_type": "markdown",
   "id": "3da6d017-b447-41d2-83e7-0eb1e122733a",
   "metadata": {},
   "source": [
    "#### Aufgabe 2"
   ]
  },
  {
   "cell_type": "markdown",
   "id": "b5a8f7fe-8657-4f47-8221-5fcddc1d95db",
   "metadata": {},
   "source": [
    "Frage den Benutzer nach zwei Zahlen und addiere diese Zahlen. Gib das Ergebnis aus."
   ]
  },
  {
   "cell_type": "code",
   "execution_count": null,
   "id": "dac78beb-0b08-4bed-93ea-1b984c1587ce",
   "metadata": {},
   "outputs": [],
   "source": []
  },
  {
   "cell_type": "markdown",
   "id": "e6038072-dd6b-411a-a238-206696863572",
   "metadata": {},
   "source": [
    "#### Aufgabe 3"
   ]
  },
  {
   "cell_type": "markdown",
   "id": "eba1d129-663c-4a05-9472-8a5094c10ac8",
   "metadata": {},
   "source": [
    "Schreibe ein Programm, das den Benutzer nach seinem Namen fragt und den Namen in einer Begrüßungsnachricht ausgibt."
   ]
  },
  {
   "cell_type": "code",
   "execution_count": null,
   "id": "9c37bfbc-fdc0-4d9c-a1d8-357c2bde71db",
   "metadata": {},
   "outputs": [],
   "source": []
  },
  {
   "cell_type": "markdown",
   "id": "2e429c98-36a7-4c64-872a-b7fce4f26b26",
   "metadata": {},
   "source": [
    "#### Aufgabe 4"
   ]
  },
  {
   "cell_type": "markdown",
   "id": "fe048334-b6a8-4eac-bcdf-d1b0e9c9bdbc",
   "metadata": {},
   "source": [
    "Der folgende Code verursacht einen Fehler. Finde den Fehler und korrigiere ihn"
   ]
  },
  {
   "cell_type": "code",
   "execution_count": null,
   "id": "a41291b6-a9cd-4745-8445-0126f7aa590f",
   "metadata": {},
   "outputs": [],
   "source": [
    "name = input(\"Wie heißt du? \")\n",
    "alter = input(\"Wie alt bist du? \")\n",
    "alter_in_zehn_jahren = alter + 10\n",
    "\n",
    "print(\"Hallo \" + name + \", in 10 Jahren bist du \" + alter_in_zehn_jahren + \" Jahre alt.\")\n"
   ]
  },
  {
   "cell_type": "markdown",
   "id": "1231c2a8-5487-43eb-a8ce-0856637eacb4",
   "metadata": {},
   "source": [
    "#### Aufgabe 5"
   ]
  },
  {
   "cell_type": "markdown",
   "id": "e259207b-ee9b-410d-b93b-f07396b8b045",
   "metadata": {},
   "source": [
    "Der folgende Code verursacht einen Fehler. Finde den Fehler und korrigiere ihn.\n",
    "```\n",
    "x = 5\n",
    "y = z + 10\n",
    "print(y)\n",
    "```"
   ]
  },
  {
   "cell_type": "code",
   "execution_count": null,
   "id": "066e9411-e9c5-4267-9f90-1d0510e6a7bf",
   "metadata": {},
   "outputs": [],
   "source": []
  },
  {
   "cell_type": "markdown",
   "id": "9dececc1-9409-40f5-aa90-92480ea15723",
   "metadata": {},
   "source": [
    "#### Aufgabe 6"
   ]
  },
  {
   "cell_type": "markdown",
   "id": "9f2bb8d7-9dde-4e13-bfff-ba97b8a959dc",
   "metadata": {},
   "source": [
    "Frage den Benutzer nach seinem Alter in Jahren und berechne, wie alt er in Monaten ist."
   ]
  },
  {
   "cell_type": "code",
   "execution_count": null,
   "id": "d3460307-4d66-454f-9ca6-fbe5c6348031",
   "metadata": {},
   "outputs": [],
   "source": []
  },
  {
   "cell_type": "markdown",
   "id": "5961ac7e-6219-436c-ae20-6e0fcde13ebb",
   "metadata": {},
   "source": [
    "#### Aufgabe 7"
   ]
  },
  {
   "cell_type": "markdown",
   "id": "107ada73-30a2-49e8-af01-b93191ecad25",
   "metadata": {},
   "source": [
    "Schreibe ein Programm, das den Benutzer nach drei Zahlen fragt. Finde die kleinste und die größte Zahl mit Hilfe von Funktionen, die wir bereits kennen."
   ]
  },
  {
   "cell_type": "code",
   "execution_count": null,
   "id": "7e61c842-6455-4956-919b-102b9154da97",
   "metadata": {},
   "outputs": [],
   "source": []
  }
 ],
 "metadata": {
  "kernelspec": {
   "display_name": "Python 3 (ipykernel)",
   "language": "python",
   "name": "python3"
  },
  "language_info": {
   "codemirror_mode": {
    "name": "ipython",
    "version": 3
   },
   "file_extension": ".py",
   "mimetype": "text/x-python",
   "name": "python",
   "nbconvert_exporter": "python",
   "pygments_lexer": "ipython3",
   "version": "3.9.7"
  }
 },
 "nbformat": 4,
 "nbformat_minor": 5
}
