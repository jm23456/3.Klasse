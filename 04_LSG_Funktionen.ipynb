{
 "cells": [
  {
   "cell_type": "markdown",
   "id": "f39a3f6d",
   "metadata": {},
   "source": [
    "# Funktionen"
   ]
  },
  {
   "cell_type": "markdown",
   "id": "b20bc517",
   "metadata": {},
   "source": [
    "Wir haben bereits eine Funktion gesehen: print( ), die eine Zeile ausgibt. Um eine Funktion zu nutzen, schreibt man immer ihren Namen, gefolgt von einigen Argumenten in Klammern ( ). Das Wort Argument meint hier die Eingabedaten für eine Funktion. Dann wird die Funktion etwas tun - abhängig von den Argumenten. Wenn eine Funktion mehrere Argumente annimmt, werden sie mit Kommas ( , ) getrennt. "
   ]
  },
  {
   "cell_type": "markdown",
   "id": "34502ffc",
   "metadata": {},
   "source": [
    "Zum Beispiel kann auch print( ) mehrere Argumente annehmen; sie werden in einer bestimmten Reihenfolge ausgegeben, getrennt durch ein Leerzeichen. Das demonstrieren wir hier einmal:"
   ]
  },
  {
   "cell_type": "code",
   "execution_count": null,
   "id": "ea09a534",
   "metadata": {},
   "outputs": [],
   "source": [
    "zahl = 120\n",
    "print(zahl,zahl+zahl,zahl*zahl)"
   ]
  },
  {
   "cell_type": "markdown",
   "id": "b1936495",
   "metadata": {},
   "source": [
    "Eine Funktion kann auch Werte liefern (wie eine Ausgabe). Zum Beispiel gibt die Funktion max( ) (Abkürzung für Maximum) das größte aller ihrer Argumente zurück, die allesamt Zahlen sein müssen."
   ]
  },
  {
   "cell_type": "markdown",
   "id": "e9cfbf70",
   "metadata": {},
   "source": [
    "Man nennt diesen Wert auch Rückgabewert. Für den Befehl max(42, 17) sagt man \"Die Funktion max gibt den Wert 42 zurück.\"\n",
    "Der beste Freund der max( )-Funktion verhält sich ganz ähnlich: die min( )-Funktion gibt das Minimum der Argumente zurück."
   ]
  },
  {
   "cell_type": "markdown",
   "id": "4976f57c",
   "metadata": {},
   "source": [
    "# Aufgaben"
   ]
  },
  {
   "cell_type": "markdown",
   "id": "15eba0b7",
   "metadata": {},
   "source": [
    "### Aufgabe 1:"
   ]
  },
  {
   "cell_type": "markdown",
   "id": "8de47b1b",
   "metadata": {},
   "source": [
    "Wieso gibt dieser Block nichts aus?"
   ]
  },
  {
   "cell_type": "code",
   "execution_count": 3,
   "id": "77af861c",
   "metadata": {},
   "outputs": [],
   "source": [
    "x = max(2,3)"
   ]
  },
  {
   "cell_type": "markdown",
   "id": "b36ab56e",
   "metadata": {},
   "source": [
    "Es wird kein Print-Statement ausgeführt! Um Ergebnisse in der Konsole zu sehen muss stets ein print()-Befehl vorhanden sein."
   ]
  },
  {
   "cell_type": "markdown",
   "id": "7736f0c0",
   "metadata": {},
   "source": [
    "### Aufgabe 2:"
   ]
  },
  {
   "cell_type": "markdown",
   "id": "8f76ab1a",
   "metadata": {},
   "source": [
    "Wieso geben folgende Blöcke Fehlermeldungen aus?"
   ]
  },
  {
   "cell_type": "code",
   "execution_count": null,
   "id": "4c721ec6",
   "metadata": {},
   "outputs": [],
   "source": [
    "max(\"zwei\",3)"
   ]
  },
  {
   "cell_type": "markdown",
   "id": "b6bb005f",
   "metadata": {},
   "source": [
    "Wir können zwei Objekte vergleichen, die nicht den selben Typ haben. (String & integer)"
   ]
  },
  {
   "cell_type": "code",
   "execution_count": null,
   "id": "e1687fd4",
   "metadata": {},
   "outputs": [],
   "source": [
    "print(max(3,4)"
   ]
  },
  {
   "cell_type": "markdown",
   "id": "614714b7",
   "metadata": {},
   "source": [
    "Es fehlt lediglich eine Klammer am Schluss."
   ]
  },
  {
   "cell_type": "markdown",
   "id": "2e19b223",
   "metadata": {},
   "source": [
    "### Aufgabe 3:"
   ]
  },
  {
   "cell_type": "markdown",
   "id": "618726b5",
   "metadata": {},
   "source": [
    "Schreiben Sie ein Programm, bei dem Sie Schulnoten eintragen können. Das Programm soll ihnen die maximale und die minimale Note ausgeben."
   ]
  },
  {
   "cell_type": "code",
   "execution_count": 2,
   "id": "3ad074db",
   "metadata": {},
   "outputs": [
    {
     "name": "stdout",
     "output_type": "stream",
     "text": [
      "Die Maximalnote ist 5 und die Minimalnote ist 1.5.\n"
     ]
    }
   ],
   "source": [
    "note_1 = 4\n",
    "note_2 = 5\n",
    "note_3 = 1.5\n",
    "print(f\"Die Maximalnote ist {max(note_1,note_2,note_3)} und die Minimalnote ist {min(note_1,note_2,note_3)}.\")"
   ]
  },
  {
   "cell_type": "markdown",
   "id": "d1bf892c",
   "metadata": {},
   "source": [
    "### Aufgabe 4:"
   ]
  },
  {
   "cell_type": "markdown",
   "id": "2afdccd4",
   "metadata": {},
   "source": [
    "Korrigieren Sie den logischen Fehler in diesem Programm:\n",
    "\n",
    "es soll die Bevölkerung in einem Land für die nächsten drei Jahre berechnen - mit der Annahme, dass dort am Anfang (also 2012) 1000 Personen leben und jedes Jahr 10% dazukommen."
   ]
  },
  {
   "cell_type": "code",
   "execution_count": null,
   "id": "42cc00f6",
   "metadata": {},
   "outputs": [],
   "source": [
    "populationIn2012 = 1000\n",
    "populationIn2013 = populationIn2012 * 0.1\n",
    "populationIn2014 = populationIn2013 * 0.1\n",
    "populationIn2015 = populationIn2014 * 0.1\n",
    "\n",
    "print(f\"Die Population entwickelt sich folgendermassen: {populationIn2012} {populationIn2013} {populationIn2014} {populationIn2015}\")"
   ]
  },
  {
   "cell_type": "code",
   "execution_count": 3,
   "id": "8ea7eef1",
   "metadata": {},
   "outputs": [
    {
     "name": "stdout",
     "output_type": "stream",
     "text": [
      "Die Population entwickelt sich folgendermassen: 1000 1100.0 1210.0 1331.0\n"
     ]
    }
   ],
   "source": [
    "populationIn2012 = 1000\n",
    "populationIn2013 = populationIn2012 * 1.1\n",
    "populationIn2014 = populationIn2013 * 1.1\n",
    "populationIn2015 = populationIn2014 * 1.1\n",
    "\n",
    "print(f\"Die Population entwickelt sich folgendermassen: {populationIn2012} {populationIn2013} {populationIn2014} {populationIn2015}\")"
   ]
  },
  {
   "cell_type": "markdown",
   "id": "de1a4bd0",
   "metadata": {},
   "source": [
    "### Aufgabe 5:"
   ]
  },
  {
   "cell_type": "markdown",
   "id": "c664e0fb",
   "metadata": {},
   "source": [
    "Vereinfachen Sie folgenden Ausdruck:\n",
    "\n",
    "max(x - 3, min(x + 10, x + 5))\n",
    "\n"
   ]
  },
  {
   "cell_type": "code",
   "execution_count": null,
   "id": "2be4cd6f",
   "metadata": {},
   "outputs": [],
   "source": [
    "x + 5"
   ]
  },
  {
   "cell_type": "markdown",
   "id": "9d46ca11",
   "metadata": {},
   "source": [
    "### Aufgabe 6:"
   ]
  },
  {
   "cell_type": "markdown",
   "id": "f44e2308",
   "metadata": {},
   "source": [
    "Wir nehmen an, dass zwei Variablen x und y definiert sind. Schreiben Sie ein Programm, das den Wert von min(x, y)\n",
    "ausgibt. Benutzen Sie dabei jedoch nicht die min-Funktion.\n",
    "Nutzen Sie stattdessen max auf clevere Weise, um min zu simulieren. "
   ]
  },
  {
   "cell_type": "code",
   "execution_count": 2,
   "id": "cbcc33a3",
   "metadata": {},
   "outputs": [
    {
     "name": "stdout",
     "output_type": "stream",
     "text": [
      "3\n"
     ]
    }
   ],
   "source": [
    "x = 5\n",
    "y = 3\n",
    "minimum = -max(-x,-y)\n",
    "print(minimum)"
   ]
  },
  {
   "cell_type": "markdown",
   "id": "c65d94fe",
   "metadata": {},
   "source": [
    "### Aufgabe 7:"
   ]
  },
  {
   "cell_type": "markdown",
   "id": "402309fd",
   "metadata": {},
   "source": [
    "Eine Kreditkartenfirma berechnet den \"minimal auszahlbaren Betrag\" nach der folgenden Regel: \n",
    "\n",
    "Der Minimalbetrag ist entweder 10.- oder 2,1% des Kontobetrags, je nach dem, welches größer ist; aber wenn dies den Kontobetrag übersteigen würde, wird stattdessen dieser genommen. Schreiben Sie ein Programm, das den Minimalbetrag ausgibt und min und max benutzt. Nehmen Sie an, dass eine Variable balance definiert ist, die den Kontobetrag angibt.\n",
    "\n",
    "\n",
    "Beispiel 1: wenn dein balance 1000 ist, dann sollte das Programm 21 ausgeben.\n",
    "\n",
    "Beispiel 2: wenn dein balance 600 ist, dann sollte das Programm 12.6 ausgeben.\n",
    "\n",
    "Beispiel 3: wenn dein balance 25 ist, dann sollte das Programm 10 ausgeben.\n",
    "\n",
    "Beispiel 4: wenn dein balance 8 ist, dann sollte das Programm 8 ausgeben."
   ]
  },
  {
   "cell_type": "code",
   "execution_count": 20,
   "id": "a73aabe8",
   "metadata": {},
   "outputs": [
    {
     "name": "stdout",
     "output_type": "stream",
     "text": [
      "8\n"
     ]
    }
   ],
   "source": [
    "balance = 8\n",
    "minimalbetrag = max(balance*0.021,10)\n",
    "rückgabe = min(minimalbetrag,balance)\n",
    "print(rückgabe)"
   ]
  },
  {
   "cell_type": "code",
   "execution_count": null,
   "id": "d6f192ac",
   "metadata": {},
   "outputs": [],
   "source": []
  }
 ],
 "metadata": {
  "kernelspec": {
   "display_name": "Python 3 (ipykernel)",
   "language": "python",
   "name": "python3"
  },
  "language_info": {
   "codemirror_mode": {
    "name": "ipython",
    "version": 3
   },
   "file_extension": ".py",
   "mimetype": "text/x-python",
   "name": "python",
   "nbconvert_exporter": "python",
   "pygments_lexer": "ipython3",
   "version": "3.9.7"
  }
 },
 "nbformat": 4,
 "nbformat_minor": 5
}
