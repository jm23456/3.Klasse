{
 "cells": [
  {
   "cell_type": "markdown",
   "id": "af6f7a58-8d95-4877-b674-227386bc723e",
   "metadata": {},
   "source": [
    "### Loops - Repetition"
   ]
  },
  {
   "cell_type": "markdown",
   "id": "bed40efe-b0ec-47ee-97d2-3b57d461c5fc",
   "metadata": {},
   "source": [
    "#### Aufgabe 1"
   ]
  },
  {
   "cell_type": "markdown",
   "id": "da6ed9a8-fbdd-426e-a1d5-52a065d75663",
   "metadata": {},
   "source": [
    "Schreiben Sie ein Programm, das alle Zahlen von 1 bis 20 ausgibt und dabei überprüft, ob die Zahl gerade oder ungerade ist.\n",
    "\n",
    "Gib für jede Zahl aus:\n",
    "\"<Zahl> ist gerade\" oder\n",
    "\"<Zahl> ist ungerade\"."
   ]
  },
  {
   "cell_type": "code",
   "execution_count": null,
   "id": "099a4b9c-b4c0-41bc-aba6-0606ed49fdb5",
   "metadata": {},
   "outputs": [],
   "source": []
  },
  {
   "cell_type": "markdown",
   "id": "47eaa5e4-fb47-4b55-9d95-616cd24ccf76",
   "metadata": {},
   "source": [
    "#### Aufgabe 2"
   ]
  },
  {
   "cell_type": "markdown",
   "id": "0e315a20-9f11-4ca1-888d-a40e4616cb98",
   "metadata": {},
   "source": [
    "Schreiben Sie ein Programm, das den/die Benutzer:in nach einem Passwort fragt.\n",
    "\n",
    "Solange das eingegebene Passwort nicht korrekt ist, wird der/die Benutzer:in erneut aufgefordert, ein Passwort einzugeben.\n",
    "Sobald das Passwort richtig ist, soll das Programm die Nachricht „Zugang gewährt!“ ausgeben."
   ]
  },
  {
   "cell_type": "code",
   "execution_count": null,
   "id": "f972dd7a-0793-4c93-92c5-a3387a39692b",
   "metadata": {},
   "outputs": [],
   "source": []
  }
 ],
 "metadata": {
  "kernelspec": {
   "display_name": "Python 3 (ipykernel)",
   "language": "python",
   "name": "python3"
  },
  "language_info": {
   "codemirror_mode": {
    "name": "ipython",
    "version": 3
   },
   "file_extension": ".py",
   "mimetype": "text/x-python",
   "name": "python",
   "nbconvert_exporter": "python",
   "pygments_lexer": "ipython3",
   "version": "3.9.7"
  }
 },
 "nbformat": 4,
 "nbformat_minor": 5
}
