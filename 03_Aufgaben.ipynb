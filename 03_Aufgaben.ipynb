{
 "cells": [
  {
   "cell_type": "markdown",
   "id": "1e8ed862",
   "metadata": {},
   "source": [
    "# Aufgaben"
   ]
  },
  {
   "cell_type": "markdown",
   "id": "e9c7472a",
   "metadata": {},
   "source": [
    "### Aufgabe 1:"
   ]
  },
  {
   "cell_type": "markdown",
   "id": "59c7abf0",
   "metadata": {},
   "source": [
    "Schreiben Sie ein Programm, welches anhand ihres Jahrgangs ihr Alter berechnet und ausgibt."
   ]
  },
  {
   "cell_type": "code",
   "execution_count": null,
   "id": "a6b53170",
   "metadata": {},
   "outputs": [],
   "source": []
  },
  {
   "cell_type": "markdown",
   "id": "d302bb04",
   "metadata": {},
   "source": [
    "### Aufgabe 2:\n"
   ]
  },
  {
   "cell_type": "markdown",
   "id": "f755a1bd",
   "metadata": {},
   "source": [
    "Schreiben Sie ein print-Befehl, welcher die Wortbausteine zusammensetzt, und das Wort \"Rheinschifffahrtspolizeiverordnung\" ausgibt.\n",
    "Verwenden Sie nur die jeweiligen Variablen und verknüpfen Sie sie mit einem + Zeichen."
   ]
  },
  {
   "cell_type": "code",
   "execution_count": null,
   "id": "6eace10b",
   "metadata": {},
   "outputs": [],
   "source": [
    "a = \"zeivero\"\n",
    "b = \"ahr\"\n",
    "c = \"fff\"\n",
    "d = \"R\"\n",
    "e = \"hei\"\n",
    "f = \"rdnung\"\n",
    "g = \"tspoli\"\n",
    "h = \"nschi\"\n",
    "print()"
   ]
  },
  {
   "cell_type": "markdown",
   "id": "b767adc9",
   "metadata": {},
   "source": [
    "### Aufgabe 3:\n"
   ]
  },
  {
   "cell_type": "markdown",
   "id": "08b86e04",
   "metadata": {},
   "source": [
    "Schreiben Sie ein Programm, welches ihnen den Notenschnitt aus zwei Noten berechnet.\n",
    "In den Variablen \"note_1\" und \"note_2\" werden jeweils Zahlen gespeichert, \n",
    "und in einer Variable \"schnitt\" soll der Durchscnitt gespeichert werden.\n",
    "Geben Sie diesen Durchschnitt zum Schluss aus.\n",
    "\n",
    "(Bsp: note_1 = 4.2 , note_2 = 3.8 --> schnitt = 4.0)"
   ]
  },
  {
   "cell_type": "code",
   "execution_count": null,
   "id": "6239a031",
   "metadata": {},
   "outputs": [],
   "source": []
  },
  {
   "cell_type": "markdown",
   "id": "bf06f67c",
   "metadata": {},
   "source": [
    "### Aufgabe 4:"
   ]
  },
  {
   "cell_type": "markdown",
   "id": "ab0cf56d",
   "metadata": {},
   "source": [
    "Passen Sie das obige Programm an, um den Schnitt aus 4 Noten berechnen zu können."
   ]
  },
  {
   "cell_type": "markdown",
   "id": "121529a8",
   "metadata": {},
   "source": [
    "### Aufgabe 5:"
   ]
  },
  {
   "cell_type": "markdown",
   "id": "083429b8",
   "metadata": {},
   "source": [
    "Gegeben sind die Variablen a,b,c. Berechnen sie folgendes mithilfe der drei Variablen:\n",
    "\n",
    "    1. d = Durchschnitt von a,b plus den Wert von c.\n",
    "    2. e = Die hälfte von c minus a\n",
    "    3. f = a plus das Doppelte von b\n",
    "    4. g = Das Produkt aus a,b und c\n"
   ]
  },
  {
   "cell_type": "code",
   "execution_count": null,
   "id": "10ee7845",
   "metadata": {},
   "outputs": [],
   "source": [
    "a = 20\n",
    "b = 5\n",
    "c = 130"
   ]
  },
  {
   "cell_type": "markdown",
   "id": "a8859f1e",
   "metadata": {},
   "source": [
    "### Aufgabe 5:"
   ]
  },
  {
   "cell_type": "markdown",
   "id": "cec86745",
   "metadata": {},
   "source": [
    "Ändern Sie die Variabel x so ab, damit das Ergebnis 2023 ergibt:"
   ]
  },
  {
   "cell_type": "code",
   "execution_count": 2,
   "id": "13562437",
   "metadata": {},
   "outputs": [
    {
     "name": "stdout",
     "output_type": "stream",
     "text": [
      "1999\n"
     ]
    }
   ],
   "source": [
    "x = 0\n",
    "result = (1999 + x)%2024\n",
    "print(result)"
   ]
  },
  {
   "cell_type": "markdown",
   "id": "11eac74a",
   "metadata": {},
   "source": [
    "### Aufgabe 6:"
   ]
  },
  {
   "cell_type": "markdown",
   "id": "294387cb",
   "metadata": {},
   "source": [
    "In dieser Aufgabe lernen Sie den f-String kennen.\n",
    "Der Nutzen von f-Strings liegt in ihrer Einfachheit und Lesbarkeit. Sie ermöglichen es, Variablen und Ausdrücke direkt in Zeichenketten einzufügen, ohne komplizierte Konkatenation von Zeichenketten oder die Verwendung von %-Formatierungsoperatoren. Dies macht den Code übersichtlicher und leichter verständlich.\n",
    "\n",
    "F-Strings sind auch sehr flexibel und unterstützen das Einbetten von Ausdrücken, Variablen und sogar die Verwendung von Formatierungsoptionen, um Zahlen oder Datumsangaben in einem bestimmten Format anzuzeigen.\n",
    "\n",
    "Der folgende Code enthält noch einige Fehler. Korrigieren Sie diese, und verändern Sie das Programm so, dass auch die Temperatur in Kelvin angezeigt wird.\n",
    "\n",
    "Wir können Celsius in Fahrenheit umrechnen, indem wir folgende Formel verwenden: \n",
    "\n",
    "Grad Fahrenheit = Grad Celsius mal 1,8 plus 32. Beispiel 37 °C: 37 mal 1,8 ergibt 66,6."
   ]
  },
  {
   "cell_type": "code",
   "execution_count": 3,
   "id": "50088a36",
   "metadata": {},
   "outputs": [
    {
     "ename": "SyntaxError",
     "evalue": "invalid syntax (4003433461.py, line 2)",
     "output_type": "error",
     "traceback": [
      "\u001b[0;36m  Cell \u001b[0;32mIn[3], line 2\u001b[0;36m\u001b[0m\n\u001b[0;31m    temp_f = temp_c * (1.8 + 32)\u001b[0m\n\u001b[0m    ^\u001b[0m\n\u001b[0;31mSyntaxError\u001b[0m\u001b[0;31m:\u001b[0m invalid syntax\n"
     ]
    }
   ],
   "source": [
    "temp_c = float(input(\"Grad: \")\n",
    "temp_f = temp_c * (1.8 + 32)\n",
    "print(f\"Es ist {temp_f} Grad Celsius oder {temp_c} Grad Fahrenheit.\")"
   ]
  },
  {
   "cell_type": "code",
   "execution_count": null,
   "id": "ef3902be",
   "metadata": {},
   "outputs": [],
   "source": []
  }
 ],
 "metadata": {
  "kernelspec": {
   "display_name": "Python 3 (ipykernel)",
   "language": "python",
   "name": "python3"
  },
  "language_info": {
   "codemirror_mode": {
    "name": "ipython",
    "version": 3
   },
   "file_extension": ".py",
   "mimetype": "text/x-python",
   "name": "python",
   "nbconvert_exporter": "python",
   "pygments_lexer": "ipython3",
   "version": "3.9.7"
  }
 },
 "nbformat": 4,
 "nbformat_minor": 5
}
