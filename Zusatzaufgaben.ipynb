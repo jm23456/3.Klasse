{
 "cells": [
  {
   "cell_type": "markdown",
   "id": "6ef3c4c1-8cb3-4a6c-a1b0-e90351f943b8",
   "metadata": {},
   "source": [
    "## Aufgabe 1\n",
    "Schreibe ein Programm, das die Basis und die Höhe eines Dreiecks von der Konsole einliest und die Fläche berechnet.\n"
   ]
  },
  {
   "cell_type": "code",
   "execution_count": null,
   "id": "424111cd-794c-4c56-9d42-26394f8e5488",
   "metadata": {},
   "outputs": [],
   "source": []
  },
  {
   "cell_type": "markdown",
   "id": "4b2a53fb-d3c2-45c2-9a6f-7829714e643c",
   "metadata": {},
   "source": [
    "## Aufgabe 2\n",
    "Schreibe ein Programm, das das Alter einer Person in Jahren einliest und berechnet, wie viele Sekunden diese Person ungefähr gelebt hat. Du kannst davon ausgehen, dass ein Jahr immer 365 Tage hat.\n"
   ]
  },
  {
   "cell_type": "code",
   "execution_count": null,
   "id": "0b0292b8-04d1-4578-880d-264ae68d7114",
   "metadata": {},
   "outputs": [],
   "source": []
  },
  {
   "cell_type": "markdown",
   "id": "86e7ebec-432b-4733-a072-58b2dbd5320c",
   "metadata": {},
   "source": [
    "## Aufgabe 3\n",
    "Schreibe ein Programm, das ein Gewicht in Kilogramm von der Konsole einliest und dieses in Gramm, Pfund und Unzen umrechnet. Die Umrechnungsformeln lauten:\n",
    "\n",
    "•\tGramm = Kilogramm x 1000\n",
    "•\tPfund = Kilogramm x 2.20462\n",
    "•\tUnzen = Kilogramm x 35.274\n",
    "Gib das Gewicht in allen drei Einheiten aus."
   ]
  },
  {
   "cell_type": "code",
   "execution_count": null,
   "id": "a9090580-b0a8-4e16-be16-17da15453d2a",
   "metadata": {},
   "outputs": [],
   "source": []
  }
 ],
 "metadata": {
  "kernelspec": {
   "display_name": "Python 3 (ipykernel)",
   "language": "python",
   "name": "python3"
  },
  "language_info": {
   "codemirror_mode": {
    "name": "ipython",
    "version": 3
   },
   "file_extension": ".py",
   "mimetype": "text/x-python",
   "name": "python",
   "nbconvert_exporter": "python",
   "pygments_lexer": "ipython3",
   "version": "3.9.7"
  }
 },
 "nbformat": 4,
 "nbformat_minor": 5
}
