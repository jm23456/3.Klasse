{
 "cells": [
  {
   "cell_type": "markdown",
   "id": "f11895d3-24c3-4d2f-ae88-706d8871082c",
   "metadata": {},
   "source": [
    "# Funktionen"
   ]
  },
  {
   "cell_type": "markdown",
   "id": "148874c6-23ef-4948-bf08-fecd2e5ca69a",
   "metadata": {},
   "source": [
    "Funktionen erlauben es uns, Programme kürzer zu machen, besser zu organisieren, leichter zu lesen und zu debuggen und besser wiederzuverwenden.\n",
    "Ein grosser Vorteil an Funktionen ist es, Bausteine erneut verwenden zu können."
   ]
  },
  {
   "cell_type": "markdown",
   "id": "fd4f9af0-8c12-4d9a-ad54-f900dcfa6b46",
   "metadata": {},
   "source": [
    "# Beispiel"
   ]
  },
  {
   "cell_type": "markdown",
   "id": "a239ded7-a6dc-4346-8262-c178aaabec3f",
   "metadata": {},
   "source": [
    "Ein einfaches Beispiel:"
   ]
  },
  {
   "cell_type": "code",
   "execution_count": null,
   "id": "6023929c-4dec-4e6b-b41e-395f553286b4",
   "metadata": {},
   "outputs": [],
   "source": [
    "def sag_hallo():\n",
    "    print(\"Hallo\")"
   ]
  },
  {
   "cell_type": "markdown",
   "id": "7ff2c431-7c96-4130-a9b8-6951b44a3f9f",
   "metadata": {},
   "source": [
    "Nun ist die Funktion erstellt, und wir können sie aufrufen, indem wir sag_hallo() schreiben:"
   ]
  },
  {
   "cell_type": "code",
   "execution_count": null,
   "id": "916be564-b174-41de-98a6-cda2bacd6887",
   "metadata": {},
   "outputs": [],
   "source": [
    "sag_hallo()"
   ]
  },
  {
   "cell_type": "markdown",
   "id": "fe36d868-3d6c-4770-a7ff-d725249019c5",
   "metadata": {},
   "source": [
    "Das praktische ist, wir können nun diese Funktion mehrfach verwenden um z.B 100 mal Hallo zu sagen:"
   ]
  },
  {
   "cell_type": "code",
   "execution_count": null,
   "id": "30ad2b65-1b14-4176-a693-d72ee35ed1e6",
   "metadata": {},
   "outputs": [],
   "source": [
    "for i in range(100):\n",
    "    sag_hallo()"
   ]
  },
  {
   "cell_type": "markdown",
   "id": "eb8c27cb-3817-457f-b844-dbde8c8f1d8a",
   "metadata": {},
   "source": [
    "# Funktionen mit Argumenten"
   ]
  },
  {
   "cell_type": "markdown",
   "id": "d919d8b3-1b34-4d7e-91da-a6804dfcd0a2",
   "metadata": {},
   "source": [
    "Eine Funktion mit Argumenten gibt uns die Möglichkeit einen oder mehrere Werte der Funktion zu übergeben. "
   ]
  },
  {
   "cell_type": "markdown",
   "id": "23d5fdd1-0c63-49dd-9248-3a5bef9ac24e",
   "metadata": {},
   "source": [
    "Wir können nun z.B eine Funktion schreiben, welche überprüft ob eine Zahl x ungerade ist oder nicht. Die Variable x ist in diesem Beispiel das Argument der Funktion \"gerade(x)\"."
   ]
  },
  {
   "cell_type": "code",
   "execution_count": null,
   "id": "cb38354c-1c2b-4de8-99d6-8ff56f66d6cb",
   "metadata": {},
   "outputs": [],
   "source": [
    "def gerade(x):\n",
    "    if x % 2 == 0:\n",
    "        print(\"gerade\")\n",
    "    else:\n",
    "        print(\"ungerade\")"
   ]
  },
  {
   "cell_type": "markdown",
   "id": "94932ae4-c3ed-4589-b936-9dbc2eb26db0",
   "metadata": {},
   "source": [
    "Testen wir diese anhand mehrerer Werte:"
   ]
  },
  {
   "cell_type": "code",
   "execution_count": null,
   "id": "36019173-05c2-43e9-a51d-9a02b739c8b9",
   "metadata": {},
   "outputs": [],
   "source": [
    "gerade(10)\n",
    "gerade(13)\n",
    "gerade(19)"
   ]
  },
  {
   "cell_type": "markdown",
   "id": "efeebcc3-71e0-4e1f-9b85-f177301dc67c",
   "metadata": {},
   "source": [
    "Wir können einer Funktion auch gleich mehrere Argumente übergeben:"
   ]
  },
  {
   "cell_type": "markdown",
   "id": "62180eb2-6dfd-4064-8dcf-179550c03c75",
   "metadata": {},
   "source": [
    "Im nächsten Beispiel möchten wir eine Funktion schreiben, welche überprüft ob eine Variable a durch eine Variable b teilbar ist:"
   ]
  },
  {
   "cell_type": "code",
   "execution_count": null,
   "id": "3f51259e-e98c-4ee1-a39c-8cd6e85491d9",
   "metadata": {},
   "outputs": [],
   "source": [
    "def teilbar(a,b):\n",
    "    if a % b == 0:\n",
    "        print(\"a ist durch b teilbar\")\n",
    "    else:\n",
    "        print(\"a ist nicht durch b teilbar\")"
   ]
  },
  {
   "cell_type": "markdown",
   "id": "0fc94c42-5531-407b-a3d8-6f77ccb3fbfb",
   "metadata": {},
   "source": [
    "# Rückgabewert"
   ]
  },
  {
   "cell_type": "markdown",
   "id": "55696da6-2ecb-43a1-a23e-a3bac0c2eb0f",
   "metadata": {},
   "source": [
    "Wir können Rückgabewerte in Funktionen verwenden,um sie noch cleverer einsetzen zu können.\n",
    "Beispielsweise sollen von den Zahlen von 1-100 die Zahlen ausgegeben werden, welche durch 2 teilbar sind. Wir modifizieren die Funktion \"teilbar(a,b)\" so, dass die Rückgabe \"True\" oder \"False\" zurückgegeben wird."
   ]
  },
  {
   "cell_type": "code",
   "execution_count": null,
   "id": "737226c2-9999-4e6a-9963-7b107bf7ae65",
   "metadata": {},
   "outputs": [],
   "source": [
    "def teilbar(a,b):\n",
    "    if a % b == 0:\n",
    "        print(\"a ist durch b teilbar\")\n",
    "        return True\n",
    "    else:\n",
    "        print(\"a ist nicht durch b teilbar\")\n",
    "        return False"
   ]
  },
  {
   "cell_type": "markdown",
   "id": "49cdfa7c-0a7f-4ea1-87d0-f0a8f577f00e",
   "metadata": {},
   "source": [
    "Diese Rückgabe \"return True/False\" können wir in einem if-Statement direkt nutzen, um die Teilbarkeit durch 2 zu prüfen."
   ]
  },
  {
   "cell_type": "code",
   "execution_count": null,
   "id": "8df915dc-da35-4cd3-b5d3-15fd221c63ac",
   "metadata": {},
   "outputs": [],
   "source": [
    "for n in range(100):\n",
    "    if teilbar(n,2) == True:\n",
    "        print(n)"
   ]
  },
  {
   "cell_type": "markdown",
   "id": "0357a405-888d-4415-8e0b-c49f32a8faf6",
   "metadata": {},
   "source": [
    "Das \"return\"-Statement verhält sich ähnlich wie das \"break\"-Statement bei den loops. Sobald es ausgeführt wird, wird die Funktion beendet und der Rückgabewert zurückgegeben.\n",
    "Wir kürzen die Funktion noch ein wenig und belassen nur die essenziellen Teile:"
   ]
  },
  {
   "cell_type": "code",
   "execution_count": null,
   "id": "fe401d6c-9f8d-4a84-8aee-0168f04021e9",
   "metadata": {},
   "outputs": [],
   "source": [
    "def teilbar(a,b):\n",
    "    if a % b == 0:\n",
    "        return True\n",
    "    else:\n",
    "        return False"
   ]
  },
  {
   "cell_type": "markdown",
   "id": "ea96f854-a4ab-4a62-8fe3-512eda72a6e0",
   "metadata": {},
   "source": [
    "Nun können wir lediglich die Werte zurückgeben, welche Teilbar sind durch 2:"
   ]
  },
  {
   "cell_type": "code",
   "execution_count": null,
   "id": "f3bedc0c-adca-4b32-b4af-4d1478d16b3f",
   "metadata": {},
   "outputs": [],
   "source": [
    "for n in range(10):\n",
    "    if teilbar(n,2) == True:\n",
    "        print(n)"
   ]
  },
  {
   "cell_type": "markdown",
   "id": "2b9a1a5b-ce32-4271-84ce-31858bac64d2",
   "metadata": {},
   "source": [
    "# Funktionen innerhalb Funktionen"
   ]
  },
  {
   "cell_type": "markdown",
   "id": "5efae0a7-1555-486f-a7f0-2f7b30dafbf5",
   "metadata": {},
   "source": [
    "Wir können innerhalb von Funktionen andere Funktionen aufrufen. Versuchen wir nun eine Funktion zu schreiben, welche uns alle geraden Zahlen bis zu einem bestimmten Wert n zurückgeben, welche durch 3 Teilbar sind.\n",
    "\n",
    "Wir definieren eine neue Funktion \"teilbar_bis(n)\", welche die Funktion \"teilbar(a,b)\" verwendet:"
   ]
  },
  {
   "cell_type": "code",
   "execution_count": null,
   "id": "fbfe38c1-4f6f-4bfb-91ac-2b33b79b79f0",
   "metadata": {},
   "outputs": [],
   "source": [
    "def teilbar_bis(n):\n",
    "    for x in range(n):\n",
    "        if teilbar(x,3) == True:\n",
    "            print(x)\n",
    "teilbar_bis(50)"
   ]
  },
  {
   "cell_type": "markdown",
   "id": "84fc3b24-a2a0-425a-a4b6-f07cb733bcdd",
   "metadata": {},
   "source": [
    "Da der Rückgabewert der Funktion \"teilbar(a,b)\" bereits eine logische Aussage \"True/False\" ist, können wir den Code noch ein wenig vereinfachen:"
   ]
  },
  {
   "cell_type": "code",
   "execution_count": null,
   "id": "335f851c-c5e0-4964-8845-ac89de80c7cf",
   "metadata": {},
   "outputs": [],
   "source": [
    "def teilbar_bis(n):\n",
    "    for x in range(n):\n",
    "        if teilbar(x,3):  #Abkürzen\n",
    "            print(x)\n",
    "teilbar_bis(20)"
   ]
  },
  {
   "cell_type": "markdown",
   "id": "7963ea2b-74bc-49ca-ad52-6dfb1e32e602",
   "metadata": {},
   "source": [
    "# Aufgaben"
   ]
  },
  {
   "cell_type": "markdown",
   "id": "09a0194b-ac69-4604-bb89-a97ed3c8d4f8",
   "metadata": {},
   "source": [
    "## Aufgabe 1:"
   ]
  },
  {
   "cell_type": "markdown",
   "id": "989ea936-5047-421a-93b5-dd3dcdc1b638",
   "metadata": {},
   "source": [
    "Schreiben Sie eine Funktion, welche eine eingegebene Zahl quadriert und das Ergebnis zurückgibt. (Quadrieren entweder mit x*x oder x**2)"
   ]
  },
  {
   "cell_type": "code",
   "execution_count": null,
   "id": "1d162b13-26d4-424b-a277-705bd73f2c02",
   "metadata": {},
   "outputs": [],
   "source": []
  },
  {
   "cell_type": "markdown",
   "id": "183442a7-9395-481d-a418-4a79a21c6e84",
   "metadata": {},
   "source": [
    "## Aufgabe 2:"
   ]
  },
  {
   "cell_type": "markdown",
   "id": "0be74415-e886-4e7e-a580-51d2b2ae7448",
   "metadata": {},
   "source": [
    "Erstellen Sie eine Funktion, die die Fläche und den Umfang eines Rechtecks basierend auf seiner Länge und Breite berechnet."
   ]
  },
  {
   "cell_type": "code",
   "execution_count": null,
   "id": "81465452-5914-461e-b8f2-fb6627632207",
   "metadata": {},
   "outputs": [],
   "source": []
  },
  {
   "cell_type": "markdown",
   "id": "3796ac55-b407-4b31-be92-ca5b7b1b0baa",
   "metadata": {},
   "source": [
    "## Aufgabe 3:"
   ]
  },
  {
   "cell_type": "markdown",
   "id": "fed11e99-bf8e-43da-9dd3-c3e4e4d3a14b",
   "metadata": {},
   "source": [
    "Schreiben sie eine Funktion, die überprüft, ob eine übergebene Zahl eine Primzahl ist oder nicht. Nutzen Sie dafür die bereits erwähnte Funktion \"teilbar(a,b)\"."
   ]
  },
  {
   "cell_type": "code",
   "execution_count": null,
   "id": "2a824c58-c075-4ad5-b847-1611bb55f7f2",
   "metadata": {},
   "outputs": [],
   "source": []
  },
  {
   "cell_type": "markdown",
   "id": "5f3652e5-93d7-41b9-bb66-fb4dc6cc8ac6",
   "metadata": {},
   "source": [
    "## Aufgabe 4:"
   ]
  },
  {
   "cell_type": "markdown",
   "id": "4381746e-2ea7-45b7-ba3f-74d2dd5ec500",
   "metadata": {},
   "source": [
    "Schreiben Sie eine Funktion, welche überprüft, ob ein bestimmter Buchstabe in einem String vorhanden ist oder nicht. Die Funktion \"buchstabensuche(buchstabe,wort)\" soll den Wert \"True\" zurückgeben, sollte sich der Buchstabe im Wort befinden, anderenfalls soll \"False\" zurückgegeben werden."
   ]
  },
  {
   "cell_type": "code",
   "execution_count": null,
   "id": "3b176030-bc4c-4a7e-a36c-a596872a43b2",
   "metadata": {},
   "outputs": [],
   "source": []
  },
  {
   "cell_type": "markdown",
   "id": "f0429641-815d-4889-be5e-24a2361e69b7",
   "metadata": {},
   "source": [
    "## Aufgabe 5:"
   ]
  },
  {
   "cell_type": "markdown",
   "id": "2e251ccd-67bc-4f3a-b2c6-9d6b75133264",
   "metadata": {},
   "source": [
    "Beschreiben Sie, was die Funktion \"funktion_2\" bezweckt:"
   ]
  },
  {
   "cell_type": "code",
   "execution_count": null,
   "id": "41ef53da-ba74-4d0b-b849-e90637fa1dcb",
   "metadata": {},
   "outputs": [],
   "source": [
    "def funktion_1(s):\n",
    "    z = 0\n",
    "    for i in range(len(s)):\n",
    "        if s[i] == \"i\" or s[i] == \"I\":\n",
    "            z += 1\n",
    "    return z\n",
    "def funktion_2(s):\n",
    "    z = funktion_1(s)\n",
    "    print(f\"{s} hat {z} i's.\")\n",
    "\n",
    "funktion_2(\"Wiedikon,Zimmerberg\")"
   ]
  },
  {
   "cell_type": "markdown",
   "id": "cd1c867c-ef80-4bb9-b8cf-8ba965f4cec8",
   "metadata": {},
   "source": []
  },
  {
   "cell_type": "markdown",
   "id": "d4655bfc-5e84-439b-b613-8726e956eec1",
   "metadata": {},
   "source": [
    "## Zusatzaufgabe:"
   ]
  },
  {
   "cell_type": "markdown",
   "id": "073f8b40-c8f9-473a-8c51-c2e259da7455",
   "metadata": {},
   "source": [
    "Schreiben Sie eine Funktion \"password_check()\", welche überprüft, ob ihr Passwort den folgenden Anforderungen entspricht.\n",
    "\n",
    "    -> Mindestlänge von 15 Zeichen\n",
    "    \n",
    "    -> Das Zeichen \"j\" muss enthalten sein\n",
    "    \n",
    "    -> Das Zeichen \"x\" darf nicht enthalten sein\n",
    "    \n",
    "    -> Maximallänge von 20 Zeichen"
   ]
  },
  {
   "cell_type": "code",
   "execution_count": null,
   "id": "9b39b83c-f35e-4359-a70a-402513e71651",
   "metadata": {},
   "outputs": [],
   "source": []
  }
 ],
 "metadata": {
  "kernelspec": {
   "display_name": "Python 3 (ipykernel)",
   "language": "python",
   "name": "python3"
  },
  "language_info": {
   "codemirror_mode": {
    "name": "ipython",
    "version": 3
   },
   "file_extension": ".py",
   "mimetype": "text/x-python",
   "name": "python",
   "nbconvert_exporter": "python",
   "pygments_lexer": "ipython3",
   "version": "3.9.7"
  }
 },
 "nbformat": 4,
 "nbformat_minor": 5
}
