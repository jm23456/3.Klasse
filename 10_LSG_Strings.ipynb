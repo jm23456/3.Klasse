{
 "cells": [
  {
   "cell_type": "markdown",
   "id": "90c182c4",
   "metadata": {},
   "source": [
    "# Einführung"
   ]
  },
  {
   "cell_type": "markdown",
   "id": "3557bd47",
   "metadata": {},
   "source": [
    "Bislang haben wir Zeichenketten bzw. Strings (Elemente vom Typ str ) nur auf ganz einfache Art und Weise verwendet. In dieser Lektion zeigen wir, wie man Strings manipulieren kann: wie man sie auseinander nehmen kann, wie man sie kombinieren kann und wie man die unterschiedlichen Zeichen betrachten kann, aus denen ein String besteht."
   ]
  },
  {
   "cell_type": "markdown",
   "id": "ed5a3a40",
   "metadata": {},
   "source": [
    "## Was ist ein String?\n"
   ]
  },
  {
   "cell_type": "markdown",
   "id": "7f7b44e6",
   "metadata": {},
   "source": [
    "Was ist ein String?\n",
    "Alle Daten, die auf einem Computer gespeichert sind, werden letztlich als eine Folge von 0-en und 1-en gespeichert. Dazu gehören Texte, digitale Bücher, Bilder, Lieder, Videos und \"executable files\", also ausführbare Dateien wie Spiele und Anwendungen. Textdaten werden in der Regel als Strings gespeichert:\n",
    "\n",
    "Ein String ist eine Kette (auch: Folge) von Zeichen. \n",
    "\n",
    "Der String \"Hello, World!\" z.B. enthält 13 Zeichen, darunter Buchstaben wie \"H\", \"e\" und Zeichensetzung wie \" \", \"!\".\n",
    "Jedes Zeichen im String entspricht genau genommen einer Zahl. Die Zahl ist der Code des Zeichens; \"H\" zum Beispiel entspricht der Zahl 72 (bzw. 48 im Hexadezimalsystem), und zwar sowohl im ASCII-Code als auch im Unicode.)\n",
    "(Zahlen werden vom Computer in einem binären Format gespeichert - eben als Folge von 0-en und 1-en, auch Bitfolge genannt. Für ein Zeichen wird letztlich die binäre Darstellung seines Zahlencodes gespeichert; für das \"H\" also die Bitfolge 01001000.)"
   ]
  },
  {
   "cell_type": "markdown",
   "id": "1541ba15",
   "metadata": {},
   "source": [
    "## Das Manipulieren von Strings als Folgen von Zeichen:\n"
   ]
  },
  {
   "cell_type": "markdown",
   "id": "ecb5bb7b",
   "metadata": {},
   "source": [
    "Um einen String zu manipulieren, müssen wir in der Lage sein, auf die individuellen Zeichen zugreifen zu können, aus denen der String besteht. In Python wird dies folgendermaßen gemacht: für einen String S und eine Ganzzahl index, liefert die Notation\n",
    "\n",
    "S[index]\n",
    "das Zeichen von S an der Position index. Nach der Konvention beginnt der String beim Index 0: also ist S[0] das erste Zeichen, S[1] das zweite Zeichen, etc. In \"Hello, World!\" ist die Liste von Zeichen (engl.: character) folgende:\n",
    "\n",
    "Index: 0  1  2  3  4  5  6  7  8  9 10 11 12\n",
    "\n",
    "Char.: H  e  l  l  o  ,     W  o  r  l  d  !"
   ]
  },
  {
   "cell_type": "markdown",
   "id": "15a42e3d",
   "metadata": {},
   "source": [
    "## Beispiel:"
   ]
  },
  {
   "cell_type": "markdown",
   "id": "a7452b41",
   "metadata": {},
   "source": [
    "Führen Sie folgende Zelle aus:"
   ]
  },
  {
   "cell_type": "code",
   "execution_count": 1,
   "id": "f4ca7da7",
   "metadata": {},
   "outputs": [
    {
     "name": "stdout",
     "output_type": "stream",
     "text": [
      "K\n",
      "A\n"
     ]
    }
   ],
   "source": [
    "wort = \"KANTONSSCHULE\"\n",
    "erster_buchstabe = wort[0]\n",
    "zweiter_buchstabe = wort[1]\n",
    "print(erster_buchstabe)\n",
    "print(zweiter_buchstabe)\n"
   ]
  },
  {
   "cell_type": "markdown",
   "id": "49aa9107",
   "metadata": {},
   "source": [
    "Versuchen Sie nun den Buchstaben \"N\" des worts auszugeben:"
   ]
  },
  {
   "cell_type": "code",
   "execution_count": 2,
   "id": "37b9cddd",
   "metadata": {},
   "outputs": [
    {
     "name": "stdout",
     "output_type": "stream",
     "text": [
      "N\n"
     ]
    }
   ],
   "source": [
    "wort = \"KANTONSSCHULE\"\n",
    "print(wort[2]) # Der String \"wort\" an der Stelle 2 (0,1,2) also der dritte Buchstabe"
   ]
  },
  {
   "cell_type": "markdown",
   "id": "f16bf5a9",
   "metadata": {},
   "source": [
    "## Die Anzahl von Zeichen in einem String finden:"
   ]
  },
  {
   "cell_type": "markdown",
   "id": "7606091c",
   "metadata": {},
   "source": [
    "Um die Anzahl von Zeichen in einem String zu finden, benutzen wir die Python Funktion len(string). Versuchen Sie in folgendem Codeblock die Länge des strings \"wort\" auszugeben:"
   ]
  },
  {
   "cell_type": "code",
   "execution_count": 3,
   "id": "faca3786",
   "metadata": {},
   "outputs": [
    {
     "name": "stdout",
     "output_type": "stream",
     "text": [
      "13\n"
     ]
    }
   ],
   "source": [
    "wort = \"KANTONSSCHULE\"\n",
    "print(len(wort))\n",
    "# Die Länge des Strings \"wort\" ist 13. Die Zeichen sind jedoch 0,1,...,12 nummeriert!"
   ]
  },
  {
   "cell_type": "markdown",
   "id": "5fb5d9c9",
   "metadata": {},
   "source": [
    "Nun da wir wissen wie lange dieser string ist, sollte es uns gelingen den letzten Buchstaben des strings auszugeben. Versuchen Sie mittels len(string) herauszufinden wie lange der string ist, und anschliessend mit string[index] den letzten Buchstaben auszugeben."
   ]
  },
  {
   "cell_type": "code",
   "execution_count": 6,
   "id": "851fa022",
   "metadata": {},
   "outputs": [
    {
     "name": "stdout",
     "output_type": "stream",
     "text": [
      "36\n",
      "K\n",
      "K\n"
     ]
    }
   ],
   "source": [
    "langes_wort = \"AOIJSDOINDBJSBKJAKJNSDJNSJNDJJJWWEJK\"\n",
    "laenge = len(langes_wort)\n",
    "print(laenge)\n",
    "print(langes_wort[35]) # Indirekte Variante\n",
    "print(langes_wort[laenge-1]) # Direkte Variante\n"
   ]
  },
  {
   "cell_type": "markdown",
   "id": "164846cc",
   "metadata": {},
   "source": [
    "## Strings ausschneiden: S[:]"
   ]
  },
  {
   "cell_type": "markdown",
   "id": "cf9c9875",
   "metadata": {},
   "source": [
    "Einen Teil eines Strings auszuschneiden ergibt einen Substring bzw. Teilstring. So sind zum Beispiel die Strings \"eat\" und \"ted\" Substrings von \"repeated\". Um einen Substring in Python auszuwählen, verwenden wir die Syntax:\n",
    "\n",
    "S[firstIndex:tailIndex]\n",
    "\n",
    "um den Substring am Index firstIndex (Anfangsindex) beginnen zu lassen und ihn enden zu lassen bei tailIndex-1 (Schlussindex).  Versuche herauszufinden, was die Ausgabe des folgenden Codes ist, bevor du ihn ausführst.\n",
    "\n",
    "Sehen Sie sich nun folgendes Codebeispiel dazu an:"
   ]
  },
  {
   "cell_type": "code",
   "execution_count": 7,
   "id": "4774857c",
   "metadata": {},
   "outputs": [
    {
     "name": "stdout",
     "output_type": "stream",
     "text": [
      "ABRA\n",
      "ABRA\n"
     ]
    }
   ],
   "source": [
    "zauberspruch = \"ABRACADABRA\"\n",
    "substring_1 = zauberspruch[0:4]\n",
    "substring_2 = zauberspruch[len(zauberspruch)-4:len(zauberspruch)]\n",
    "print(substring_1)\n",
    "print(substring_2)"
   ]
  },
  {
   "cell_type": "markdown",
   "id": "17df59ca",
   "metadata": {},
   "source": [
    "Weshalb geben die beiden print-statements dieselbe Ausgabe?"
   ]
  },
  {
   "cell_type": "markdown",
   "id": "c05d6dbc",
   "metadata": {},
   "source": [
    "Die print-statements zeigen uns zwei Versionen des substrings \"ABRA\", welche im Wort \"ABRA-CAD-ABRA\" vorkommen.\n",
    "\n",
    "Die erste Version entspricht den inizes 0,1,2,3 des strings \"zauberspruch\".\n",
    "\n",
    "Die zweite Version entspricht den indizes 7,8,9,10.\n",
    "\n",
    "Beim Befehl zauberspruch[0:4] wird der Teilstring von 0 bis (4-1) des Strings ausgegeben, also 0,1,2,3\n",
    "\n",
    "Beim zweiten Befehl zauberspruch[len(zauberspruch)-4:len(zauberspruch)] wird der Teilstring folgdendermassen gebaut:\n",
    "\n",
    "\n",
    "der Anfangsindex entspricht der Rechnung len(zauberspruch)-4. Dies wird in diesem Beispiel 11-4=7 ergeben. \n",
    "\n",
    "Der Schlussindex ist len(zauberspruch). Die Zahl des Schlussindex wird jedoch noch minus eins gerechnet, also 11-1=10. Also wird der substring mit den indizes 7,8,9,10 ausgegeben."
   ]
  },
  {
   "cell_type": "markdown",
   "id": "e06e1a93",
   "metadata": {},
   "source": [
    "# Übungen"
   ]
  },
  {
   "cell_type": "markdown",
   "id": "e18bb13b",
   "metadata": {},
   "source": [
    "## Aufgabe 1"
   ]
  },
  {
   "cell_type": "markdown",
   "id": "6e1b401c",
   "metadata": {},
   "source": [
    "Schreibe ein Programm, das einen String liest, indem es input() verwendet, und den selben String ausgibt, aber mit dem Unterschied, dass das erste und letzte Zeichen gelöscht wird. (Du darfst annehmen, dass der Input String eine Mindestlänge von 2 hat.) Zum Beispiel, bei der Eingabe Fairy wird ein korrektes Program air ausgeben."
   ]
  },
  {
   "cell_type": "code",
   "execution_count": 9,
   "id": "02bb6e2a",
   "metadata": {},
   "outputs": [
    {
     "name": "stdout",
     "output_type": "stream",
     "text": [
      "wort: Fairy\n",
      "air\n"
     ]
    }
   ],
   "source": [
    "wort = input(\"wort: \")\n",
    "print(wort[1:len(wort)-1])"
   ]
  },
  {
   "cell_type": "markdown",
   "id": "a1320736",
   "metadata": {},
   "source": [
    "## Aufgabe 2\n"
   ]
  },
  {
   "cell_type": "markdown",
   "id": "94182072",
   "metadata": {},
   "source": [
    "Schreibe ein Programm, das einen String liest, indem es input() verwendet und den gleichen String ausgibt, aber mit dem ersten und letzten Zeichen vertauscht. (Du darfst annehmen, dass der Input String eine Mindestlänge von 2 hat.) Zum Beispiel wird bei der Eingabe Fairy ein korrektes Programm yairF ausgeben. Tipp: Verwende deine Lösung aus dem vorherigen Programm.\n",
    "\n",
    "Tipp: strings können mit \"+\" aneinandergeklebt werden. Beispiel: \"Hal\" + \"lo\" = \"Hallo\""
   ]
  },
  {
   "cell_type": "code",
   "execution_count": 12,
   "id": "61b709d7",
   "metadata": {},
   "outputs": [
    {
     "name": "stdout",
     "output_type": "stream",
     "text": [
      "wort: Hallo\n",
      "oallH\n"
     ]
    }
   ],
   "source": [
    "wort = input(\"wort: \")\n",
    "erster_buchstabe = wort[0:1]\n",
    "letzter_buchstabe = wort[len(wort)-1:len(wort)]\n",
    "mittelteil = wort[1:len(wort)-1]\n",
    "neues_wort = letzter_buchstabe + mittelteil + erster_buchstabe\n",
    "print(neues_wort)"
   ]
  },
  {
   "cell_type": "markdown",
   "id": "b9b92e07",
   "metadata": {},
   "source": [
    "## Aufgabe 3\n"
   ]
  },
  {
   "cell_type": "markdown",
   "id": "86117cce",
   "metadata": {},
   "source": [
    "Was ist falsch an folgendem Codebeispiel:"
   ]
  },
  {
   "cell_type": "code",
   "execution_count": 13,
   "id": "a1068cbd",
   "metadata": {},
   "outputs": [
    {
     "ename": "TypeError",
     "evalue": "unsupported operand type(s) for +: 'int' and 'str'",
     "output_type": "error",
     "traceback": [
      "\u001b[0;31m---------------------------------------------------------------------------\u001b[0m",
      "\u001b[0;31mTypeError\u001b[0m                                 Traceback (most recent call last)",
      "Cell \u001b[0;32mIn[13], line 3\u001b[0m\n\u001b[1;32m      1\u001b[0m x \u001b[38;5;241m=\u001b[39m \u001b[38;5;241m5\u001b[39m\n\u001b[1;32m      2\u001b[0m wort \u001b[38;5;241m=\u001b[39m \u001b[38;5;124m\"\u001b[39m\u001b[38;5;124m-Prozent\u001b[39m\u001b[38;5;124m\"\u001b[39m\n\u001b[0;32m----> 3\u001b[0m \u001b[38;5;28mprint\u001b[39m(\u001b[43mx\u001b[49m\u001b[38;5;241;43m+\u001b[39;49m\u001b[43mwort\u001b[49m)\n",
      "\u001b[0;31mTypeError\u001b[0m: unsupported operand type(s) for +: 'int' and 'str'"
     ]
    }
   ],
   "source": [
    "x = 5\n",
    "wort = \"-Prozent\"\n",
    "print(x+wort)"
   ]
  },
  {
   "cell_type": "markdown",
   "id": "23643917",
   "metadata": {},
   "source": [
    "wir können nicht Zahlen + Strings rechnen! --> erst Umformen, dann funktioniert es:"
   ]
  },
  {
   "cell_type": "code",
   "execution_count": 14,
   "id": "8d95a9da",
   "metadata": {},
   "outputs": [
    {
     "name": "stdout",
     "output_type": "stream",
     "text": [
      "5-Prozent\n"
     ]
    }
   ],
   "source": [
    "x = str(5)\n",
    "wort = \"-Prozent\"\n",
    "print(x+wort)"
   ]
  },
  {
   "cell_type": "markdown",
   "id": "12fa3d46",
   "metadata": {},
   "source": [
    "## Aufgabe 4\n"
   ]
  },
  {
   "cell_type": "markdown",
   "id": "63288f51",
   "metadata": {},
   "source": [
    "Dieses Programm soll eine Zahl \"x\" und einen string \"wort\" vom User entgegennehmen. Anschliessend soll das \"wort\" \"x\"-mal ausgegeben werden."
   ]
  },
  {
   "cell_type": "code",
   "execution_count": 16,
   "id": "ba4509bc",
   "metadata": {},
   "outputs": [
    {
     "name": "stdout",
     "output_type": "stream",
     "text": [
      "Zahl: 100\n",
      "Wort: KZI\n",
      "KZIKZIKZIKZIKZIKZIKZIKZIKZIKZIKZIKZIKZIKZIKZIKZIKZIKZIKZIKZIKZIKZIKZIKZIKZIKZIKZIKZIKZIKZIKZIKZIKZIKZIKZIKZIKZIKZIKZIKZIKZIKZIKZIKZIKZIKZIKZIKZIKZIKZIKZIKZIKZIKZIKZIKZIKZIKZIKZIKZIKZIKZIKZIKZIKZIKZIKZIKZIKZIKZIKZIKZIKZIKZIKZIKZIKZIKZIKZIKZIKZIKZIKZIKZIKZIKZIKZIKZIKZIKZIKZIKZIKZIKZIKZIKZIKZIKZIKZIKZI\n"
     ]
    }
   ],
   "source": [
    "x = int(input(\"Zahl: \"))\n",
    "wort = input(\"Wort: \")\n",
    "print(x*wort)"
   ]
  },
  {
   "cell_type": "markdown",
   "id": "eed30412",
   "metadata": {},
   "source": [
    "## Aufgabe 5\n"
   ]
  },
  {
   "cell_type": "markdown",
   "id": "b88f8045",
   "metadata": {},
   "source": [
    "Pig Latin ist eine Nonsenssprache. Um ein Wort aus dem Englischen zu Pig Latin zu transformieren, bewegt man den ersten Buchstaben an das Ende und fügt danach \"ay\" an. Zum Beispiel verwandelt sich monkey in onkeymay und word wird zu ordway. Schreiben Sie ein Programm, das ein einzelnes Wort als Input nimmt und es in Pig Latin übersetzt. (Eigentlich sind die Regeln von Pig Latin komplizierter als wir es dargestellt haben, aber wir ignorieren diesen Umstand für diese Aufgabe.)"
   ]
  },
  {
   "cell_type": "code",
   "execution_count": 18,
   "id": "4b59323b",
   "metadata": {},
   "outputs": [
    {
     "name": "stdout",
     "output_type": "stream",
     "text": [
      "Wort: word\n",
      "ordway\n"
     ]
    }
   ],
   "source": [
    "wort = input(\"Wort: \")\n",
    "erster_buchstabe = wort[0:1]\n",
    "rest_wort = wort[1:len(wort)]\n",
    "pig_latin = rest_wort + erster_buchstabe + \"ay\"\n",
    "print(pig_latin)"
   ]
  },
  {
   "cell_type": "code",
   "execution_count": 22,
   "id": "79b89cc2",
   "metadata": {},
   "outputs": [
    {
     "name": "stdout",
     "output_type": "stream",
     "text": [
      "Wort: hello monkey i'm a dorky donkey\n",
      "ellohay onkeymay 'miay aay orkyday onkeyday \n"
     ]
    }
   ],
   "source": [
    "# ZUSATZ --> GANZER SATZ IN PIGLATIN:\n",
    "satz = input(\"Wort: \")\n",
    "def Piglatin(wort):\n",
    "    erster_buchstabe = wort[0:1]\n",
    "    rest_wort = wort[1:len(wort)]\n",
    "    pig_latin = rest_wort + erster_buchstabe + \"ay\"\n",
    "    return pig_latin\n",
    "wörter = satz.split(\" \")\n",
    "neuer_satz = \"\"\n",
    "for wort in wörter:\n",
    "    neuer_satz += Piglatin(wort) + \" \"\n",
    "    \n",
    "print(neuer_satz)"
   ]
  },
  {
   "cell_type": "markdown",
   "id": "24ea8e2f",
   "metadata": {},
   "source": [
    "## Zusatzaufgabe 1\n"
   ]
  },
  {
   "cell_type": "markdown",
   "id": "f0e0495c",
   "metadata": {},
   "source": [
    "Lesen Sie unter folgendem Link über die Funktionen \"ord\" und \"char\" nach:"
   ]
  },
  {
   "cell_type": "markdown",
   "id": "38254938",
   "metadata": {},
   "source": [
    "https://userpage.fu-berlin.de/~ram/pub/pub_jf47ht81Ht/ord_python"
   ]
  },
  {
   "cell_type": "markdown",
   "id": "62db1eaf",
   "metadata": {},
   "source": [
    "Schreiben Sie ein Programm, das ein Zeichen als Input nimmt (ein String der Länge 1), von dem du annehmen solltest, das es ein Großbuchstabe ist. Ausgegeben werden sollte das nächste Zeichen im Alphabet. Wenn der Input 'Z' ist, sollte dein Output 'A' sein. (Sie werden ein if Statement benutzen müssen)."
   ]
  },
  {
   "cell_type": "markdown",
   "id": "54b4f718",
   "metadata": {},
   "source": [
    "LÖSUNGEN AUF ANFRAGE !!"
   ]
  },
  {
   "cell_type": "markdown",
   "id": "b5c75726",
   "metadata": {},
   "source": [
    "## Zusatzaufgabe 2\n"
   ]
  },
  {
   "cell_type": "markdown",
   "id": "884ef4ea",
   "metadata": {},
   "source": [
    "Schreiben Sie ein Programm, welches die Buchstaben eines gegebenen Inputs um einen Buchstaben \"verschiebt\".\n",
    "\n",
    "Beispiel: \"ABC\" sollte zu \"BCD\" werden."
   ]
  },
  {
   "cell_type": "code",
   "execution_count": null,
   "id": "78c23724",
   "metadata": {},
   "outputs": [],
   "source": [
    "LÖSUNGEN AUF ANFRAGE !!"
   ]
  }
 ],
 "metadata": {
  "kernelspec": {
   "display_name": "Python 3 (ipykernel)",
   "language": "python",
   "name": "python3"
  },
  "language_info": {
   "codemirror_mode": {
    "name": "ipython",
    "version": 3
   },
   "file_extension": ".py",
   "mimetype": "text/x-python",
   "name": "python",
   "nbconvert_exporter": "python",
   "pygments_lexer": "ipython3",
   "version": "3.9.7"
  }
 },
 "nbformat": 4,
 "nbformat_minor": 5
}
