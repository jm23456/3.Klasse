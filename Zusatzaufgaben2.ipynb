{
 "cells": [
  {
   "cell_type": "markdown",
   "id": "0bd3e692-31e7-49c4-bac9-265c18f55f43",
   "metadata": {},
   "source": [
    "### Aufgabe 1:\n",
    "\n",
    "Erstellen Sie ein Programm, das die Quadratwurzel und Kubikwurzel einer eingegebenen Zahl berechnet. (Recherchieren Sie im Internet, wie man in Python Wurzeln ziehen kann)"
   ]
  },
  {
   "cell_type": "code",
   "execution_count": null,
   "id": "3e8bcb6e-6a02-40fe-989d-244e6a1211aa",
   "metadata": {},
   "outputs": [],
   "source": []
  },
  {
   "cell_type": "markdown",
   "id": "60ee75ef-003c-445b-a551-db6015e1c421",
   "metadata": {},
   "source": [
    "### Aufgabe 2:\n",
    "\n",
    "Erstellen Sie ein Programm, welches für die Kasse in einem Eisladen verwendet werden kann. In dem Eisladen gibt es zwei Sorten: Vanille und Schokolade. Eine Bestellung besteht immer aus einer Waffel und einer Anzahl von Kugeln Eis.\n",
    "\n",
    "Eine Waffel kostet 1.-.\n",
    "Eine Kugel Schokoladeneis kostet 2.50.-.\n",
    "Eine Kugel Vanilleeis kostet 2.-.\n",
    "\n",
    "Anna möchte zwei Kugeln Schokolade und drei Kugeln Vanille. Wie viel kostet Anna's Bestellung?\n",
    "Verwenden Sie Variablen um den Preis zu berechnen."
   ]
  },
  {
   "cell_type": "code",
   "execution_count": null,
   "id": "ced213b1-bd53-4c01-880e-6c7a0da9d9cd",
   "metadata": {},
   "outputs": [],
   "source": []
  },
  {
   "cell_type": "markdown",
   "id": "17292c8b-40b5-45e8-926d-ff30fe78077a",
   "metadata": {},
   "source": [
    "### Aufgabe 3:\n",
    "\n",
    "Erstellen Sie ein Programm, das die Anzahl der Gesprächsminuten eines Monats vom Nutzer/die Nutzerin abfragt und die monatlichen Kosten berechnet, wobei der Tarif 0.15 Franken pro Minute kostet. Geben Sie die Kosten aus, wobei Sie das Ergebnis als Ganzzahl (Integer) darstellen."
   ]
  },
  {
   "cell_type": "code",
   "execution_count": null,
   "id": "c7c41528-b7d8-4520-abec-542b494ba682",
   "metadata": {},
   "outputs": [],
   "source": []
  },
  {
   "cell_type": "code",
   "execution_count": null,
   "id": "7b701253-29c4-4446-85a4-e1303bfa6430",
   "metadata": {},
   "outputs": [],
   "source": []
  },
  {
   "cell_type": "markdown",
   "id": "4dd969ab-2799-4024-885c-3810bd0f664d",
   "metadata": {},
   "source": [
    "### Aufgabe 4:\n",
    "\n",
    "Erstellen Sie ein Programm, das den Notenschnitt dreier Noten als Fliesskommazahl (Float) berechnet, und ihnen anschliessend den Durchschnitt ausgibt. Der Durchschnitt soll ebenfalls als Prozentwert (Note 1 --> 0%, Note 6 --> 100%) ausgegeben werden. Nutzen Sie einen f-String."
   ]
  },
  {
   "cell_type": "code",
   "execution_count": null,
   "id": "b632e2f3-4781-4616-b39c-181e9f14bd87",
   "metadata": {},
   "outputs": [],
   "source": []
  },
  {
   "cell_type": "code",
   "execution_count": null,
   "id": "c4a252bf-dac7-4a60-9936-aef8faac7094",
   "metadata": {},
   "outputs": [],
   "source": []
  }
 ],
 "metadata": {
  "kernelspec": {
   "display_name": "Python 3 (ipykernel)",
   "language": "python",
   "name": "python3"
  },
  "language_info": {
   "codemirror_mode": {
    "name": "ipython",
    "version": 3
   },
   "file_extension": ".py",
   "mimetype": "text/x-python",
   "name": "python",
   "nbconvert_exporter": "python",
   "pygments_lexer": "ipython3",
   "version": "3.9.7"
  }
 },
 "nbformat": 4,
 "nbformat_minor": 5
}
