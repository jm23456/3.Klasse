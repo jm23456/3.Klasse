{
 "cells": [
  {
   "cell_type": "markdown",
   "id": "ed88b5c1",
   "metadata": {},
   "source": [
    "# Random - Lösungen"
   ]
  },
  {
   "cell_type": "markdown",
   "id": "7f76e9df-3642-49f0-8e9a-a07822eec803",
   "metadata": {},
   "source": [
    "Heutzutage nutzen viele Programme Zufallszahlen. Besonders häufig werden diese in Games verwendet. "
   ]
  },
  {
   "cell_type": "markdown",
   "id": "04a5e6ed",
   "metadata": {},
   "source": [
    "Zufallszahlen können in Python wie folgt generiert werden (Führen sie den untenstehenden Block aus):"
   ]
  },
  {
   "cell_type": "code",
   "execution_count": null,
   "id": "e42fc248",
   "metadata": {},
   "outputs": [],
   "source": [
    "import random\n",
    "zufallszahl = random.randint(0,1) #Zufallszahl zwischen 0 und 1\n",
    "print(zufallszahl)"
   ]
  },
  {
   "cell_type": "markdown",
   "id": "2cd1048d-e1eb-439e-a588-1e2974d165e7",
   "metadata": {},
   "source": [
    "Mit dem \"import random\"- Befehl kann Python auf die Funktionen des Random-***Moduls*** zugreifen."
   ]
  },
  {
   "cell_type": "markdown",
   "id": "1be5f4ab-0f00-48ee-b630-8212e4c1d589",
   "metadata": {},
   "source": [
    "-----------------------------------------------------------------------------------------------------------"
   ]
  },
  {
   "cell_type": "markdown",
   "id": "279b73ae-1251-4156-99ab-f11c4cca978a",
   "metadata": {},
   "source": [
    "#### Module\n",
    "Module sind eine Art Code-Bibliothek. Sie enthalten eine Sammlung von Funktionen. Mit dem Importieren eines Modules, kann man dann auch auf die Funktionen des Moduls zugreifen.\n",
    "\n",
    "Bekannte Python-Module sind zum Beispiel: *math* oder *random*"
   ]
  },
  {
   "cell_type": "markdown",
   "id": "8ef80f76-35e5-4eee-a9aa-e986a135d813",
   "metadata": {},
   "source": [
    "-----------------------------------------------------------------------------------------------------------"
   ]
  },
  {
   "cell_type": "markdown",
   "id": "2df50ef4",
   "metadata": {},
   "source": [
    "Um uns zu versichern, dass nicht jedesmal die selbe Zahl rauskommt, lassen wir uns erstmal 10 solcher Zufallswerte mit Hilfe einer ***for-Schleife*** ausgeben:"
   ]
  },
  {
   "cell_type": "code",
   "execution_count": null,
   "id": "8ec70ba0",
   "metadata": {},
   "outputs": [],
   "source": [
    "import random\n",
    "for i in range(10):\n",
    "    zufallszahl = random.randint(0,1)\n",
    "    print(zufallszahl)\n"
   ]
  },
  {
   "cell_type": "markdown",
   "id": "316d642b-4dcb-4538-bcb6-7527cd8e7351",
   "metadata": {},
   "source": [
    "-----------------------------"
   ]
  },
  {
   "cell_type": "markdown",
   "id": "f9058ecf-1f9d-426a-a6e8-102d44641a5f",
   "metadata": {},
   "source": [
    "#### For-Schleife\n",
    "Die For-Schleife ermöglicht das wiederholte Ausführen eines bestimmten Codeblocks für eine festgelegte Anzahl von Durchläufen.\n",
    "Im folgenden Beispiel nimmt die Schleifenvariable `i` nacheinander jeden Wert aus `range(10)` an. `range(10)` erzeugt eine Sequenz von Zahlen von 0 bis 9, das heisst, der eingrückte Codeblock wird insgesamt 10 Mal ausgeführt."
   ]
  },
  {
   "cell_type": "code",
   "execution_count": null,
   "id": "191f1b02-e4c1-4b1c-a6e6-386af3b88e6a",
   "metadata": {},
   "outputs": [],
   "source": [
    "for i in range(10):\n",
    "    print(i)"
   ]
  },
  {
   "cell_type": "markdown",
   "id": "c6106597-9bf1-49da-b5c5-b7510324013f",
   "metadata": {},
   "source": [
    "----------------------"
   ]
  },
  {
   "cell_type": "markdown",
   "id": "45cd6b49",
   "metadata": {},
   "source": [
    "Nun sind wir überzeugt, dass die Zahlen zufällig generiert werden. Wie kann ich jedoch andere Zahlen erhalten?\n",
    "Um Zahlen abgesehen von 0 und 1 zu erhalten, können Sie die Argumente der Funktion `random.randint(a,b)` ändern. Wenn ich zum Beispiel Zufallszahlen zwischen 100 und 150 haben möchte, kann ich die randint-Funktion folgendermassen aufrufen:"
   ]
  },
  {
   "cell_type": "code",
   "execution_count": null,
   "id": "8f476ff6",
   "metadata": {},
   "outputs": [],
   "source": [
    "import random\n",
    "for i in range(10):\n",
    "    zufallszahl = random.randint(100,150) #Argumente der random.randint(a,b) abgeändert\n",
    "    print(zufallszahl)\n"
   ]
  },
  {
   "cell_type": "markdown",
   "id": "16224e2a",
   "metadata": {},
   "source": [
    "Mit Hilfe der Funktion random.randint(a,b) können wir lediglich Integer generieren."
   ]
  },
  {
   "cell_type": "markdown",
   "id": "6a91fd72-1f98-4077-93b0-f5b768846f26",
   "metadata": {},
   "source": [
    "Eine weitere wichtige Funktion des Moduls \"random\" besteht darin, zufällige Elemente von Listen mittels `random.choice` auszugeben.\n",
    "Sehen wir uns dies anhand von einem Beispiel an. Im folgenden Code soll zufällig zwischen dem String \"Kopf\" und dem String \"Zahl\" gewählt werden, um einen Münzwurf zu simulieren:"
   ]
  },
  {
   "cell_type": "code",
   "execution_count": null,
   "id": "cc369ae6",
   "metadata": {},
   "outputs": [],
   "source": [
    "import random\n",
    "möglichkeiten = [\"Kopf\",\"Zahl\"] #Liste mit den Möglichkeiten\n",
    "print(random.choice(möglichkeiten))"
   ]
  },
  {
   "cell_type": "markdown",
   "id": "99cc7d9e-72af-4f41-8272-fe9457bf5bda",
   "metadata": {},
   "source": [
    "Lassen wir uns auch hier überzeugen, dass dies keinem Muster folgt und \"zufällig\" erscheint:"
   ]
  },
  {
   "cell_type": "code",
   "execution_count": null,
   "id": "243c9fed",
   "metadata": {},
   "outputs": [],
   "source": [
    "import random\n",
    "möglichkeiten = [\"Kopf\",\"Zahl\"] #Liste mit den Möglichkeiten\n",
    "for i in range(10):\n",
    "    print(random.choice(möglichkeiten))"
   ]
  },
  {
   "cell_type": "markdown",
   "id": "febedc39",
   "metadata": {},
   "source": [
    "Um Zufallszahlen, welche keine ganze Zahlen sind kümmern wir uns später. Die ungeduldigen unter Ihnen können sich via Internet schlau machen wie das geht :)."
   ]
  },
  {
   "cell_type": "markdown",
   "id": "ad6b1910",
   "metadata": {},
   "source": [
    "# Spiel 1"
   ]
  },
  {
   "cell_type": "markdown",
   "id": "b5d9810e",
   "metadata": {},
   "source": [
    "Im ersten Spiel soll sich der Computer eine Zufällige Zahl zwischen 1 und 3 ausdenken. Sie als Spieler oder Spielerin können danach versuchen die Zahl zu erraten."
   ]
  },
  {
   "cell_type": "code",
   "execution_count": 10,
   "id": "5e54b915",
   "metadata": {},
   "outputs": [
    {
     "name": "stdin",
     "output_type": "stream",
     "text": [
      "Geben Sie eine Zahl ein: 2\n"
     ]
    },
    {
     "name": "stdout",
     "output_type": "stream",
     "text": [
      "Leider falsch.\n"
     ]
    }
   ],
   "source": [
    "import random\n",
    "zufallszahl = random.randint(1,3)\n",
    "geratene_zahl = int(input(\"Geben Sie eine Zahl ein:\"))\n",
    "if zufallszahl == geratene_zahl:\n",
    "    print(\"Hurra! Sie haben die Zahl erraten!\")\n",
    "else:\n",
    "    print(\"Leider falsch.\")"
   ]
  },
  {
   "cell_type": "markdown",
   "id": "6773e755",
   "metadata": {},
   "source": [
    "# Spiel 2"
   ]
  },
  {
   "cell_type": "markdown",
   "id": "ce356214",
   "metadata": {},
   "source": [
    "In einem weiteren Schritt möchten Sie das Spiel erweiteren und mehrere Versuche haben die Zahl zu erraten. Nutzen Sie copy-paste, um dem Spieler oder der Spielerin fünf versuche zu gewähren die Zahl zu erraten:"
   ]
  },
  {
   "cell_type": "code",
   "execution_count": 9,
   "id": "c2e867dc",
   "metadata": {},
   "outputs": [
    {
     "name": "stdout",
     "output_type": "stream",
     "text": [
      "3\n"
     ]
    },
    {
     "name": "stdin",
     "output_type": "stream",
     "text": [
      "Geben Sie eine Zahl ein: 4\n"
     ]
    },
    {
     "name": "stdout",
     "output_type": "stream",
     "text": [
      "Leider falsch.\n"
     ]
    },
    {
     "name": "stdin",
     "output_type": "stream",
     "text": [
      "Raten Sie nochmals: 2\n"
     ]
    },
    {
     "name": "stdout",
     "output_type": "stream",
     "text": [
      "Leider falsch.\n"
     ]
    },
    {
     "name": "stdin",
     "output_type": "stream",
     "text": [
      "Raten Sie nochmals: 5\n"
     ]
    },
    {
     "name": "stdout",
     "output_type": "stream",
     "text": [
      "Leider falsch.\n"
     ]
    },
    {
     "name": "stdin",
     "output_type": "stream",
     "text": [
      "Raten Sie nochmals: 6\n"
     ]
    },
    {
     "name": "stdout",
     "output_type": "stream",
     "text": [
      "Leider falsch.\n"
     ]
    },
    {
     "name": "stdin",
     "output_type": "stream",
     "text": [
      "Raten Sie nochmals: 6\n"
     ]
    },
    {
     "name": "stdout",
     "output_type": "stream",
     "text": [
      "Leider falsch.\n"
     ]
    }
   ],
   "source": [
    "import random\n",
    "zufallszahl = random.randint(1,3)\n",
    "geratene_zahl = int(input(\"Geben Sie eine Zahl ein:\"))\n",
    "if zufallszahl == geratene_zahl:\n",
    "    print(\"Hurra! Sie haben die Zahl erraten!\")\n",
    "else:\n",
    "    print(\"Leider falsch.\")\n",
    "    geratene_zahl = int(input(\"Raten Sie nochmals:\"))\n",
    "    if zufallszahl == geratene_zahl:\n",
    "        print(\"Hurra! Sie haben die Zahl erraten!\")\n",
    "    else:\n",
    "        print(\"Leider falsch.\")\n",
    "        geratene_zahl = int(input(\"Raten Sie nochmals:\"))\n",
    "        if zufallszahl == geratene_zahl:\n",
    "            print(\"Hurra! Sie haben die Zahl erraten!\")\n",
    "        else:\n",
    "            print(\"Leider falsch.\")\n",
    "            geratene_zahl = int(input(\"Raten Sie nochmals:\"))\n",
    "            if zufallszahl == geratene_zahl:\n",
    "                print(\"Hurra! Sie haben die Zahl erraten!\")\n",
    "            else:\n",
    "                print(\"Leider falsch.\")\n",
    "                geratene_zahl = int(input(\"Raten Sie nochmals:\"))\n",
    "                if zufallszahl == geratene_zahl:\n",
    "                    print(\"Hurra! Sie haben die Zahl erraten!\")\n",
    "                else:\n",
    "                    print(\"Leider falsch.\")"
   ]
  },
  {
   "cell_type": "markdown",
   "id": "c8acba26",
   "metadata": {},
   "source": [
    "# Spiel 3"
   ]
  },
  {
   "cell_type": "markdown",
   "id": "337d8c6c",
   "metadata": {},
   "source": [
    "Implementieren Sie ein \"Schere-Stein-Papier\"-Spiel, bei dem Sie gegen den Computer spielen.\n",
    "Nutzen Sie die if-Anweisungen (Verzweigungen) um Abfragen wie"
   ]
  },
  {
   "cell_type": "code",
   "execution_count": null,
   "id": "9e0caa43",
   "metadata": {},
   "outputs": [],
   "source": [
    "if computerwahl = \"Schere\" and eigenewahl = \"Stein\":\n",
    "    print(\"Du gewinnst\")"
   ]
  },
  {
   "cell_type": "markdown",
   "id": "f6c353b5-7e64-4772-ac9a-8d1685ca226d",
   "metadata": {},
   "source": [
    "zu machen. Überlegen Sie sich alle möglichen Kombinationen und wer wann gewinnt."
   ]
  },
  {
   "cell_type": "code",
   "execution_count": 14,
   "id": "23017437-075c-4cde-9af2-ed200d426092",
   "metadata": {},
   "outputs": [
    {
     "name": "stdin",
     "output_type": "stream",
     "text": [
      "Schere, Stein, Papier?  Stein\n"
     ]
    },
    {
     "name": "stdout",
     "output_type": "stream",
     "text": [
      "Du gewinnst\n"
     ]
    }
   ],
   "source": [
    "import random\n",
    "möglichkeiten = [\"Schere\",\"Stein\", \"Papier\"]\n",
    "computerwahl = random.choice(möglichkeiten)\n",
    "eigenewahl = input(\"Schere, Stein, Papier? \")\n",
    "if computerwahl == \"Schere\" and eigenewahl == \"Stein\":\n",
    "    print(\"Du gewinnst\")\n",
    "elif computerwahl == \"Schere\" and eigenewahl == \"Papier\":\n",
    "    print(\"Computer gewinnt\")\n",
    "elif computerwahl == \"Schere\" and eigenewahl == \"Papier\":\n",
    "    print(\"Unentschieden\")\n",
    "elif computerwahl == \"Stein\" and eigenewahl == \"Papier\":\n",
    "    print(\"Du gewinnst\")\n",
    "elif computerwahl == \"Stein\" and eigenewahl == \"Schere\":\n",
    "    print(\"Computer gewinnt\")\n",
    "elif computerwahl == \"Stein\" and eigenewahl == \"Papier\":\n",
    "    print(\"Unentschieden\")\n",
    "elif computerwahl == \"Papier\" and eigenewahl == \"Schere\":\n",
    "    print(\"Du gewinnst\")\n",
    "elif computerwahl == \"Papier\" and eigenewahl == \"Stein\":\n",
    "    print(\"Computer gewinnt\")\n",
    "elif computerwahl == \"Papier\" and eigenewahl == \"Papier\":\n",
    "    print(\"Unentschieden\")"
   ]
  },
  {
   "cell_type": "code",
   "execution_count": null,
   "id": "69db546c-16c3-4b19-bd22-ff74e987e8dc",
   "metadata": {},
   "outputs": [],
   "source": []
  }
 ],
 "metadata": {
  "kernelspec": {
   "display_name": "Python 3 (ipykernel)",
   "language": "python",
   "name": "python3"
  },
  "language_info": {
   "codemirror_mode": {
    "name": "ipython",
    "version": 3
   },
   "file_extension": ".py",
   "mimetype": "text/x-python",
   "name": "python",
   "nbconvert_exporter": "python",
   "pygments_lexer": "ipython3",
   "version": "3.9.7"
  }
 },
 "nbformat": 4,
 "nbformat_minor": 5
}
