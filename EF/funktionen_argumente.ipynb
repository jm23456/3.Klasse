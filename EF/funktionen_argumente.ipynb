{
 "cells": [
  {
   "cell_type": "markdown",
   "id": "914c9b5f-b05a-47bf-b2e7-27a8a6b26e7e",
   "metadata": {},
   "source": [
    "Wir definieren eine einfache Funktion die bei bekannten Katheten die Hypothenuse berechnet:"
   ]
  },
  {
   "cell_type": "code",
   "execution_count": 1,
   "id": "c16a47c1-c9c5-4809-aaf5-1ff816d9566b",
   "metadata": {},
   "outputs": [],
   "source": [
    "import math"
   ]
  },
  {
   "cell_type": "code",
   "execution_count": 2,
   "id": "f06fb9f6-4140-47c6-9747-4ce216ab5cde",
   "metadata": {},
   "outputs": [],
   "source": [
    "def hypotenuse(a, b):\n",
    "    c = math.sqrt(a**2 + b**2)\n",
    "    return c"
   ]
  },
  {
   "cell_type": "code",
   "execution_count": 3,
   "id": "80a4343e-d34c-492a-b763-45880d7470dc",
   "metadata": {},
   "outputs": [
    {
     "data": {
      "text/plain": [
       "5.0"
      ]
     },
     "execution_count": 3,
     "metadata": {},
     "output_type": "execute_result"
    }
   ],
   "source": [
    "hypotenuse(3,4)"
   ]
  },
  {
   "cell_type": "markdown",
   "id": "d720f609-8a74-4174-8609-c3ca2777a530",
   "metadata": {},
   "source": [
    "Wieso wählt man als Default-Wert `0`"
   ]
  },
  {
   "cell_type": "code",
   "execution_count": 4,
   "id": "cd4cdfad-6b39-4452-a70a-59ee29cd50e2",
   "metadata": {},
   "outputs": [],
   "source": [
    "def pythagoras(a=0, b=0, c=0):\n",
    "    if c==0:\n",
    "        return math.sqrt(a**2 + b**2)"
   ]
  },
  {
   "cell_type": "code",
   "execution_count": 5,
   "id": "aca5c557-2650-4910-96d7-a866402a65e1",
   "metadata": {},
   "outputs": [
    {
     "data": {
      "text/plain": [
       "5.0"
      ]
     },
     "execution_count": 5,
     "metadata": {},
     "output_type": "execute_result"
    }
   ],
   "source": [
    "pythagoras(a=3,b=4)"
   ]
  },
  {
   "cell_type": "markdown",
   "id": "ac1838d2-d7d1-464a-ac90-755c9a061e29",
   "metadata": {},
   "source": [
    "Erweitere die Funkion `pythagoras`, so dass aus Hypothenuse `c` und einer Kathete (`a` oder `b`) die andere Kathete berechnet werden kann."
   ]
  },
  {
   "cell_type": "code",
   "execution_count": 6,
   "id": "45689eb3-0453-4658-bbff-5ca3a25f8e49",
   "metadata": {},
   "outputs": [],
   "source": [
    "pythagoras(c=5,b=4)"
   ]
  },
  {
   "cell_type": "code",
   "execution_count": 7,
   "id": "5d455566-3e8e-4eeb-9edf-69c922959d57",
   "metadata": {},
   "outputs": [],
   "source": [
    "pythagoras(a=3,c=5)"
   ]
  },
  {
   "cell_type": "markdown",
   "id": "1c90e7d8-dfc7-4256-9a58-f4ff5238a303",
   "metadata": {},
   "source": [
    "Was geschieht bei den folgenden Aufrufen? Wie könnten wir die Funktion im Hinblick auf diese Fälle besser programmieren?"
   ]
  },
  {
   "cell_type": "code",
   "execution_count": 8,
   "id": "56851467-232e-4249-9341-ceed60741c80",
   "metadata": {},
   "outputs": [],
   "source": [
    "pythagoras(a=3,b=4,c=5)"
   ]
  },
  {
   "cell_type": "code",
   "execution_count": 9,
   "id": "1b411091-601d-4540-a82d-de6376b6cda7",
   "metadata": {},
   "outputs": [
    {
     "data": {
      "text/plain": [
       "3.0"
      ]
     },
     "execution_count": 9,
     "metadata": {},
     "output_type": "execute_result"
    }
   ],
   "source": [
    "pythagoras(a=3)"
   ]
  },
  {
   "cell_type": "code",
   "execution_count": 10,
   "id": "eb57f035-9330-41ff-b201-8da84a408291",
   "metadata": {},
   "outputs": [
    {
     "data": {
      "text/plain": [
       "0.0"
      ]
     },
     "execution_count": 10,
     "metadata": {},
     "output_type": "execute_result"
    }
   ],
   "source": [
    "pythagoras()"
   ]
  },
  {
   "cell_type": "code",
   "execution_count": null,
   "id": "e8d35190-1d07-4235-ae22-602781011452",
   "metadata": {},
   "outputs": [],
   "source": []
  }
 ],
 "metadata": {
  "kernelspec": {
   "display_name": "Python 3 (ipykernel)",
   "language": "python",
   "name": "python3"
  },
  "language_info": {
   "codemirror_mode": {
    "name": "ipython",
    "version": 3
   },
   "file_extension": ".py",
   "mimetype": "text/x-python",
   "name": "python",
   "nbconvert_exporter": "python",
   "pygments_lexer": "ipython3",
   "version": "3.12.5"
  }
 },
 "nbformat": 4,
 "nbformat_minor": 5
}
