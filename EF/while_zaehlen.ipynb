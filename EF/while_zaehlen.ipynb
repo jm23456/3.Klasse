{
 "cells": [
  {
   "cell_type": "markdown",
   "id": "b1ba09d2-a90a-4544-9aae-16898f3b1b69",
   "metadata": {},
   "source": [
    "# While-Schleife\n",
    "Mit Hilfe der While-Schleife, können wir Code wiederholt ausführen. Vor jedem Ausführen der Schleife wird eine Bedingung überprüft. Ergibt diese True, dann wird der Schleifeninhalt ausgeführt. Ergibt sie False, dann wird die Schleife beendet und der nachfolgende Code ausgeführt. Der Schleifeninhalt wird durch Einrücken gekennzeichnet."
   ]
  },
  {
   "cell_type": "markdown",
   "id": "9de1fd15-3cbb-4837-9ceb-57c99ef036a0",
   "metadata": {},
   "source": [
    "### Syntax\n",
    "```python\n",
    "    while Bedingung:\n",
    "        #mach etwas"
   ]
  },
  {
   "cell_type": "markdown",
   "id": "fd477a92-b081-4e88-9416-93423c4cae9b",
   "metadata": {},
   "source": [
    "Bedingung ist ein Ausdruck der entweder `True` oder `False` ergibt."
   ]
  },
  {
   "cell_type": "markdown",
   "id": "cad3e6f1-e558-406d-95a2-5a7bc5be6281",
   "metadata": {},
   "source": [
    "# Aufgaben \n",
    "\n",
    "#### Aufgabe 1\n",
    "Um eine feste Anzahl Wiederholungen zu errreichen, verwenden wir eine Zählvariable die nach jedem Durchlauf erhöht wird:"
   ]
  },
  {
   "attachments": {},
   "cell_type": "markdown",
   "id": "7cb0dfbc-b4fc-40e5-a2a9-43df1c9e3153",
   "metadata": {},
   "source": [
    "Zuerst definieren wir eine Zählvariable und setzen sie auf einen Startwert:"
   ]
  },
  {
   "cell_type": "code",
   "execution_count": 1,
   "id": "53bae75c-a3b4-473e-b679-0d35c049e23d",
   "metadata": {},
   "outputs": [],
   "source": [
    "i = 0"
   ]
  },
  {
   "cell_type": "markdown",
   "id": "3e8f761b-a04f-4713-9dfa-71088b9950a4",
   "metadata": {},
   "source": [
    "Nun können wir eine while-Schleife ausführen: Solange i kleiner als 10 ist wird i ausgegeben. Nicht vergessen: i am Ende der Schleife vergrössern!"
   ]
  },
  {
   "cell_type": "code",
   "execution_count": 2,
   "id": "34435de0-99c9-453f-8636-4ac38189d03b",
   "metadata": {},
   "outputs": [
    {
     "name": "stdout",
     "output_type": "stream",
     "text": [
      "hallo 0\n",
      "hallo 1\n",
      "hallo 2\n",
      "hallo 3\n",
      "hallo 4\n",
      "hallo 5\n",
      "hallo 6\n",
      "hallo 7\n",
      "hallo 8\n",
      "hallo 9\n"
     ]
    }
   ],
   "source": [
    "while i < 10:\n",
    "\tprint(\"hallo\", i)\n",
    "\ti = i + 1"
   ]
  },
  {
   "cell_type": "markdown",
   "id": "b9775c73-58a6-41f2-a781-92f011111dfe",
   "metadata": {},
   "source": [
    "**Aufgabe:** Gib alle Unteraden Zahlen zwischen 0 und 100 aus"
   ]
  },
  {
   "cell_type": "markdown",
   "id": "2aaa497f-f8c5-4854-b604-4cc43a881929",
   "metadata": {},
   "source": [
    "#### Aufgabe 2\n",
    "Wir simulieren nun Würfelwürfe mit Hilfe von Zufallszahlen. Wir wollen zählen, wie viele Würfe wir brauchen, bis wir eine 6 werfen. Bei einer 6 wird die Schleife abgebrochen und die Anzahl benötigter Würfe ausgegeben:"
   ]
  },
  {
   "cell_type": "code",
   "execution_count": null,
   "id": "853a3902-fed6-453d-89a9-c48974cb25e1",
   "metadata": {},
   "outputs": [],
   "source": [
    "import random\n",
    "\n",
    "count = 0\n",
    "wurf = 0\n",
    "\n",
    "while wurf < 6:\n",
    "\twurf = random.randint(1,6)\n",
    "\tcount = count + 1\n",
    "\tprint(str(count) + \". Wurf:\", wurf)\n",
    "\n",
    "print(\"Anzahl Würfe bis 6:\", count)"
   ]
  },
  {
   "cell_type": "markdown",
   "id": "37f448d8-3738-48ec-9529-5b0d32a93080",
   "metadata": {},
   "source": [
    "#### Aufgabe 3\n",
    "Simuliere Würfe mit mehreren Würfeln. Beim Yatzy hat man z.B. 6 Würfel.\n",
    "Wie gross ist die Wahrscheinlichkeit, dass man im ersten Versuch alle 6 gleich hat?"
   ]
  },
  {
   "cell_type": "code",
   "execution_count": null,
   "id": "1ceb8999-9a9d-45e1-8b0c-5368cf84dbbe",
   "metadata": {},
   "outputs": [],
   "source": []
  }
 ],
 "metadata": {
  "kernelspec": {
   "display_name": "Python 3 (ipykernel)",
   "language": "python",
   "name": "python3"
  },
  "language_info": {
   "codemirror_mode": {
    "name": "ipython",
    "version": 3
   },
   "file_extension": ".py",
   "mimetype": "text/x-python",
   "name": "python",
   "nbconvert_exporter": "python",
   "pygments_lexer": "ipython3",
   "version": "3.9.7"
  }
 },
 "nbformat": 4,
 "nbformat_minor": 5
}
