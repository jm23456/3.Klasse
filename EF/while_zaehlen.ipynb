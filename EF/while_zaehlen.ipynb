{
 "cells": [
  {
   "attachments": {},
   "cell_type": "markdown",
   "id": "7cb0dfbc-b4fc-40e5-a2a9-43df1c9e3153",
   "metadata": {},
   "source": [
    "Zuerst definieren wir eine Zählvariable und setzen sie auf einen Startwert:"
   ]
  },
  {
   "cell_type": "code",
   "execution_count": 1,
   "id": "53bae75c-a3b4-473e-b679-0d35c049e23d",
   "metadata": {},
   "outputs": [],
   "source": [
    "i = 0"
   ]
  },
  {
   "cell_type": "markdown",
   "id": "3e8f761b-a04f-4713-9dfa-71088b9950a4",
   "metadata": {},
   "source": [
    "Nun können wir eine while-Schleife ausführen: Solange i kleiner als 10 ist wird i ausgegeben. Nicht vergessen: i am Ende der Schleife vergrössern!"
   ]
  },
  {
   "cell_type": "code",
   "execution_count": 2,
   "id": "34435de0-99c9-453f-8636-4ac38189d03b",
   "metadata": {},
   "outputs": [
    {
     "name": "stdout",
     "output_type": "stream",
     "text": [
      "hallo 0\n",
      "hallo 1\n",
      "hallo 2\n",
      "hallo 3\n",
      "hallo 4\n",
      "hallo 5\n",
      "hallo 6\n",
      "hallo 7\n",
      "hallo 8\n",
      "hallo 9\n"
     ]
    }
   ],
   "source": [
    "while i < 10:\n",
    "\tprint(\"hallo\", i)\n",
    "\ti = i + 1"
   ]
  },
  {
   "cell_type": "markdown",
   "id": "b9775c73-58a6-41f2-a781-92f011111dfe",
   "metadata": {},
   "source": [
    "**Aufgabe:** Gib alle Unteraden Zahlen zwischen 0 und 100 aus"
   ]
  },
  {
   "cell_type": "code",
   "execution_count": null,
   "id": "853a3902-fed6-453d-89a9-c48974cb25e1",
   "metadata": {},
   "outputs": [],
   "source": []
  }
 ],
 "metadata": {
  "kernelspec": {
   "display_name": "Python 3 (ipykernel)",
   "language": "python",
   "name": "python3"
  },
  "language_info": {
   "codemirror_mode": {
    "name": "ipython",
    "version": 3
   },
   "file_extension": ".py",
   "mimetype": "text/x-python",
   "name": "python",
   "nbconvert_exporter": "python",
   "pygments_lexer": "ipython3",
   "version": "3.12.5"
  }
 },
 "nbformat": 4,
 "nbformat_minor": 5
}
