{
 "cells": [
  {
   "cell_type": "markdown",
   "id": "3e8f761b-a04f-4713-9dfa-71088b9950a4",
   "metadata": {},
   "source": [
    "**Wir wollen schrittweise eine zufällige ganze Zahl beschreiben. Einige Dinge funktionieren, andere müssen noch ergänzt werden:**"
   ]
  },
  {
   "cell_type": "markdown",
   "id": "fe3e7160-fd1d-4f53-817e-edddde4c718c",
   "metadata": {},
   "source": [
    "Wir definieren eine Funktion die sagt, ob die Zahl gerade ist:"
   ]
  },
  {
   "cell_type": "code",
   "execution_count": null,
   "id": "9f7cbd24-972e-4e46-8385-684c5e26916a",
   "metadata": {},
   "outputs": [],
   "source": [
    "def istGerade(zahl):\n",
    "    return zahl %  2 == 0"
   ]
  },
  {
   "cell_type": "markdown",
   "id": "84803a2b-afb9-497f-8179-bddec784158c",
   "metadata": {},
   "source": [
    "Die nächste Funktion soll die Anzahl Stellen der Zahl liefern. **Implementiere sie!**"
   ]
  },
  {
   "cell_type": "code",
   "execution_count": null,
   "id": "0be5c0fe-f002-4672-bfe4-e6d02ea97e01",
   "metadata": {},
   "outputs": [],
   "source": [
    "def anzahlStellen(zahl):\n",
    "    pass"
   ]
  },
  {
   "cell_type": "markdown",
   "id": "0c6be3fa-0df6-4ef5-b8e4-b7bab545cd61",
   "metadata": {},
   "source": [
    "Die nächste Funktion soll herausfinden, ob die Zahl eine Primzahl ist. **Implementiere sie!**"
   ]
  },
  {
   "cell_type": "code",
   "execution_count": null,
   "id": "0e2a0fee-b371-49e0-82d0-4f0a40c76160",
   "metadata": {},
   "outputs": [],
   "source": [
    "def istPrimzahl(zahl):\n",
    "    pass"
   ]
  },
  {
   "cell_type": "markdown",
   "id": "9eb282be-fdea-497c-8460-d556a32b23ac",
   "metadata": {},
   "source": [
    "Die nächste Funktion verwendet verwendet die obigen Funktionen um eine Zahl zu beschreiben. **Sie muss ergänzt werden!**"
   ]
  },
  {
   "cell_type": "code",
   "execution_count": null,
   "id": "1f62fd71-6744-4e71-84ce-d8ef8580854c",
   "metadata": {},
   "outputs": [],
   "source": [
    "def beschreibe(zahl):\n",
    "    beschreibung = str(x) + \" ist\"\n",
    "    if istGerade(zahl):\n",
    "        beschreibung = beschreibung + \" gerade\"\n",
    "    else:\n",
    "        beschreibung = beschreibung + \" ungerade\"\n",
    "    return beschreibung"
   ]
  },
  {
   "cell_type": "markdown",
   "id": "498598d1-a82a-4436-8c12-0f0aed9f4c24",
   "metadata": {},
   "source": [
    "Nun werden 10 zufällige Zahlen generiert und durch unsere Funktionen beschrieben:"
   ]
  },
  {
   "cell_type": "code",
   "execution_count": null,
   "id": "85f3625c-1a91-4ea2-a185-c19fe2bf5933",
   "metadata": {},
   "outputs": [],
   "source": [
    "from random import randint\n",
    "\n",
    "i = 0\n",
    "while i < 10:\n",
    "    x = randint(0,100)\n",
    "    print(beschreibe(x))\n",
    "    i = i + 1"
   ]
  },
  {
   "cell_type": "markdown",
   "id": "b21e67ed-c737-4f35-a40a-20a5186d9adb",
   "metadata": {},
   "source": [
    "**Was könnte man sonst noch herausfinden? Definiere weitere Funktionen und verwende diese in der Funktion `beschreibe()`.**"
   ]
  }
 ],
 "metadata": {
  "kernelspec": {
   "display_name": "Python 3 (ipykernel)",
   "language": "python",
   "name": "python3"
  },
  "language_info": {
   "codemirror_mode": {
    "name": "ipython",
    "version": 3
   },
   "file_extension": ".py",
   "mimetype": "text/x-python",
   "name": "python",
   "nbconvert_exporter": "python",
   "pygments_lexer": "ipython3",
   "version": "3.12.5"
  }
 },
 "nbformat": 4,
 "nbformat_minor": 5
}
