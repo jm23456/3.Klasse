{
 "cells": [
  {
   "cell_type": "markdown",
   "id": "3e8f761b-a04f-4713-9dfa-71088b9950a4",
   "metadata": {},
   "source": [
    "**Summe und Durchschnitt**"
   ]
  },
  {
   "cell_type": "code",
   "execution_count": 1,
   "id": "9f7cbd24-972e-4e46-8385-684c5e26916a",
   "metadata": {},
   "outputs": [
    {
     "name": "stdout",
     "output_type": "stream",
     "text": [
      "Gesamte Ausgaben: 29.15\n",
      " im Durchschnitt: 7.2875\n"
     ]
    }
   ],
   "source": [
    "ausgaben = [12.50, 4.25, 9.90, 2.50]\n",
    "\n",
    "summe = 0\n",
    "for ausgabe in ausgaben:\n",
    "\tsumme = summe + ausgabe\n",
    "\n",
    "durchschnitt = summe/len(ausgaben)\n",
    "\n",
    "print(\"Gesamte Ausgaben:\", summe)\n",
    "print(\" im Durchschnitt:\", durchschnitt)"
   ]
  },
  {
   "cell_type": "markdown",
   "id": "cd8499d0-5132-465f-9512-9860b20da27b",
   "metadata": {},
   "source": [
    "**Listen erzeugen**"
   ]
  },
  {
   "cell_type": "code",
   "execution_count": 2,
   "id": "6e663ab5-1f45-4f1f-a9ec-67ecb8cecb22",
   "metadata": {},
   "outputs": [
    {
     "data": {
      "text/plain": [
       "[0, 2, 4, 6, 8, 10, 12, 14, 16, 18]"
      ]
     },
     "execution_count": 2,
     "metadata": {},
     "output_type": "execute_result"
    }
   ],
   "source": [
    "[x * 2 for x in range(10)]"
   ]
  },
  {
   "cell_type": "code",
   "execution_count": 3,
   "id": "f462f0c5-7861-4b33-b835-0593c8817dd4",
   "metadata": {},
   "outputs": [
    {
     "data": {
      "text/plain": [
       "[0, 0, 0, 0, 0, 0, 0, 0, 0, 0, 0, 0, 0, 0, 0, 0, 0, 0, 0, 0]"
      ]
     },
     "execution_count": 3,
     "metadata": {},
     "output_type": "execute_result"
    }
   ],
   "source": [
    "[0 for x in range(20)]"
   ]
  },
  {
   "cell_type": "code",
   "execution_count": 4,
   "id": "6a7cb1a0-ff77-4bde-a1d3-2210c225ce2c",
   "metadata": {},
   "outputs": [
    {
     "data": {
      "text/plain": [
       "[[0, -1, -2, -3, -4, -5],\n",
       " [1, 0, -1, -2, -3, -4],\n",
       " [2, 1, 0, -1, -2, -3],\n",
       " [3, 2, 1, 0, -1, -2],\n",
       " [4, 3, 2, 1, 0, -1],\n",
       " [5, 4, 3, 2, 1, 0]]"
      ]
     },
     "execution_count": 4,
     "metadata": {},
     "output_type": "execute_result"
    }
   ],
   "source": [
    "[[x-y for y in range(6)] for x in range(6)]"
   ]
  },
  {
   "cell_type": "code",
   "execution_count": null,
   "id": "4e346288-4592-48db-bb7f-3f83fa5c4c5a",
   "metadata": {},
   "outputs": [],
   "source": []
  }
 ],
 "metadata": {
  "kernelspec": {
   "display_name": "Python 3 (ipykernel)",
   "language": "python",
   "name": "python3"
  },
  "language_info": {
   "codemirror_mode": {
    "name": "ipython",
    "version": 3
   },
   "file_extension": ".py",
   "mimetype": "text/x-python",
   "name": "python",
   "nbconvert_exporter": "python",
   "pygments_lexer": "ipython3",
   "version": "3.12.5"
  }
 },
 "nbformat": 4,
 "nbformat_minor": 5
}
