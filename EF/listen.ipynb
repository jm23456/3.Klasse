{
 "cells": [
  {
   "cell_type": "markdown",
   "id": "3e8f761b-a04f-4713-9dfa-71088b9950a4",
   "metadata": {},
   "source": [
    "**Erstelle eine Funktion `median`,  welche eine Liste von Zahlen erhält und daraus den Median berechnet und diesen zurückgibt.**"
   ]
  },
  {
   "cell_type": "code",
   "execution_count": null,
   "id": "9f7cbd24-972e-4e46-8385-684c5e26916a",
   "metadata": {},
   "outputs": [],
   "source": [
    "def median(liste):\n",
    "\t# berechnen\n",
    "\treturn \"noch nicht programmiert\"\n",
    "\t\n",
    "print(median([5,2,4,2,3,20]))\n",
    "print(median([5,2,4,2,3,20,111]))"
   ]
  }
 ],
 "metadata": {
  "kernelspec": {
   "display_name": "Python 3 (ipykernel)",
   "language": "python",
   "name": "python3"
  },
  "language_info": {
   "codemirror_mode": {
    "name": "ipython",
    "version": 3
   },
   "file_extension": ".py",
   "mimetype": "text/x-python",
   "name": "python",
   "nbconvert_exporter": "python",
   "pygments_lexer": "ipython3",
   "version": "3.12.5"
  }
 },
 "nbformat": 4,
 "nbformat_minor": 5
}
