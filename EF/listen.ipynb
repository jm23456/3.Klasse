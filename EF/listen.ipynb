{
 "cells": [
  {
   "cell_type": "markdown",
   "id": "7e94f241-8036-4feb-9b72-a4c821850832",
   "metadata": {},
   "source": [
    "# Listen\n",
    "Eine Liste ist ein zusammengesetzter Datentyp – er besteht aus mehreren einfachen Datentypen, z.B. Zahlen oder Text. Wir können aber auch eine Liste von Objekten, z.B. vom Typ `Turtle` haben. In Python kann eine Liste auch unterschiedliche Datentypen beinhalten.\n",
    "\n",
    "## Syntax\n",
    "Bevor man eine Liste verwenden kann, muss diese erzeugt werden. Python muss wissen, dass es sich bei der Variablen um ein Liste handelt.\n",
    "\n",
    "Eine Liste wird durch eckige Klammern gekennzeichnet. Listen-Elemente werden durch Komma getrennt:\n",
    "```python\n",
    "    ausgaben = [12.50, 4.25, 9.90, 2.50]\n",
    "```\n",
    "### Leere Liste\n",
    "Lässt man die Klammer leer, erhält man eine sogenannte leere Liste:\n",
    "```python\n",
    "    ausgaben = []\n",
    "```\n",
    "\n",
    "## auf Elemente zugreifen\n",
    "Die Elemente der Liste sind nummeriert. Die Nummerierung beginnt bei 0! Mit einer eckigen Klammer und einer Nummer können wir auf bestimmtes Element zugreifen – falls dieses existiert.\n",
    "```python\n",
    "ausgaben = [12.50, 4.25, 9.90, 2.50]\n",
    "erste_ausgabe = ausgaben[0]\n",
    "\n",
    "print(\"Deine erste Ausgabe war:\", erste_ausgabe)\n",
    "```\n",
    "Mit dieser Notation können auch Werte in einer Liste verändert werden:\n",
    "```python\n",
    "ausgaben = [12.50, 4.25, 9.90, 2.50]\n",
    "ausgaben[0] = 12.20\n",
    "\n",
    "print(\"Deine Ausgaben lauten nun:\", ausgaben)\n",
    "```"
   ]
  },
  {
   "cell_type": "markdown",
   "id": "5140fca3-9a7a-4a5d-9d7e-7626e48e0036",
   "metadata": {},
   "source": [
    "## Hinzufügen\n",
    "Mit der Listen-Methode append() kann einer Liste ein Element angehängt werden:\n",
    "```python\n",
    "ausgaben = []\n",
    "ausgaben.append(12.2)\n",
    "ausgaben.append(4.25)\n",
    "\n",
    "print(\"Deine Ausgaben lauten nun:\", ausgaben)\n",
    "```\n",
    "\n",
    "## Anzahl Elemente\n",
    "Die Länge einer Liste erhält man mit dem Unterprogramm len().\n",
    "```python\n",
    "ausgaben = [12.50, 4.25, 9.90, 2.50]\n",
    "laenge = len(ausgaben)\n",
    "\n",
    "print(\"Anzahl Ausgaben:\", laenge)\n",
    "```\n",
    "\n",
    "## Sortieren\n",
    "Die Länge einer Liste erhält man mit der Methode sort().\n",
    "```python\n",
    "ausgaben = [12.50, 4.25, 9.90, 2.50]\n",
    "ausgaben.sort()\n",
    "\n",
    "print(\"Sortierte Ausgaben:\", ausgaben)\n",
    "```\n"
   ]
  },
  {
   "cell_type": "markdown",
   "id": "61f3f950-dfa0-4125-8fc1-878f5ccd423a",
   "metadata": {},
   "source": [
    "## Aufgabe"
   ]
  },
  {
   "cell_type": "markdown",
   "id": "3e8f761b-a04f-4713-9dfa-71088b9950a4",
   "metadata": {},
   "source": [
    "**Erstelle eine Funktion `median`,  welche eine Liste von Zahlen erhält und daraus den Median berechnet und diesen zurückgibt.**"
   ]
  },
  {
   "cell_type": "code",
   "execution_count": null,
   "id": "9f7cbd24-972e-4e46-8385-684c5e26916a",
   "metadata": {},
   "outputs": [],
   "source": [
    "def median(liste):\n",
    "\t# berechnen\n",
    "\treturn \"noch nicht programmiert\"\n",
    "\t\n",
    "print(median([5,2,4,2,3,20]))\n",
    "print(median([5,2,4,2,3,20,111]))"
   ]
  }
 ],
 "metadata": {
  "kernelspec": {
   "display_name": "Python 3 (ipykernel)",
   "language": "python",
   "name": "python3"
  },
  "language_info": {
   "codemirror_mode": {
    "name": "ipython",
    "version": 3
   },
   "file_extension": ".py",
   "mimetype": "text/x-python",
   "name": "python",
   "nbconvert_exporter": "python",
   "pygments_lexer": "ipython3",
   "version": "3.9.7"
  }
 },
 "nbformat": 4,
 "nbformat_minor": 5
}
