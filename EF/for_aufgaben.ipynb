{
 "cells": [
  {
   "cell_type": "markdown",
   "id": "3e8f761b-a04f-4713-9dfa-71088b9950a4",
   "metadata": {},
   "source": [
    "**Text-Diagramm**\n",
    "\n",
    "Erstelle ein Textdiagramm, indem du die Zahlen in einer Liste mit dem Print-Befehl und einer Zeichenkette basierend auf der grösse der Zahl.\n",
    "\n",
    "Wenn man also die Liste als Diagramm ausgibt, sollte in etwa das untenstehende erscheinen:\n",
    "\n",
    "    #######\n",
    "    ##\n",
    "    #####"
   ]
  },
  {
   "cell_type": "code",
   "execution_count": 1,
   "id": "9f7cbd24-972e-4e46-8385-684c5e26916a",
   "metadata": {},
   "outputs": [
    {
     "name": "stdout",
     "output_type": "stream",
     "text": [
      "####\n"
     ]
    }
   ],
   "source": [
    "def diagramm(daten):\n",
    "\tprint(\"####\")  # muss natürlich angepasst werden\n",
    "\t\n",
    "diagramm([7,2,5])"
   ]
  },
  {
   "cell_type": "code",
   "execution_count": null,
   "id": "8e200466-76ab-4f97-92d5-9b73dd5e1bbd",
   "metadata": {},
   "outputs": [],
   "source": []
  },
  {
   "cell_type": "markdown",
   "id": "72c46c6c-4032-45c3-8ad3-51413e41e85a",
   "metadata": {},
   "source": [
    "**Minimum/Maximum**\n",
    "\n",
    "Gehe in einer for-Schleife die Zahlen einer Liste durch und bestimme die kleinste und die grösste dieser Zahlen."
   ]
  },
  {
   "cell_type": "code",
   "execution_count": 2,
   "id": "b68e7af2-49a6-479e-aa4c-78f76deaf56f",
   "metadata": {},
   "outputs": [
    {
     "name": "stdout",
     "output_type": "stream",
     "text": [
      "grösste Zahl: ...\n",
      "kleinste Zahl: ...\n"
     ]
    }
   ],
   "source": [
    "zahlen = [2,6,12,34,2.4,-1.4,13,12,-4,9]\n",
    "for x in zahlen:\n",
    "    pass\n",
    "\n",
    "print(\"grösste Zahl: ...\")\n",
    "print(\"kleinste Zahl: ...\")"
   ]
  },
  {
   "cell_type": "code",
   "execution_count": null,
   "id": "cba0b73e-749c-4e17-82a6-aeb8c2cc0a88",
   "metadata": {},
   "outputs": [],
   "source": []
  },
  {
   "cell_type": "markdown",
   "id": "37f8e3ec-359e-4629-94cf-fa1bd1cc1a8e",
   "metadata": {},
   "source": [
    "**Schachbrett**\n",
    "\n",
    "Stelle ein Schachbrett und die Anfangsposition der Schachfiguren als zweidimensionale Liste von `str` dar, so dass auf ein einzelnes Feld mit dessen Koordinaten zugegriffen werden kann:"
   ]
  },
  {
   "cell_type": "code",
   "execution_count": 3,
   "id": "c2ace42c-5b6c-4883-8a1e-c5793ce71c9e",
   "metadata": {},
   "outputs": [],
   "source": [
    "schachbrett = []  # ergänzen"
   ]
  },
  {
   "cell_type": "code",
   "execution_count": 4,
   "id": "aecea97c-7f2a-4919-8630-93fedb8b5d1e",
   "metadata": {},
   "outputs": [
    {
     "ename": "IndexError",
     "evalue": "list index out of range",
     "output_type": "error",
     "traceback": [
      "\u001b[0;31m---------------------------------------------------------------------------\u001b[0m",
      "\u001b[0;31mIndexError\u001b[0m                                Traceback (most recent call last)",
      "Cell \u001b[0;32mIn[4], line 1\u001b[0m\n\u001b[0;32m----> 1\u001b[0m \u001b[43mschachbrett\u001b[49m\u001b[43m[\u001b[49m\u001b[43mx\u001b[49m\u001b[43m]\u001b[49m[y]\n",
      "\u001b[0;31mIndexError\u001b[0m: list index out of range"
     ]
    }
   ],
   "source": [
    "schachbrett[x][y]"
   ]
  },
  {
   "cell_type": "markdown",
   "id": "1d797d92-bf15-4ff4-8aba-61677450940e",
   "metadata": {},
   "source": [
    "Die einzelnen Figuren sollen je durch einen Buchstaben dargestellt werden, Schwarz und Weiss unterscheiden sich durch Gross- und Kleinbuchstaben.\n",
    "\n",
    "Gib das Schachbrett mit Hilfe einer for-in-Schleife aus."
   ]
  }
 ],
 "metadata": {
  "kernelspec": {
   "display_name": "Python 3 (ipykernel)",
   "language": "python",
   "name": "python3"
  },
  "language_info": {
   "codemirror_mode": {
    "name": "ipython",
    "version": 3
   },
   "file_extension": ".py",
   "mimetype": "text/x-python",
   "name": "python",
   "nbconvert_exporter": "python",
   "pygments_lexer": "ipython3",
   "version": "3.12.5"
  }
 },
 "nbformat": 4,
 "nbformat_minor": 5
}
