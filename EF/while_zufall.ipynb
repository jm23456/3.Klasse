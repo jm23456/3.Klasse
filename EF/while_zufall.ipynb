{
 "cells": [
  {
   "cell_type": "code",
   "execution_count": 8,
   "id": "fb4658eb-f6b3-4e41-87d1-00e527b41ecc",
   "metadata": {},
   "outputs": [
    {
     "name": "stdout",
     "output_type": "stream",
     "text": [
      "1. Wurf: 6\n",
      "Anzahl Würfe bis 6: 1\n"
     ]
    }
   ],
   "source": [
    "import random\n",
    "\n",
    "count = 0\n",
    "wurf = 0\n",
    "\n",
    "while wurf < 6:\n",
    "\twurf = random.randint(1,6)\n",
    "\tcount = count + 1\n",
    "\tprint(str(count) + \". Wurf:\", wurf)\n",
    "\n",
    "print(\"Anzahl Würfe bis 6:\", count)"
   ]
  }
 ],
 "metadata": {
  "kernelspec": {
   "display_name": "Python 3 (ipykernel)",
   "language": "python",
   "name": "python3"
  },
  "language_info": {
   "codemirror_mode": {
    "name": "ipython",
    "version": 3
   },
   "file_extension": ".py",
   "mimetype": "text/x-python",
   "name": "python",
   "nbconvert_exporter": "python",
   "pygments_lexer": "ipython3",
   "version": "3.12.5"
  }
 },
 "nbformat": 4,
 "nbformat_minor": 5
}
