{
 "cells": [
  {
   "cell_type": "markdown",
   "id": "a446d706-cb8f-4d25-afba-d2eb3731cf5e",
   "metadata": {},
   "source": [
    "Was ist der Unterschied zwischen `/` und `//`"
   ]
  },
  {
   "cell_type": "code",
   "execution_count": 1,
   "id": "9716e146-ae28-4a91-99e5-d8c53117e34b",
   "metadata": {},
   "outputs": [
    {
     "data": {
      "text/plain": [
       "0.875"
      ]
     },
     "execution_count": 1,
     "metadata": {},
     "output_type": "execute_result"
    }
   ],
   "source": [
    "7/8"
   ]
  },
  {
   "cell_type": "code",
   "execution_count": 2,
   "id": "89d93d07-87d1-416a-b8c7-f7d4f84b0c5c",
   "metadata": {},
   "outputs": [
    {
     "data": {
      "text/plain": [
       "0"
      ]
     },
     "execution_count": 2,
     "metadata": {},
     "output_type": "execute_result"
    }
   ],
   "source": [
    "7//8"
   ]
  },
  {
   "cell_type": "markdown",
   "id": "015adcbb-30e2-400d-9527-9624d5973634",
   "metadata": {},
   "source": [
    "Wofür steht der Operator `**`?"
   ]
  },
  {
   "cell_type": "code",
   "execution_count": 3,
   "id": "5f0ea620-9c80-4ad5-9533-137c3882e6b3",
   "metadata": {},
   "outputs": [
    {
     "data": {
      "text/plain": [
       "32"
      ]
     },
     "execution_count": 3,
     "metadata": {},
     "output_type": "execute_result"
    }
   ],
   "source": [
    "2**5"
   ]
  },
  {
   "cell_type": "code",
   "execution_count": 4,
   "id": "bddd1d13-5906-4380-af67-a5decfc70f27",
   "metadata": {},
   "outputs": [
    {
     "data": {
      "text/plain": [
       "1.4142135623730951"
      ]
     },
     "execution_count": 4,
     "metadata": {},
     "output_type": "execute_result"
    }
   ],
   "source": [
    "2**0.5"
   ]
  },
  {
   "cell_type": "markdown",
   "id": "f750b971-f58b-4870-8fb6-b636a2fdbcd9",
   "metadata": {},
   "source": [
    "Wie heisst der Operator `%` und was macht er?"
   ]
  },
  {
   "cell_type": "code",
   "execution_count": 5,
   "id": "bddb9605-f829-4cc5-a447-897437565cec",
   "metadata": {},
   "outputs": [
    {
     "data": {
      "text/plain": [
       "1"
      ]
     },
     "execution_count": 5,
     "metadata": {},
     "output_type": "execute_result"
    }
   ],
   "source": [
    "13%3"
   ]
  },
  {
   "cell_type": "markdown",
   "id": "8185754d-5d6d-40d9-9413-f575b00ef324",
   "metadata": {},
   "source": [
    "In welcher Beziehung stehen `%` und `//`, resp. wie kommt man mit `x` , `y` und `b` zurück auf `a`?"
   ]
  },
  {
   "cell_type": "code",
   "execution_count": 6,
   "id": "3c3fd4b3-a44f-4b66-a1de-f8bb7d069dfc",
   "metadata": {},
   "outputs": [
    {
     "name": "stdout",
     "output_type": "stream",
     "text": [
      "4 1\n"
     ]
    }
   ],
   "source": [
    "a = 13\n",
    "b = 3\n",
    "x = a//b\n",
    "y = a%b\n",
    "print(x,y)"
   ]
  },
  {
   "cell_type": "code",
   "execution_count": null,
   "id": "907980b1-be11-4fb3-aad7-1513c3f57a2a",
   "metadata": {},
   "outputs": [],
   "source": []
  }
 ],
 "metadata": {
  "kernelspec": {
   "display_name": "Python 3 (ipykernel)",
   "language": "python",
   "name": "python3"
  },
  "language_info": {
   "codemirror_mode": {
    "name": "ipython",
    "version": 3
   },
   "file_extension": ".py",
   "mimetype": "text/x-python",
   "name": "python",
   "nbconvert_exporter": "python",
   "pygments_lexer": "ipython3",
   "version": "3.12.5"
  }
 },
 "nbformat": 4,
 "nbformat_minor": 5
}
