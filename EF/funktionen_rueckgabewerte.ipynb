{
 "cells": [
  {
   "cell_type": "markdown",
   "id": "b0b8b1ba-097b-44a5-81a0-6c0b6762fcd3",
   "metadata": {},
   "source": [
    "Die untenstehende Funktion zeigt die Lösungen einer Quadratischen Gleichung gegeben durch ihre Koeffizienten `a`, `b` und `c` an:"
   ]
  },
  {
   "cell_type": "code",
   "execution_count": 1,
   "id": "84fb2870-7bc9-4901-bbbd-5a7dac0f916f",
   "metadata": {},
   "outputs": [],
   "source": [
    "import math\n",
    "\n",
    "def quadr(a,b,c):\n",
    "    D = b**2 - 4*a*c\n",
    "    if D < 0:\n",
    "        print(\"keine Lösung\")\n",
    "    elif D == 0:\n",
    "        x = (-b + math.sqrt(D))/2*a\n",
    "        print(x)\n",
    "    else:\n",
    "        x1 = (-b + math.sqrt(D))/2*a\n",
    "        x2 = (-b - math.sqrt(D))/2*a\n",
    "        print(x1, x2)"
   ]
  },
  {
   "cell_type": "markdown",
   "id": "16d454d3-f25c-4e58-89c6-f8623786004b",
   "metadata": {},
   "source": [
    "Die Gleichung $x^2 - 1 = 0$ sollte zwei Lösungen haben: -1 und 1"
   ]
  },
  {
   "cell_type": "code",
   "execution_count": 2,
   "id": "e2a2ff41-ea8d-4f27-9119-81d11505f82a",
   "metadata": {},
   "outputs": [
    {
     "name": "stdout",
     "output_type": "stream",
     "text": [
      "1.0 -1.0\n"
     ]
    }
   ],
   "source": [
    "quadr(1,0,-1)"
   ]
  },
  {
   "cell_type": "markdown",
   "id": "704b2f03-e4ba-4cfe-bc67-58d48955dbd2",
   "metadata": {},
   "source": [
    "Die Gleichung $x^2 -2x + 1 = 0$ hat genau eine Lösung: 1"
   ]
  },
  {
   "cell_type": "code",
   "execution_count": 3,
   "id": "de2c4f12-30c3-4647-80f2-d9bf196b4956",
   "metadata": {},
   "outputs": [
    {
     "name": "stdout",
     "output_type": "stream",
     "text": [
      "1.0\n"
     ]
    }
   ],
   "source": [
    "quadr(1,-2,1)"
   ]
  },
  {
   "cell_type": "markdown",
   "id": "cc37907f-bca3-4669-ab3b-e91556a97944",
   "metadata": {},
   "source": [
    "Die Gleichung $x^2 + 1 = 0$ hat keine Lösung"
   ]
  },
  {
   "cell_type": "code",
   "execution_count": 4,
   "id": "38e7d5ef-9de0-401c-b4bf-8c80e631921e",
   "metadata": {},
   "outputs": [
    {
     "name": "stdout",
     "output_type": "stream",
     "text": [
      "keine Lösung\n"
     ]
    }
   ],
   "source": [
    "quadr(1,0,1)"
   ]
  },
  {
   "cell_type": "markdown",
   "id": "c4aa01d9-c26e-44fe-a93a-6148239692c5",
   "metadata": {},
   "source": [
    "**Verbessere nun die Funktion: Statt mit `print` zu arbeiten, soll die Funktion Werte zurückliefern die weiterverwendet werden können!**"
   ]
  },
  {
   "cell_type": "code",
   "execution_count": null,
   "id": "bdc9b516-8826-4696-a878-11c102746ced",
   "metadata": {},
   "outputs": [],
   "source": []
  }
 ],
 "metadata": {
  "kernelspec": {
   "display_name": "Python 3 (ipykernel)",
   "language": "python",
   "name": "python3"
  },
  "language_info": {
   "codemirror_mode": {
    "name": "ipython",
    "version": 3
   },
   "file_extension": ".py",
   "mimetype": "text/x-python",
   "name": "python",
   "nbconvert_exporter": "python",
   "pygments_lexer": "ipython3",
   "version": "3.12.5"
  }
 },
 "nbformat": 4,
 "nbformat_minor": 5
}
