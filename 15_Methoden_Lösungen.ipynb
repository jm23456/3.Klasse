{
 "cells": [
  {
   "cell_type": "markdown",
   "id": "083e6a6d-ef02-4574-9e36-b89c14989648",
   "metadata": {},
   "source": [
    "# Strings"
   ]
  },
  {
   "cell_type": "markdown",
   "id": "4d913443-ee39-4c87-af4d-56a7c9aee76a",
   "metadata": {},
   "source": [
    "## Gross/kleinschreibung ändern:"
   ]
  },
  {
   "cell_type": "code",
   "execution_count": null,
   "id": "1a1d5b9f-9773-4706-b6c5-a495dcaef8cc",
   "metadata": {},
   "outputs": [],
   "source": [
    "text = \"Hallo, Welt!\"\n",
    "grossbuchstaben = text.upper()\n",
    "kleinbuchstaben = text.lower()\n",
    "print(grossbuchstaben)  # Ausgabe: HALLO, WELT!\n",
    "print(kleinbuchstaben)  # Ausgabe: hallo, welt!"
   ]
  },
  {
   "cell_type": "markdown",
   "id": "d76e7a20-aa40-405e-aa8a-8d3fa237c806",
   "metadata": {},
   "source": [
    "Mit den Methoden .upper() und .lower() können Strings in Grossbuchstaben und kleinbuchstaben umgewandelt werden. "
   ]
  },
  {
   "cell_type": "markdown",
   "id": "899ce7af-bd9c-4ddf-bb06-0f7f9c66f0b3",
   "metadata": {},
   "source": [
    "## Gross/kleinschreibung Prüfen:"
   ]
  },
  {
   "cell_type": "markdown",
   "id": "84f264bb-5235-4db2-aa4d-7d3811a0e3b0",
   "metadata": {},
   "source": [
    "Mit den Methoden .isupper() und .islower() kann geprüft werden ob ein String gross oder klein geschrieben ist."
   ]
  },
  {
   "cell_type": "code",
   "execution_count": null,
   "id": "59080ebd-6b99-4464-ac1f-a3213abd81dd",
   "metadata": {},
   "outputs": [],
   "source": [
    "string = \"HALLO\"\n",
    "if string.isupper() == True:\n",
    "    print(\"Gross geschrieben\")\n",
    "else:\n",
    "    print(\"Klein geschreiben\")"
   ]
  },
  {
   "cell_type": "markdown",
   "id": "30de9cd0-31d5-413c-abba-c11bd098dcb3",
   "metadata": {},
   "source": [
    "Dies kann auch auf einzelne Buchstaben angewendet werden:"
   ]
  },
  {
   "cell_type": "code",
   "execution_count": null,
   "id": "d7c22e9c-c591-4136-bd97-ce85fcf2769e",
   "metadata": {
    "scrolled": true
   },
   "outputs": [],
   "source": [
    "Wort = \"PaSsWOrT\"\n",
    "for buchstabe in Wort:\n",
    "    print(buchstabe.isupper())"
   ]
  },
  {
   "cell_type": "markdown",
   "id": "fb047677-e929-4bb9-896e-fd4d15a87163",
   "metadata": {},
   "source": [
    "## Art des Zeichens prüfen:"
   ]
  },
  {
   "cell_type": "markdown",
   "id": "186ac539-2971-4708-8ce8-880bc6c49a5c",
   "metadata": {},
   "source": [
    "In Python gibt es verschiedene Methoden, um zu überprüfen, welche Art von Zeichen ein bestimmtes Zeichen ist:\n",
    "\n",
    "isalpha(): Diese Methode überprüft, ob ein Zeichen ein Buchstabe (a-z oder A-Z) ist.\n",
    "\n",
    "isdigit(): Diese Methode überprüft, ob ein Zeichen eine Ziffer (0-9) ist.\n",
    "\n",
    "Beispiel:"
   ]
  },
  {
   "cell_type": "code",
   "execution_count": null,
   "id": "3b63da03-76b2-4a5e-b00a-da02e54737f8",
   "metadata": {
    "scrolled": true
   },
   "outputs": [],
   "source": [
    "zeichen = input(\"Geben Sie ein Zeichen ein\")\n",
    "\n",
    "if zeichen.isalpha() == True:\n",
    "    print(f\"Zeichen {zeichen} ist ein Buchstabe\")\n",
    "elif zeichen.isdigit() == True:\n",
    "    print(f\"Zeichen {zeichen} ist eine Ziffer\")\n",
    "else:\n",
    "    print(f\"Zeichen {zeichen} ist weder Buchstabe noch Ziffer!\")"
   ]
  },
  {
   "cell_type": "markdown",
   "id": "a224e97f-d333-4843-8d40-587638d09b2a",
   "metadata": {},
   "source": [
    "Testen Sie das obige Programm mit einigen eigenen Zeichen."
   ]
  },
  {
   "cell_type": "code",
   "execution_count": null,
   "id": "e9afb9ae-60f4-44c1-b3be-349dfc17ebde",
   "metadata": {},
   "outputs": [],
   "source": [
    "## Strings trennen:"
   ]
  },
  {
   "cell_type": "markdown",
   "id": "2a38fdf5-af24-4219-8d23-dd591e9ed0cf",
   "metadata": {},
   "source": [
    "Wir können Strings mittels .split(X) auftrennen. Dies ist äusserst nützlich wenn wir zum Beispiel einen Ganzen Satz bekommen, jedoch nur eine Liste der einzelnen Wörter haben möchten. Das Zeichen X gibt an, nach welchem Kriterium aufgeteilt werden soll. Wenn das Zeichen also \" \" (leerzeichen) ist, wird nach jedem Leerschlag eine Trennung durchgeführt."
   ]
  },
  {
   "cell_type": "code",
   "execution_count": null,
   "id": "bbeb93e9-f87c-4077-b5c9-a8aea59abaf3",
   "metadata": {},
   "outputs": [],
   "source": [
    "satz = \"Wie geht es dir heute?\"\n",
    "wörter = satz.split(\" \")\n",
    "print(wörter)"
   ]
  },
  {
   "cell_type": "markdown",
   "id": "da770c9e-7458-4cdc-8226-fa12250761b8",
   "metadata": {},
   "source": [
    "Wir können auch nach anderen Kriterien trennen, zum Beispiel nach jedem Komma."
   ]
  },
  {
   "cell_type": "code",
   "execution_count": null,
   "id": "a0bb2b3c-e499-44c2-baba-0b026ce2a9f5",
   "metadata": {},
   "outputs": [],
   "source": [
    "einkaufsliste = \"Bananen,Äpfel,Kirschen,Guetzli\"\n",
    "wörter = einkaufsliste.split(\",\")\n",
    "print(wörter)"
   ]
  },
  {
   "cell_type": "markdown",
   "id": "da86cb8d-e2f2-4bc1-a14a-1fdce6e13004",
   "metadata": {},
   "source": [
    "# Listen"
   ]
  },
  {
   "cell_type": "markdown",
   "id": "649d22ff-b877-47a6-814a-29e30cae525c",
   "metadata": {},
   "source": [
    "## Listen sortieren:"
   ]
  },
  {
   "cell_type": "markdown",
   "id": "b76b2fbc-dacf-4eda-865a-3bdb15169541",
   "metadata": {},
   "source": [
    "Mit dem Befehl liste.sort() können wir eine Liste ganz einfach sortieren:"
   ]
  },
  {
   "cell_type": "code",
   "execution_count": null,
   "id": "ad99bee5-4e33-4886-8d45-30d558a436dd",
   "metadata": {
    "scrolled": true
   },
   "outputs": [],
   "source": [
    "liste = [4,1,-5,100,29]\n",
    "print(f\"Unsortierte Liste: {liste}\")\n",
    "liste.sort()\n",
    "print(f\"Sortierte Liste: {liste}\")\n"
   ]
  },
  {
   "cell_type": "markdown",
   "id": "54fb442c-28df-4fb3-a0d1-5b0586801c8f",
   "metadata": {},
   "source": [
    "Beachten Sie, dass python stets in aufsteigender Reihenfolge sortiert."
   ]
  },
  {
   "cell_type": "markdown",
   "id": "4c531fb5-3595-478e-9b3c-b81dfbaf61fe",
   "metadata": {},
   "source": [
    "## Listen umkehren:"
   ]
  },
  {
   "cell_type": "markdown",
   "id": "2cfed47d-4c10-4bc8-83dc-3c42b6f3c01a",
   "metadata": {},
   "source": [
    "Die Reihenfolge der Listenelemente kann mittels des Befehls Liste.reverse() umgekehrt werden."
   ]
  },
  {
   "cell_type": "code",
   "execution_count": null,
   "id": "545db9c7-c2a2-4fee-8e8f-29205ee1158b",
   "metadata": {},
   "outputs": [],
   "source": [
    "liste = [1,2,3,4]\n",
    "liste.reverse()\n",
    "print(liste)"
   ]
  },
  {
   "cell_type": "markdown",
   "id": "b98960f4-33af-4506-8123-7636b4114e32",
   "metadata": {},
   "source": [
    "## Listen durchzählen:"
   ]
  },
  {
   "cell_type": "markdown",
   "id": "4a60882b-a10b-4ed6-9aa0-749540d99c16",
   "metadata": {},
   "source": [
    "Mittels liste.count(X) können wir zählen, wie oft ein Element in einer Liste vorkommt. "
   ]
  },
  {
   "cell_type": "code",
   "execution_count": null,
   "id": "300bfce7-f614-45b9-a516-a452a2100a13",
   "metadata": {},
   "outputs": [],
   "source": [
    "liste = [3,0,4,0,5,6,7,0,12,16,0]\n",
    "anzahl_nullen = liste.count(0)\n",
    "print(f\"Die Liste enthält {anzahl_nullen} Nullen\")"
   ]
  },
  {
   "cell_type": "markdown",
   "id": "60c15888-59d0-4ac0-8bc2-9c987c1147fc",
   "metadata": {},
   "source": [
    "# Aufgaben:"
   ]
  },
  {
   "cell_type": "markdown",
   "id": "76e3203c-9523-4d15-8bc3-4f558562b069",
   "metadata": {},
   "source": [
    "## Aufgabe 1:"
   ]
  },
  {
   "cell_type": "markdown",
   "id": "77d777cf-241f-410c-9cc1-9dae7640431f",
   "metadata": {},
   "source": [
    "Schreiben Sie ein Python-Programm, das den Benutzer auffordert, einen beliebigen Satz einzugeben. Das Programm sollte dann ausgeben, wie viele Buchstaben und wie viele Ziffern im Satz enthalten sind."
   ]
  },
  {
   "cell_type": "code",
   "execution_count": 1,
   "id": "e127c7a4-0a76-46aa-b9f2-627db0b1b2e9",
   "metadata": {},
   "outputs": [
    {
     "name": "stdin",
     "output_type": "stream",
     "text": [
      "Geben Sie einen Satz ein: Hallo mein Name ist 2049123zx und ich bin ein Roboter...\n"
     ]
    },
    {
     "name": "stdout",
     "output_type": "stream",
     "text": [
      "Der Satz enthält 37 Buchstaben und 7 Ziffern.\n"
     ]
    }
   ],
   "source": [
    "satz = input(\"Geben Sie einen Satz ein:\")\n",
    "b = 0\n",
    "z = 0\n",
    "for buchstabe in satz:\n",
    "    if buchstabe.isalpha():\n",
    "        b += 1\n",
    "    elif buchstabe.isdigit():\n",
    "        z += 1\n",
    "print(f\"Der Satz enthält {b} Buchstaben und {z} Ziffern.\")"
   ]
  },
  {
   "cell_type": "markdown",
   "id": "5ff2bf98-ebe2-46a0-9482-a3f010d05769",
   "metadata": {},
   "source": [
    "## Aufgabe 2:"
   ]
  },
  {
   "cell_type": "markdown",
   "id": "e7dd8a42-031f-4ee1-8b20-da694aa99e1d",
   "metadata": {},
   "source": [
    "Erstellen Sie eine Funktion bilde_passwort(), die aus einem Satz ein Passwort bildet. Das Passwort sollte aus dem ersten Buchstaben jedes Wortes in jedem Satz bestehen. Die Buchstaben sollten in Grossbuchstaben umgewandelt werden."
   ]
  },
  {
   "cell_type": "code",
   "execution_count": 4,
   "id": "a2db89b1-4cf8-40d4-b4b0-4432c93c68e1",
   "metadata": {},
   "outputs": [
    {
     "name": "stdout",
     "output_type": "stream",
     "text": [
      "HMNIE\n"
     ]
    }
   ],
   "source": [
    "satz = \"Hallo Mein Name ist Eugen\"\n",
    "wortliste = satz.split(\" \")\n",
    "passwort = \"\"\n",
    "for wort in wortliste:\n",
    "    erster_buchstabe = wort[0]\n",
    "    gross = erster_buchstabe.upper()\n",
    "    passwort += gross\n",
    "print(passwort)"
   ]
  },
  {
   "cell_type": "markdown",
   "id": "a0e0a8e7-32b2-4e2b-bdda-7c0094f4e160",
   "metadata": {},
   "source": [
    "## Aufgabe 3:"
   ]
  },
  {
   "cell_type": "markdown",
   "id": "0c0641dd-e9f3-4f31-a479-c3fe615eccd8",
   "metadata": {
    "scrolled": true
   },
   "source": [
    "Schreiben Sie eine Funktion finde_maximalen_wert(liste), die den grössten Wert in einer Liste von Ganzzahlen findet und zurückgibt. (Verwenden Sie nicht die max/min-Methoden)"
   ]
  },
  {
   "cell_type": "code",
   "execution_count": 5,
   "id": "07873fc5-89de-4d65-a42c-5b43a8b1ec4d",
   "metadata": {},
   "outputs": [
    {
     "data": {
      "text/plain": [
       "100"
      ]
     },
     "execution_count": 5,
     "metadata": {},
     "output_type": "execute_result"
    }
   ],
   "source": [
    "liste = [-4,5,2,6,100,-54]\n",
    "\n",
    "def finde_maximalen_wert(liste):\n",
    "    liste.sort()\n",
    "    liste.reverse()\n",
    "    return(liste[0])\n",
    "finde_maximalen_wert(liste)"
   ]
  },
  {
   "cell_type": "markdown",
   "id": "50b4b741-92f7-49b3-aa0f-1a01cc4db63b",
   "metadata": {},
   "source": [
    "## Aufgabe 4:"
   ]
  },
  {
   "cell_type": "markdown",
   "id": "186fe692-68c1-497b-924e-fd36589f765c",
   "metadata": {},
   "source": [
    "Passwort-Check (V2):\n",
    "\n",
    "Testen Sie mit einem Programm, ob ein eingegebenes Passwort die folgenden Kriterien erfüllt:\n",
    "\n",
    "- Mindestens ein Grossbuchstabe\n",
    "- Mindestens ein Kleinbuchstabe\n",
    "- Länge zwischen 5 und 10 Zeichen\n",
    "- das Wort \"passwort\" soll nicht im Passwort vorkommen"
   ]
  },
  {
   "cell_type": "code",
   "execution_count": 12,
   "id": "8f78a02f-4494-45de-8da2-01666763ac61",
   "metadata": {},
   "outputs": [
    {
     "name": "stdout",
     "output_type": "stream",
     "text": [
      "Das Passwort entspricht den Anforderungen\n"
     ]
    },
    {
     "data": {
      "text/plain": [
       "True"
      ]
     },
     "execution_count": 12,
     "metadata": {},
     "output_type": "execute_result"
    }
   ],
   "source": [
    "passwort = \"ijiIjijijj\"\n",
    "\n",
    "def passwort_check(pw):\n",
    "    count_gross = 0\n",
    "    count_klein = 0\n",
    "    for buchstabe in pw:\n",
    "        if buchstabe.isupper():\n",
    "            count_gross += 1\n",
    "        elif buchstabe.islower():\n",
    "            count_klein += 1\n",
    "    if count_gross == 0:\n",
    "        print(\"Zu wenig Grossbuchstaben!\")\n",
    "        return False\n",
    "    if count_klein == 0:\n",
    "        print(\"Zu wenig Kleinbuchstaben!\")\n",
    "        return False\n",
    "    if not (len(pw) >= 5 and len(pw) <= 10):\n",
    "        print(\"Länge nicht korrekt!\")\n",
    "        return False\n",
    "    if \"passwort\" in pw:\n",
    "        print(\"Das Wort Passwort darf nicht enthalten sein im Passwort!\")\n",
    "        return False\n",
    "    print(\"Das Passwort entspricht den Anforderungen\")\n",
    "    return True\n",
    "passwort_check(passwort)"
   ]
  },
  {
   "cell_type": "markdown",
   "id": "52456602-acb4-447c-8b9c-1c9b8bd777a5",
   "metadata": {},
   "source": [
    "## Aufgabe 5:"
   ]
  },
  {
   "cell_type": "markdown",
   "id": "43eeaa5c-7481-4891-9df9-5172753c9f17",
   "metadata": {},
   "source": [
    "Schreiben Sie ein Programm, welches einen Satz mittels input() entgegennimmt, und alle Grossbuchstaben zu Kleinbuchstaben macht und umgekehrt."
   ]
  },
  {
   "cell_type": "code",
   "execution_count": 13,
   "id": "792f367f-8799-4656-b138-ed5a4af1f25a",
   "metadata": {},
   "outputs": [
    {
     "name": "stdout",
     "output_type": "stream",
     "text": [
      "hALLO ICH BIN EIN tESTSATZ\n"
     ]
    }
   ],
   "source": [
    "satz = \"Hallo ich bin ein Testsatz\"\n",
    "neuer_satz = \"\"\n",
    "for buchstabe in satz:\n",
    "    if buchstabe.isupper():\n",
    "        neuer_satz += buchstabe.lower()\n",
    "    elif buchstabe.islower():\n",
    "        neuer_satz += buchstabe.upper()\n",
    "    else:\n",
    "        neuer_satz += buchstabe\n",
    "print(neuer_satz)"
   ]
  },
  {
   "cell_type": "markdown",
   "id": "671fa855-863d-45ec-8849-5e71c0e4fc7f",
   "metadata": {},
   "source": [
    "## Aufgabe 6:"
   ]
  },
  {
   "cell_type": "markdown",
   "id": "c538fbd1-675a-4189-a4a0-c61726e3b3ff",
   "metadata": {},
   "source": [
    "Schreiben Sie ein Programm, welches Einen Satz aus dem Deutschen ins Grüfnische übersetzt. (Hilfe: https://de.wikipedia.org/wiki/Spielsprache#Gr%C3%BCfnisch)"
   ]
  },
  {
   "cell_type": "code",
   "execution_count": 15,
   "id": "422d7ab8-0f3d-4ab2-8d9d-9355ba320a81",
   "metadata": {},
   "outputs": [
    {
     "name": "stdout",
     "output_type": "stream",
     "text": [
      "inifich genefehenefe anafan dinifienefe kanafantonofonsschunufulenefe zinifimmeneferbeneferg\n"
     ]
    }
   ],
   "source": [
    "# alles in kleinbuchstaben\n",
    "satz = \"ich gehe an die kantonsschule zimmerberg\"\n",
    "grüfn = \"\"\n",
    "for buchstabe in satz:\n",
    "    if buchstabe == \"a\":\n",
    "        grüfn += \"anafa\"\n",
    "    elif buchstabe == \"e\":\n",
    "        grüfn += \"enefe\"\n",
    "    elif buchstabe == \"i\":\n",
    "        grüfn += \"inifi\"\n",
    "    elif buchstabe == \"o\":\n",
    "        grüfn += \"onofo\"\n",
    "    elif buchstabe == \"u\":\n",
    "        grüfn += \"unufu\"\n",
    "    else:\n",
    "        grüfn += buchstabe\n",
    "print(grüfn)"
   ]
  }
 ],
 "metadata": {
  "kernelspec": {
   "display_name": "Python 3 (ipykernel)",
   "language": "python",
   "name": "python3"
  },
  "language_info": {
   "codemirror_mode": {
    "name": "ipython",
    "version": 3
   },
   "file_extension": ".py",
   "mimetype": "text/x-python",
   "name": "python",
   "nbconvert_exporter": "python",
   "pygments_lexer": "ipython3",
   "version": "3.9.7"
  }
 },
 "nbformat": 4,
 "nbformat_minor": 5
}
