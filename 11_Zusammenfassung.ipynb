{
 "cells": [
  {
   "cell_type": "markdown",
   "id": "37a18861",
   "metadata": {},
   "source": [
    "Dies ist eine Zusammenfassung des Python-Kurses auf Jupyterhub.\n",
    "Vieles wird direkt im Code mittels Kommentaren \"#\" vermerkt."
   ]
  },
  {
   "cell_type": "markdown",
   "id": "85fe4334",
   "metadata": {},
   "source": [
    "# 0_Erste Schritte"
   ]
  },
  {
   "cell_type": "code",
   "execution_count": 7,
   "id": "b773e3ec",
   "metadata": {},
   "outputs": [
    {
     "name": "stdout",
     "output_type": "stream",
     "text": [
      "Hallo Welt\n"
     ]
    }
   ],
   "source": [
    "# Print Befehle ausführen:\n",
    "print(\"Hallo Welt\")"
   ]
  },
  {
   "cell_type": "code",
   "execution_count": 8,
   "id": "c70980fe",
   "metadata": {},
   "outputs": [
    {
     "ename": "SyntaxError",
     "evalue": "invalid syntax (2715243918.py, line 2)",
     "output_type": "error",
     "traceback": [
      "\u001b[0;36m  Cell \u001b[0;32mIn[8], line 2\u001b[0;36m\u001b[0m\n\u001b[0;31m    print(Hallo Welt) # \" Vergessen\u001b[0m\n\u001b[0m                ^\u001b[0m\n\u001b[0;31mSyntaxError\u001b[0m\u001b[0;31m:\u001b[0m invalid syntax\n"
     ]
    }
   ],
   "source": [
    "# Klassischer Fehler:\n",
    "print(Hallo Welt) # \" Vergessen"
   ]
  },
  {
   "cell_type": "code",
   "execution_count": 9,
   "id": "0736dcd6",
   "metadata": {},
   "outputs": [
    {
     "name": "stdout",
     "output_type": "stream",
     "text": [
      "Kantonsschule Zimmerberg\n"
     ]
    }
   ],
   "source": [
    "# Mehrere Strings printen:\n",
    "print(\"Kantonsschule\",\"Zimmerberg\") # Abstand wird automatisch eingefügt!"
   ]
  },
  {
   "cell_type": "code",
   "execution_count": 10,
   "id": "129951bb",
   "metadata": {},
   "outputs": [
    {
     "name": "stdout",
     "output_type": "stream",
     "text": [
      "KantonsschuleZimmerberg\n"
     ]
    }
   ],
   "source": [
    "# Strings miteinander verbinden (\"Verkleben\"):\n",
    "str_1 = \"Kantonsschule\"\n",
    "str_2 = \"Zimmerberg\"\n",
    "print(str_1 + str_2) # Abstand wird nicht gemacht!"
   ]
  },
  {
   "cell_type": "code",
   "execution_count": 11,
   "id": "0f07c820",
   "metadata": {},
   "outputs": [
    {
     "name": "stdout",
     "output_type": "stream",
     "text": [
      "XOXOXOXOXOXOXOXOXOXOXOXOXOXOXOXOXOXOXOXOXOXOXOXOXOXOXOXOXOXOXOXOXOXOXOXOXOXOXOXOXOXOXOXOXOXOXOXOXOXOXOXOXOXOXOXOXOXOXOXOXOXOXOXOXOXOXOXOXOXOXOXOXOXOXOXOXOXOXOXOXOXOXOXOXOXOXOXOXOXOXOXOXOXOXOXOXOXOXOXO\n"
     ]
    }
   ],
   "source": [
    "# Strings mehrere Male hintereinander ausgeben:\n",
    "wort = \"XO\"\n",
    "print(100*wort) # Der String wird 100 mal ausgegeben"
   ]
  },
  {
   "cell_type": "code",
   "execution_count": 13,
   "id": "693b18f4",
   "metadata": {},
   "outputs": [
    {
     "name": "stdout",
     "output_type": "stream",
     "text": [
      "Hallo, \n",
      "wie geht's ?\n"
     ]
    }
   ],
   "source": [
    "# Zeilenumbruch printen\n",
    "\n",
    "satz = \"Hallo, \\nwie geht's ?\" # \\n \"Backslash + n\" gibt uns eine neue Zeile!\n",
    "print(satz)"
   ]
  },
  {
   "cell_type": "markdown",
   "id": "436a72a1",
   "metadata": {},
   "source": [
    "# 1_Variablen"
   ]
  },
  {
   "cell_type": "code",
   "execution_count": 14,
   "id": "4a4d6970",
   "metadata": {},
   "outputs": [
    {
     "name": "stdout",
     "output_type": "stream",
     "text": [
      "10\n"
     ]
    }
   ],
   "source": [
    "# Variablen speichern\n",
    "\n",
    "x = 10\n",
    "print(x)"
   ]
  },
  {
   "cell_type": "code",
   "execution_count": 15,
   "id": "40730152",
   "metadata": {},
   "outputs": [
    {
     "ename": "SyntaxError",
     "evalue": "cannot assign to literal (3796411848.py, line 3)",
     "output_type": "error",
     "traceback": [
      "\u001b[0;36m  Cell \u001b[0;32mIn[15], line 3\u001b[0;36m\u001b[0m\n\u001b[0;31m    10 = x\u001b[0m\n\u001b[0m    ^\u001b[0m\n\u001b[0;31mSyntaxError\u001b[0m\u001b[0;31m:\u001b[0m cannot assign to literal\n"
     ]
    }
   ],
   "source": [
    "# Häufiger Fehler:\n",
    "\n",
    "10 = x\n",
    "print(x)"
   ]
  },
  {
   "cell_type": "code",
   "execution_count": 3,
   "id": "60e88e76",
   "metadata": {},
   "outputs": [
    {
     "ename": "NameError",
     "evalue": "name 'zahl' is not defined",
     "output_type": "error",
     "traceback": [
      "\u001b[0;31m---------------------------------------------------------------------------\u001b[0m",
      "\u001b[0;31mNameError\u001b[0m                                 Traceback (most recent call last)",
      "Cell \u001b[0;32mIn[3], line 2\u001b[0m\n\u001b[1;32m      1\u001b[0m \u001b[38;5;66;03m# Häufiger Fehler:\u001b[39;00m\n\u001b[0;32m----> 2\u001b[0m \u001b[38;5;28mprint\u001b[39m(\u001b[43mzahl\u001b[49m)\n\u001b[1;32m      3\u001b[0m zahl \u001b[38;5;241m=\u001b[39m \u001b[38;5;241m5\u001b[39m\n",
      "\u001b[0;31mNameError\u001b[0m: name 'zahl' is not defined"
     ]
    }
   ],
   "source": [
    "# Häufiger Fehler:\n",
    "print(zahl)\n",
    "zahl = 5"
   ]
  },
  {
   "cell_type": "code",
   "execution_count": 1,
   "id": "29ca3210",
   "metadata": {},
   "outputs": [
    {
     "name": "stdout",
     "output_type": "stream",
     "text": [
      "10\n",
      "9\n",
      "18\n",
      "28\n"
     ]
    }
   ],
   "source": [
    "# Variablen verändern\n",
    "x = 10\n",
    "x + 1\n",
    "print(x)\n",
    "\n",
    "# Weitere Varianten:\n",
    "\n",
    "y = 5\n",
    "y += 4\n",
    "print(y)\n",
    "y *= 2\n",
    "print(y)\n",
    "\n",
    "z = x + y\n",
    "print(z)"
   ]
  },
  {
   "cell_type": "markdown",
   "id": "4f88afa1",
   "metadata": {},
   "source": [
    "# 2_Aufgaben"
   ]
  },
  {
   "cell_type": "markdown",
   "id": "c0f3d9dd",
   "metadata": {},
   "source": [
    "Einige Aufgaben aus dem Kapitel \"Aufgaben\":"
   ]
  },
  {
   "cell_type": "code",
   "execution_count": 4,
   "id": "f3ab934c",
   "metadata": {},
   "outputs": [
    {
     "name": "stdout",
     "output_type": "stream",
     "text": [
      "4.5\n"
     ]
    }
   ],
   "source": [
    "# Durchschnitt berechnen:\n",
    "\n",
    "x = 4.5\n",
    "y = 3.75\n",
    "z = 5.25\n",
    "\n",
    "durchschnitt = (x + y + z)/3\n",
    "print(durchschnitt)"
   ]
  },
  {
   "cell_type": "code",
   "execution_count": 5,
   "id": "93551f83",
   "metadata": {},
   "outputs": [
    {
     "name": "stdout",
     "output_type": "stream",
     "text": [
      "Grad Celsius: 0\n",
      "Es ist 0.0 Grad Celsius oder 32.0 Grad Fahrenheit.\n"
     ]
    }
   ],
   "source": [
    "# Umrechnung von Celsius zu Fahrenheit:\n",
    "\n",
    "temp_c = float(input(\"Grad Celsius: \"))\n",
    "temp_f = (temp_c * 1.8) + 32\n",
    "print(f\"Es ist {temp_c} Grad Celsius oder {temp_f} Grad Fahrenheit.\")"
   ]
  },
  {
   "cell_type": "markdown",
   "id": "aae98094",
   "metadata": {},
   "source": [
    "# 3_Fehler"
   ]
  },
  {
   "cell_type": "markdown",
   "id": "cab9cf77",
   "metadata": {},
   "source": [
    "Fehlersammlung:"
   ]
  },
  {
   "cell_type": "code",
   "execution_count": null,
   "id": "7ece3959",
   "metadata": {},
   "outputs": [],
   "source": [
    "print \"Ein Test\""
   ]
  },
  {
   "cell_type": "code",
   "execution_count": null,
   "id": "2941e630",
   "metadata": {},
   "outputs": [],
   "source": [
    "print(\"Hello\""
   ]
  },
  {
   "cell_type": "code",
   "execution_count": null,
   "id": "83a2057d",
   "metadata": {},
   "outputs": [],
   "source": [
    "print(Hallo)"
   ]
  },
  {
   "cell_type": "code",
   "execution_count": null,
   "id": "fcaf8d07",
   "metadata": {},
   "outputs": [],
   "source": [
    "class = \"Klasse 3c\""
   ]
  },
  {
   "cell_type": "code",
   "execution_count": null,
   "id": "2b23b8cc",
   "metadata": {},
   "outputs": [],
   "source": [
    "def = \"Definition\""
   ]
  },
  {
   "cell_type": "code",
   "execution_count": null,
   "id": "a22d34d2",
   "metadata": {},
   "outputs": [],
   "source": [
    "print(1/0)"
   ]
  },
  {
   "cell_type": "code",
   "execution_count": null,
   "id": "bb13fa55",
   "metadata": {},
   "outputs": [],
   "source": [
    "print(\"Klasse\"+3+\"c\")"
   ]
  },
  {
   "cell_type": "markdown",
   "id": "97cc0d80",
   "metadata": {},
   "source": [
    "# 4_Funktionen"
   ]
  },
  {
   "cell_type": "code",
   "execution_count": null,
   "id": "754f8200",
   "metadata": {},
   "outputs": [],
   "source": [
    "# maximum\n",
    "print(max(2,-1))"
   ]
  },
  {
   "cell_type": "code",
   "execution_count": null,
   "id": "e3c01629",
   "metadata": {},
   "outputs": [],
   "source": [
    "# minimum\n",
    "print(min(-5,10,-100))"
   ]
  },
  {
   "cell_type": "markdown",
   "id": "cf6a71fa",
   "metadata": {},
   "source": [
    "# 5_Zufallszahlen (Zwischenstand)"
   ]
  },
  {
   "cell_type": "code",
   "execution_count": null,
   "id": "135a48bd",
   "metadata": {},
   "outputs": [],
   "source": [
    "# random importieren\n",
    "import random # <-- Ohne das funktioniert nichts, was mit Zufall zu tun hat :)"
   ]
  },
  {
   "cell_type": "code",
   "execution_count": 8,
   "id": "f480183c",
   "metadata": {},
   "outputs": [
    {
     "name": "stdout",
     "output_type": "stream",
     "text": [
      "4\n"
     ]
    }
   ],
   "source": [
    "# Random Integer (Zufällige Ganzzahl)\n",
    "import random\n",
    "x = random.randint(1,6) # von 1 bis und mit 6\n",
    "print(x)"
   ]
  },
  {
   "cell_type": "code",
   "execution_count": 9,
   "id": "8511938c",
   "metadata": {},
   "outputs": [
    {
     "name": "stdout",
     "output_type": "stream",
     "text": [
      "Tomate\n"
     ]
    }
   ],
   "source": [
    "# Random Choice (Zufällige Auswahl)\n",
    "import random\n",
    "früchte = [\"Apfel\",\"Banane\",\"Tomate\"]\n",
    "z = random.choice(früchte)\n",
    "print(z)"
   ]
  },
  {
   "cell_type": "code",
   "execution_count": 32,
   "id": "a1f99681",
   "metadata": {},
   "outputs": [
    {
     "name": "stdout",
     "output_type": "stream",
     "text": [
      "6\n",
      "Hurra! Wir würfeln immer eine 6!\n"
     ]
    }
   ],
   "source": [
    "# Seed fixieren\n",
    "import random\n",
    "random.seed(19)\n",
    "print(random.randint(1,6))\n",
    "print(\"Hurra! Wir würfeln immer eine 6!\")"
   ]
  },
  {
   "cell_type": "markdown",
   "id": "f522fc6a",
   "metadata": {},
   "source": [
    "# 5_Verzweigungen (if-Anweisungen)"
   ]
  },
  {
   "cell_type": "code",
   "execution_count": 33,
   "id": "d68da794",
   "metadata": {},
   "outputs": [
    {
     "name": "stdout",
     "output_type": "stream",
     "text": [
      "Minderjährig\n"
     ]
    }
   ],
   "source": [
    "# Einfache if-Anweisung:\n",
    "alter = 17\n",
    "if alter < 18:\n",
    "    print(\"Minderjährig\")"
   ]
  },
  {
   "cell_type": "code",
   "execution_count": 34,
   "id": "b2f9a3b5",
   "metadata": {},
   "outputs": [],
   "source": [
    "# Einfache if-Anweisung:\n",
    "alter = 19\n",
    "if alter < 18:\n",
    "    print(\"Minderjährig\") # Wenn Bedingung nicht erfüllt ist, wird auch nichts ausgegeben !"
   ]
  },
  {
   "cell_type": "code",
   "execution_count": 35,
   "id": "88e4c0fa",
   "metadata": {},
   "outputs": [
    {
     "name": "stdout",
     "output_type": "stream",
     "text": [
      "Volljährig\n"
     ]
    }
   ],
   "source": [
    "# if-else-Anweisung:\n",
    "alter = 20\n",
    "if alter < 18:\n",
    "    print(\"Minderjährig\")\n",
    "else:\n",
    "    print(\"Volljährig\") # Nun wird in jedem Fall etwas ausgegeben!"
   ]
  },
  {
   "cell_type": "code",
   "execution_count": 36,
   "id": "f3010379",
   "metadata": {},
   "outputs": [
    {
     "name": "stdout",
     "output_type": "stream",
     "text": [
      "Nicht teilbar durch 2 und 3!\n"
     ]
    }
   ],
   "source": [
    "# if-elif-else-Anweisung:\n",
    "\n",
    "x = 23 \n",
    "if x % 2 == 0:\n",
    "    print(\"Teilbar durch 2\")\n",
    "elif x % 3 == 0: # Wird nur ausgeführt, falls die if-Anweisung zuvor Falsch ist!\n",
    "    print(\"Teilbar durch 3\")\n",
    "else:\n",
    "    print(\"Nicht teilbar durch 2 und 3!\")"
   ]
  },
  {
   "cell_type": "code",
   "execution_count": null,
   "id": "ab75bae5",
   "metadata": {},
   "outputs": [],
   "source": [
    "# Verknüpfte Bedingungen:\n",
    "sonne = True\n",
    "regen = False\n",
    "schnee = False\n",
    "\n",
    "if sonne and (regen or (not schnee)): # \"Wenn die sonne scheint und es regnet oder nicht schneit\"\n",
    "    print(\"Hurra\")\n",
    "else:\n",
    "    print(\"Schade\")"
   ]
  },
  {
   "cell_type": "markdown",
   "id": "7928fe2d",
   "metadata": {},
   "source": [
    "# 6_if-Anweisungen II"
   ]
  },
  {
   "cell_type": "code",
   "execution_count": 39,
   "id": "134dc5cf",
   "metadata": {},
   "outputs": [
    {
     "name": "stdout",
     "output_type": "stream",
     "text": [
      "Passwort: 123\n",
      "Alter: 17\n",
      "Zugang verweigert --> Zu jung\n"
     ]
    }
   ],
   "source": [
    "# Verschachtelte if-Anweisungen\n",
    "eingabe = input(\"Passwort: \")\n",
    "alter = int(input(\"Alter: \"))\n",
    "passwort = \"123\"\n",
    "\n",
    "if eingabe == passwort:\n",
    "    if alter >= 18:\n",
    "        print(\"Zugang gewährt!\")\n",
    "    else:\n",
    "        print(\"Zugang verweigert --> Zu jung\")\n",
    "else:\n",
    "    print(\"Zugang verweigert --> Passwort Falsch!\")"
   ]
  },
  {
   "cell_type": "code",
   "execution_count": 40,
   "id": "bab17478",
   "metadata": {},
   "outputs": [
    {
     "name": "stdout",
     "output_type": "stream",
     "text": [
      "Ungleich\n",
      "x kleiner als y\n",
      "x kleiner oder gleich y\n"
     ]
    }
   ],
   "source": [
    "# Mögliche Bedingungen:\n",
    "\n",
    "x = 3\n",
    "y = 4\n",
    "\n",
    "if x == y:\n",
    "    print(\"Beide gleich\")\n",
    "if x != y:\n",
    "    print(\"Ungleich\")\n",
    "if x < y:\n",
    "    print(\"x kleiner als y\")\n",
    "if x <= y:\n",
    "    print(\"x kleiner oder gleich y\")\n",
    "if x > y:\n",
    "    print(\"x grösser als y\")\n",
    "if x >= y:\n",
    "    print(\"x grösser oder gleich y\")\n"
   ]
  },
  {
   "cell_type": "code",
   "execution_count": 44,
   "id": "e09d51dd",
   "metadata": {},
   "outputs": [
    {
     "name": "stdout",
     "output_type": "stream",
     "text": [
      "Immer wahr!\n",
      "x nicht grösser als y\n"
     ]
    }
   ],
   "source": [
    "# Bedingungen verknüpfen\n",
    "x = 3\n",
    "y = 4\n",
    "\n",
    "if x == y or x != y:\n",
    "    print(\"Immer wahr!\")\n",
    "if x == y and x != y:\n",
    "    print(\"Nie wahr!\")\n",
    "if not x > y:\n",
    "    print(\"x nicht grösser als y\")"
   ]
  },
  {
   "cell_type": "markdown",
   "id": "010bc9fe",
   "metadata": {},
   "source": [
    "# 7_Strings"
   ]
  },
  {
   "cell_type": "code",
   "execution_count": null,
   "id": "dc07ed9f",
   "metadata": {},
   "outputs": [],
   "source": [
    "# Indizes von Strings\n",
    "wort = \"ABCD\"\n",
    "print(wort[0]) # Erster Buchstabe"
   ]
  },
  {
   "cell_type": "code",
   "execution_count": 46,
   "id": "9af15ed9",
   "metadata": {},
   "outputs": [
    {
     "name": "stdout",
     "output_type": "stream",
     "text": [
      "13\n"
     ]
    },
    {
     "ename": "IndexError",
     "evalue": "string index out of range",
     "output_type": "error",
     "traceback": [
      "\u001b[0;31m---------------------------------------------------------------------------\u001b[0m",
      "\u001b[0;31mIndexError\u001b[0m                                Traceback (most recent call last)",
      "Cell \u001b[0;32mIn[46], line 4\u001b[0m\n\u001b[1;32m      2\u001b[0m wort \u001b[38;5;241m=\u001b[39m \u001b[38;5;124m\"\u001b[39m\u001b[38;5;124mKantonsschule\u001b[39m\u001b[38;5;124m\"\u001b[39m\n\u001b[1;32m      3\u001b[0m \u001b[38;5;28mprint\u001b[39m(\u001b[38;5;28mlen\u001b[39m(wort)) \u001b[38;5;66;03m# 13\u001b[39;00m\n\u001b[0;32m----> 4\u001b[0m \u001b[38;5;28mprint\u001b[39m(\u001b[43mwort\u001b[49m\u001b[43m[\u001b[49m\u001b[38;5;241;43m13\u001b[39;49m\u001b[43m]\u001b[49m)\n",
      "\u001b[0;31mIndexError\u001b[0m: string index out of range"
     ]
    }
   ],
   "source": [
    "# Länge von Strings messen\n",
    "wort = \"Kantonsschule\"\n",
    "print(len(wort)) # 13\n",
    "print(wort[13]) # Geht nicht, da der letze Index des Wortes 12 ist (länge minus eins)"
   ]
  },
  {
   "cell_type": "code",
   "execution_count": 48,
   "id": "6e1171cf",
   "metadata": {},
   "outputs": [
    {
     "name": "stdout",
     "output_type": "stream",
     "text": [
      "13\n",
      "e\n",
      "e\n"
     ]
    }
   ],
   "source": [
    "# Länge von Strings messen\n",
    "wort = \"Kantonsschule\"\n",
    "print(len(wort)) # 13\n",
    "print(wort[12]) # Geht nicht, da der letze Index des Wortes 12 ist (länge minus eins)\n",
    "print(wort[len(wort)-1]) # direkter Weg"
   ]
  },
  {
   "cell_type": "code",
   "execution_count": 52,
   "id": "7aa5117d",
   "metadata": {
    "scrolled": true
   },
   "outputs": [
    {
     "name": "stdout",
     "output_type": "stream",
     "text": [
      "ABRA\n",
      "A\n"
     ]
    }
   ],
   "source": [
    "# Strings ausschneiden\n",
    "wort = \"ABRACADABRA\"\n",
    "print(wort[0:4])\n",
    "print(wort[0:1])  # ACHTUNG ! letztes Zeichen wird nicht mit ausgegeben --> wort[a:b] gibt a,,,(b-1) aus und b sebst nicht!"
   ]
  },
  {
   "cell_type": "markdown",
   "id": "04a02662",
   "metadata": {},
   "source": [
    "# Loops (Schleifen)"
   ]
  },
  {
   "cell_type": "markdown",
   "id": "e5ad4998",
   "metadata": {},
   "source": [
    "## for-loop"
   ]
  },
  {
   "cell_type": "code",
   "execution_count": 58,
   "id": "72f36d5e",
   "metadata": {},
   "outputs": [
    {
     "name": "stdout",
     "output_type": "stream",
     "text": [
      "0\n",
      "1\n",
      "2\n",
      "3\n",
      "4\n",
      "5\n",
      "6\n",
      "7\n",
      "8\n",
      "9\n",
      "Zweiter Loop\n",
      "0\n",
      "1\n",
      "2\n",
      "3\n",
      "4\n",
      "Dritter Loop\n",
      "10\n",
      "12\n",
      "14\n",
      "16\n",
      "18\n",
      "Vierter Loop\n",
      "200\n",
      "198\n",
      "196\n",
      "194\n",
      "192\n",
      "190\n",
      "188\n",
      "186\n",
      "184\n",
      "182\n",
      "180\n",
      "178\n",
      "176\n",
      "174\n",
      "172\n",
      "170\n",
      "168\n",
      "166\n",
      "164\n",
      "162\n",
      "160\n",
      "158\n",
      "156\n",
      "154\n",
      "152\n",
      "150\n",
      "148\n",
      "146\n",
      "144\n",
      "142\n",
      "140\n",
      "138\n",
      "136\n",
      "134\n",
      "132\n",
      "130\n",
      "128\n",
      "126\n",
      "124\n",
      "122\n",
      "120\n",
      "118\n",
      "116\n",
      "114\n",
      "112\n",
      "110\n",
      "108\n",
      "106\n",
      "104\n",
      "102\n",
      "100\n"
     ]
    }
   ],
   "source": [
    "# Variante 1 --> for-loop (angewendet, wenn bereits bekannt ist wieviele Iterationen notwendig)\n",
    "for i in range(0,10):\n",
    "    print(i)\n",
    "    \n",
    "print(\"Zweiter Loop\")\n",
    "for i in range(5):\n",
    "    print(i)\n",
    "print(\"Dritter Loop\")\n",
    "for i in range(10,20,2): # In zweierschritten von 10 bis 20 (20 selbst ist nicht mit dabei !)\n",
    "    print(i)\n",
    "print(\"Vierter Loop\")\n",
    "for i in range(200,99,-2): # Von 200 bis und mit 100 in zweierschritten runterzählen\n",
    "    print(i)\n"
   ]
  },
  {
   "cell_type": "code",
   "execution_count": null,
   "id": "95a9538a",
   "metadata": {},
   "outputs": [],
   "source": [
    "for i in [\"a\",\"b\",\"c\"]: # Variante des for-loops\n",
    "    print(i)"
   ]
  },
  {
   "cell_type": "markdown",
   "id": "ac3f5be5",
   "metadata": {},
   "source": [
    "## while-loop"
   ]
  },
  {
   "cell_type": "code",
   "execution_count": null,
   "id": "62278828",
   "metadata": {},
   "outputs": [],
   "source": [
    "# infinite loop\n",
    "while True:\n",
    "    print(1)\n",
    "# loop der nie ausgeführt wird:\n",
    "while False:\n",
    "    print(2)"
   ]
  },
  {
   "cell_type": "code",
   "execution_count": 59,
   "id": "fff7d876",
   "metadata": {},
   "outputs": [
    {
     "name": "stdout",
     "output_type": "stream",
     "text": [
      "10\n",
      "9\n",
      "8\n",
      "7\n",
      "6\n",
      "5\n",
      "4\n",
      "3\n",
      "2\n",
      "1\n"
     ]
    }
   ],
   "source": [
    "# loop solange x nicht 0 ist:\n",
    "x = 10\n",
    "while x != 0:\n",
    "    print(x)\n",
    "    x = x - 1 # oder x -= 1"
   ]
  },
  {
   "cell_type": "markdown",
   "id": "8f375974",
   "metadata": {},
   "source": [
    "## break und continue"
   ]
  },
  {
   "cell_type": "code",
   "execution_count": 61,
   "id": "b33bcb15",
   "metadata": {},
   "outputs": [
    {
     "name": "stdout",
     "output_type": "stream",
     "text": [
      "0\n",
      "1\n",
      "2\n",
      "3\n",
      "4\n",
      "5\n",
      "ausbrechen!\n"
     ]
    }
   ],
   "source": [
    "# Break um aus loop \"auszubrechen\"\n",
    "for i in range(10):\n",
    "    print(i)\n",
    "    if i == 5:\n",
    "        print(\"ausbrechen!\")\n",
    "        break"
   ]
  },
  {
   "cell_type": "code",
   "execution_count": 1,
   "id": "a24436cf",
   "metadata": {},
   "outputs": [
    {
     "name": "stdout",
     "output_type": "stream",
     "text": [
      "1\n",
      "2\n",
      "3\n",
      "4\n",
      "5\n",
      "6\n",
      "7\n",
      "8\n",
      "9\n",
      "10\n",
      "11\n",
      "12\n",
      "13\n",
      "14\n",
      "15\n",
      "16\n",
      "17\n",
      "18\n",
      "19\n",
      "20\n",
      "21\n",
      "22\n",
      "23\n",
      "24\n",
      "25\n",
      "26\n",
      "27\n",
      "28\n",
      "29\n",
      "30\n",
      "31\n",
      "32\n",
      "33\n",
      "34\n",
      "35\n",
      "36\n",
      "37\n",
      "38\n",
      "39\n",
      "40\n",
      "41\n",
      "42\n",
      "43\n",
      "44\n",
      "45\n",
      "46\n",
      "47\n",
      "48\n",
      "49\n",
      "50\n",
      "51\n",
      "52\n",
      "53\n",
      "54\n",
      "55\n",
      "56\n",
      "57\n",
      "58\n",
      "59\n",
      "60\n",
      "61\n",
      "62\n",
      "63\n",
      "64\n",
      "65\n",
      "66\n",
      "67\n",
      "68\n",
      "69\n",
      "70\n",
      "71\n",
      "72\n",
      "73\n",
      "74\n",
      "75\n",
      "76\n",
      "77\n",
      "78\n",
      "79\n",
      "80\n",
      "81\n",
      "82\n",
      "83\n",
      "84\n",
      "85\n",
      "86\n",
      "87\n",
      "88\n",
      "89\n",
      "90\n",
      "91\n",
      "92\n",
      "93\n",
      "94\n",
      "95\n",
      "96\n",
      "97\n",
      "98\n",
      "99\n",
      "100\n"
     ]
    }
   ],
   "source": [
    "# Zweites Beispiel\n",
    "x = 1\n",
    "while True:\n",
    "    print(x)\n",
    "    if x % 100 == 0:\n",
    "        break\n",
    "    x += 1"
   ]
  },
  {
   "cell_type": "markdown",
   "id": "3d041905",
   "metadata": {},
   "source": [
    "# continue"
   ]
  },
  {
   "cell_type": "code",
   "execution_count": 4,
   "id": "1332cf99",
   "metadata": {},
   "outputs": [
    {
     "name": "stdout",
     "output_type": "stream",
     "text": [
      "-0.1\n",
      "-0.1111111111111111\n",
      "-0.125\n",
      "-0.14285714285714285\n",
      "-0.16666666666666666\n",
      "-0.2\n",
      "-0.25\n",
      "-0.3333333333333333\n",
      "-0.5\n",
      "-1.0\n",
      "überspringen\n",
      "1.0\n",
      "0.5\n",
      "0.3333333333333333\n",
      "0.25\n",
      "0.2\n",
      "0.16666666666666666\n",
      "0.14285714285714285\n",
      "0.125\n",
      "0.1111111111111111\n",
      "0.1\n"
     ]
    }
   ],
   "source": [
    "# Continue um einzelne Iterationen überspringen zu können\n",
    "for i in range(-10,11):\n",
    "    if i == 0:    # um nicht durch 0 zu teilen !!\n",
    "        print(\"überspringen\")\n",
    "        continue\n",
    "    else:\n",
    "        print(1 / i)"
   ]
  }
 ],
 "metadata": {
  "kernelspec": {
   "display_name": "Python 3 (ipykernel)",
   "language": "python",
   "name": "python3"
  },
  "language_info": {
   "codemirror_mode": {
    "name": "ipython",
    "version": 3
   },
   "file_extension": ".py",
   "mimetype": "text/x-python",
   "name": "python",
   "nbconvert_exporter": "python",
   "pygments_lexer": "ipython3",
   "version": "3.9.7"
  }
 },
 "nbformat": 4,
 "nbformat_minor": 5
}
