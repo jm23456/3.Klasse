{
 "cells": [
  {
   "cell_type": "markdown",
   "id": "37a18861",
   "metadata": {},
   "source": [
    "Dies ist eine Zusammenfassung des Python-Kurses auf Jupyterhub.\n",
    "Vieles wird direkt im Code mittels Kommentaren \"#\" vermerkt."
   ]
  },
  {
   "cell_type": "markdown",
   "id": "85fe4334",
   "metadata": {},
   "source": [
    "# 0_Erste Schritte"
   ]
  },
  {
   "cell_type": "code",
   "execution_count": null,
   "id": "b773e3ec",
   "metadata": {},
   "outputs": [],
   "source": [
    "# Print Befehle ausführen:\n",
    "print(\"Hallo Welt\")"
   ]
  },
  {
   "cell_type": "code",
   "execution_count": null,
   "id": "c70980fe",
   "metadata": {},
   "outputs": [],
   "source": [
    "# Klassischer Fehler:\n",
    "print(Hallo Welt) # \" Vergessen"
   ]
  },
  {
   "cell_type": "code",
   "execution_count": null,
   "id": "0736dcd6",
   "metadata": {},
   "outputs": [],
   "source": [
    "# Mehrere Strings printen:\n",
    "print(\"Kantonsschule\",\"Zimmerberg\") # Abstand wird automatisch eingefügt!"
   ]
  },
  {
   "cell_type": "code",
   "execution_count": null,
   "id": "129951bb",
   "metadata": {},
   "outputs": [],
   "source": [
    "# Strings miteinander verbinden (\"Verkleben\"):\n",
    "str_1 = \"Kantonsschule\"\n",
    "str_2 = \"Zimmerberg\"\n",
    "print(str_1 + str_2) # Abstand wird nicht gemacht!"
   ]
  },
  {
   "cell_type": "code",
   "execution_count": null,
   "id": "0f07c820",
   "metadata": {},
   "outputs": [],
   "source": [
    "# Strings mehrere Male hintereinander ausgeben:\n",
    "wort = \"XO\"\n",
    "print(100*wort) # Der String wird 100 mal ausgegeben"
   ]
  },
  {
   "cell_type": "code",
   "execution_count": null,
   "id": "693b18f4",
   "metadata": {},
   "outputs": [],
   "source": [
    "# Zeilenumbruch printen\n",
    "\n",
    "satz = \"Hallo, \\nwie geht's ?\" # \\n \"Backslash + n\" gibt uns eine neue Zeile!\n",
    "print(satz)"
   ]
  },
  {
   "cell_type": "markdown",
   "id": "436a72a1",
   "metadata": {},
   "source": [
    "# 1_Variablen"
   ]
  },
  {
   "cell_type": "code",
   "execution_count": null,
   "id": "4a4d6970",
   "metadata": {},
   "outputs": [],
   "source": [
    "# Variablen speichern\n",
    "\n",
    "x = 10\n",
    "print(x)"
   ]
  },
  {
   "cell_type": "code",
   "execution_count": null,
   "id": "40730152",
   "metadata": {},
   "outputs": [],
   "source": [
    "# Häufiger Fehler:\n",
    "\n",
    "10 = x\n",
    "print(x)"
   ]
  },
  {
   "cell_type": "code",
   "execution_count": null,
   "id": "60e88e76",
   "metadata": {},
   "outputs": [],
   "source": [
    "# Häufiger Fehler:\n",
    "print(zahl)\n",
    "zahl = 5"
   ]
  },
  {
   "cell_type": "code",
   "execution_count": null,
   "id": "29ca3210",
   "metadata": {},
   "outputs": [],
   "source": [
    "# Variablen verändern\n",
    "x = 10\n",
    "x + 1\n",
    "print(x)\n",
    "\n",
    "# Weitere Varianten:\n",
    "\n",
    "y = 5\n",
    "y += 4\n",
    "print(y)\n",
    "y *= 2\n",
    "print(y)\n",
    "\n",
    "z = x + y\n",
    "print(z)"
   ]
  },
  {
   "cell_type": "markdown",
   "id": "4f88afa1",
   "metadata": {},
   "source": [
    "# 2_Aufgaben"
   ]
  },
  {
   "cell_type": "markdown",
   "id": "c0f3d9dd",
   "metadata": {},
   "source": [
    "Einige Aufgaben aus dem Kapitel \"Aufgaben\":"
   ]
  },
  {
   "cell_type": "code",
   "execution_count": null,
   "id": "f3ab934c",
   "metadata": {},
   "outputs": [],
   "source": [
    "# Durchschnitt berechnen:\n",
    "\n",
    "x = 4.5\n",
    "y = 3.75\n",
    "z = 5.25\n",
    "\n",
    "durchschnitt = (x + y + z)/3\n",
    "print(durchschnitt)"
   ]
  },
  {
   "cell_type": "code",
   "execution_count": null,
   "id": "93551f83",
   "metadata": {},
   "outputs": [],
   "source": [
    "# Umrechnung von Celsius zu Fahrenheit:\n",
    "\n",
    "temp_c = float(input(\"Grad Celsius: \"))\n",
    "temp_f = (temp_c * 1.8) + 32\n",
    "print(f\"Es ist {temp_c} Grad Celsius oder {temp_f} Grad Fahrenheit.\")"
   ]
  },
  {
   "cell_type": "markdown",
   "id": "aae98094",
   "metadata": {},
   "source": [
    "# 3_Fehler"
   ]
  },
  {
   "cell_type": "markdown",
   "id": "cab9cf77",
   "metadata": {},
   "source": [
    "Fehlersammlung:"
   ]
  },
  {
   "cell_type": "code",
   "execution_count": null,
   "id": "7ece3959",
   "metadata": {},
   "outputs": [],
   "source": [
    "print \"Ein Test\""
   ]
  },
  {
   "cell_type": "code",
   "execution_count": null,
   "id": "2941e630",
   "metadata": {},
   "outputs": [],
   "source": [
    "print(\"Hello\""
   ]
  },
  {
   "cell_type": "code",
   "execution_count": null,
   "id": "83a2057d",
   "metadata": {},
   "outputs": [],
   "source": [
    "print(Hallo)"
   ]
  },
  {
   "cell_type": "code",
   "execution_count": null,
   "id": "fcaf8d07",
   "metadata": {},
   "outputs": [],
   "source": [
    "class = \"Klasse 3c\""
   ]
  },
  {
   "cell_type": "code",
   "execution_count": null,
   "id": "2b23b8cc",
   "metadata": {},
   "outputs": [],
   "source": [
    "def = \"Definition\""
   ]
  },
  {
   "cell_type": "code",
   "execution_count": null,
   "id": "a22d34d2",
   "metadata": {},
   "outputs": [],
   "source": [
    "print(1/0)"
   ]
  },
  {
   "cell_type": "code",
   "execution_count": null,
   "id": "bb13fa55",
   "metadata": {},
   "outputs": [],
   "source": [
    "print(\"Klasse\"+3+\"c\")"
   ]
  },
  {
   "cell_type": "markdown",
   "id": "97cc0d80",
   "metadata": {},
   "source": [
    "# 4_Funktionen"
   ]
  },
  {
   "cell_type": "code",
   "execution_count": null,
   "id": "754f8200",
   "metadata": {},
   "outputs": [],
   "source": [
    "# maximum\n",
    "print(max(2,-1))"
   ]
  },
  {
   "cell_type": "code",
   "execution_count": null,
   "id": "e3c01629",
   "metadata": {},
   "outputs": [],
   "source": [
    "# minimum\n",
    "print(min(-5,10,-100))"
   ]
  },
  {
   "cell_type": "markdown",
   "id": "cf6a71fa",
   "metadata": {},
   "source": [
    "# 5_Zufallszahlen (Zwischenstand)"
   ]
  },
  {
   "cell_type": "code",
   "execution_count": null,
   "id": "135a48bd",
   "metadata": {},
   "outputs": [],
   "source": [
    "# random importieren\n",
    "import random # <-- Ohne das funktioniert nichts, was mit Zufall zu tun hat :)"
   ]
  },
  {
   "cell_type": "code",
   "execution_count": null,
   "id": "f480183c",
   "metadata": {},
   "outputs": [],
   "source": [
    "# Random Integer (Zufällige Ganzzahl)\n",
    "import random\n",
    "x = random.randint(1,6) # von 1 bis und mit 6\n",
    "print(x)"
   ]
  },
  {
   "cell_type": "code",
   "execution_count": null,
   "id": "8511938c",
   "metadata": {},
   "outputs": [],
   "source": [
    "# Random Choice (Zufällige Auswahl)\n",
    "import random\n",
    "früchte = [\"Apfel\",\"Banane\",\"Tomate\"]\n",
    "z = random.choice(früchte)\n",
    "print(z)"
   ]
  },
  {
   "cell_type": "code",
   "execution_count": null,
   "id": "a1f99681",
   "metadata": {},
   "outputs": [],
   "source": [
    "# Seed fixieren\n",
    "import random\n",
    "random.seed(19)\n",
    "print(random.randint(1,6))\n",
    "print(\"Hurra! Wir würfeln immer eine 6!\")"
   ]
  },
  {
   "cell_type": "markdown",
   "id": "f522fc6a",
   "metadata": {},
   "source": [
    "# 5_Verzweigungen (if-Anweisungen)"
   ]
  },
  {
   "cell_type": "code",
   "execution_count": null,
   "id": "d68da794",
   "metadata": {},
   "outputs": [],
   "source": [
    "# Einfache if-Anweisung:\n",
    "alter = 17\n",
    "if alter < 18:\n",
    "    print(\"Minderjährig\")"
   ]
  },
  {
   "cell_type": "code",
   "execution_count": null,
   "id": "b2f9a3b5",
   "metadata": {},
   "outputs": [],
   "source": [
    "# Einfache if-Anweisung:\n",
    "alter = 19\n",
    "if alter < 18:\n",
    "    print(\"Minderjährig\") # Wenn Bedingung nicht erfüllt ist, wird auch nichts ausgegeben !"
   ]
  },
  {
   "cell_type": "code",
   "execution_count": null,
   "id": "88e4c0fa",
   "metadata": {},
   "outputs": [],
   "source": [
    "# if-else-Anweisung:\n",
    "alter = 20\n",
    "if alter < 18:\n",
    "    print(\"Minderjährig\")\n",
    "else:\n",
    "    print(\"Volljährig\") # Nun wird in jedem Fall etwas ausgegeben!"
   ]
  },
  {
   "cell_type": "code",
   "execution_count": null,
   "id": "f3010379",
   "metadata": {},
   "outputs": [],
   "source": [
    "# if-elif-else-Anweisung:\n",
    "\n",
    "x = 23 \n",
    "if x % 2 == 0:\n",
    "    print(\"Teilbar durch 2\")\n",
    "elif x % 3 == 0: # Wird nur ausgeführt, falls die if-Anweisung zuvor Falsch ist!\n",
    "    print(\"Teilbar durch 3\")\n",
    "else:\n",
    "    print(\"Nicht teilbar durch 2 und 3!\")"
   ]
  },
  {
   "cell_type": "code",
   "execution_count": null,
   "id": "ab75bae5",
   "metadata": {},
   "outputs": [],
   "source": [
    "# Verknüpfte Bedingungen:\n",
    "sonne = True\n",
    "regen = False\n",
    "schnee = False\n",
    "\n",
    "if sonne and (regen or (not schnee)): # \"Wenn die sonne scheint und es regnet oder nicht schneit\"\n",
    "    print(\"Hurra\")\n",
    "else:\n",
    "    print(\"Schade\")"
   ]
  },
  {
   "cell_type": "markdown",
   "id": "7928fe2d",
   "metadata": {},
   "source": [
    "# 6_if-Anweisungen II"
   ]
  },
  {
   "cell_type": "code",
   "execution_count": null,
   "id": "134dc5cf",
   "metadata": {},
   "outputs": [],
   "source": [
    "# Verschachtelte if-Anweisungen\n",
    "eingabe = input(\"Passwort: \")\n",
    "alter = int(input(\"Alter: \"))\n",
    "passwort = \"123\"\n",
    "\n",
    "if eingabe == passwort:\n",
    "    if alter >= 18:\n",
    "        print(\"Zugang gewährt!\")\n",
    "    else:\n",
    "        print(\"Zugang verweigert --> Zu jung\")\n",
    "else:\n",
    "    print(\"Zugang verweigert --> Passwort Falsch!\")"
   ]
  },
  {
   "cell_type": "code",
   "execution_count": null,
   "id": "bab17478",
   "metadata": {},
   "outputs": [],
   "source": [
    "# Mögliche Bedingungen:\n",
    "\n",
    "x = 3\n",
    "y = 4\n",
    "\n",
    "if x == y:\n",
    "    print(\"Beide gleich\")\n",
    "if x != y:\n",
    "    print(\"Ungleich\")\n",
    "if x < y:\n",
    "    print(\"x kleiner als y\")\n",
    "if x <= y:\n",
    "    print(\"x kleiner oder gleich y\")\n",
    "if x > y:\n",
    "    print(\"x grösser als y\")\n",
    "if x >= y:\n",
    "    print(\"x grösser oder gleich y\")\n"
   ]
  },
  {
   "cell_type": "code",
   "execution_count": null,
   "id": "e09d51dd",
   "metadata": {},
   "outputs": [],
   "source": [
    "# Bedingungen verknüpfen\n",
    "x = 3\n",
    "y = 4\n",
    "\n",
    "if x == y or x != y:\n",
    "    print(\"Immer wahr!\")\n",
    "if x == y and x != y:\n",
    "    print(\"Nie wahr!\")\n",
    "if not x > y:\n",
    "    print(\"x nicht grösser als y\")"
   ]
  },
  {
   "cell_type": "markdown",
   "id": "010bc9fe",
   "metadata": {},
   "source": [
    "# 7_Strings"
   ]
  },
  {
   "cell_type": "code",
   "execution_count": null,
   "id": "dc07ed9f",
   "metadata": {},
   "outputs": [],
   "source": [
    "# Indizes von Strings\n",
    "wort = \"ABCD\"\n",
    "print(wort[0]) # Erster Buchstabe"
   ]
  },
  {
   "cell_type": "code",
   "execution_count": null,
   "id": "9af15ed9",
   "metadata": {},
   "outputs": [],
   "source": [
    "# Länge von Strings messen\n",
    "wort = \"Kantonsschule\"\n",
    "print(len(wort)) # 13\n",
    "print(wort[13]) # Geht nicht, da der letze Index des Wortes 12 ist (länge minus eins)"
   ]
  },
  {
   "cell_type": "code",
   "execution_count": null,
   "id": "6e1171cf",
   "metadata": {},
   "outputs": [],
   "source": [
    "# Länge von Strings messen\n",
    "wort = \"Kantonsschule\"\n",
    "print(len(wort)) # 13\n",
    "print(wort[12]) # Geht nicht, da der letze Index des Wortes 12 ist (länge minus eins)\n",
    "print(wort[len(wort)-1]) # direkter Weg"
   ]
  },
  {
   "cell_type": "code",
   "execution_count": null,
   "id": "7aa5117d",
   "metadata": {
    "scrolled": true
   },
   "outputs": [],
   "source": [
    "# Strings ausschneiden\n",
    "wort = \"ABRACADABRA\"\n",
    "print(wort[0:4])\n",
    "print(wort[0:1])  # ACHTUNG ! letztes Zeichen wird nicht mit ausgegeben --> wort[a:b] gibt a,,,(b-1) aus und b sebst nicht!"
   ]
  },
  {
   "cell_type": "markdown",
   "id": "04a02662",
   "metadata": {},
   "source": [
    "# Loops (Schleifen)"
   ]
  },
  {
   "cell_type": "markdown",
   "id": "e5ad4998",
   "metadata": {},
   "source": [
    "## for-loop"
   ]
  },
  {
   "cell_type": "code",
   "execution_count": null,
   "id": "72f36d5e",
   "metadata": {},
   "outputs": [],
   "source": [
    "# Variante 1 --> for-loop (angewendet, wenn bereits bekannt ist wieviele Iterationen notwendig)\n",
    "for i in range(0,10):\n",
    "    print(i)\n",
    "    \n",
    "print(\"Zweiter Loop\")\n",
    "for i in range(5):\n",
    "    print(i)\n",
    "print(\"Dritter Loop\")\n",
    "for i in range(10,20,2): # In zweierschritten von 10 bis 20 (20 selbst ist nicht mit dabei !)\n",
    "    print(i)\n",
    "print(\"Vierter Loop\")\n",
    "for i in range(200,99,-2): # Von 200 bis und mit 100 in zweierschritten runterzählen\n",
    "    print(i)\n"
   ]
  },
  {
   "cell_type": "code",
   "execution_count": null,
   "id": "95a9538a",
   "metadata": {},
   "outputs": [],
   "source": [
    "for i in [\"a\",\"b\",\"c\"]: # Variante des for-loops\n",
    "    print(i)"
   ]
  },
  {
   "cell_type": "markdown",
   "id": "ac3f5be5",
   "metadata": {},
   "source": [
    "## while-loop"
   ]
  },
  {
   "cell_type": "code",
   "execution_count": null,
   "id": "62278828",
   "metadata": {},
   "outputs": [],
   "source": [
    "# infinite loop\n",
    "while True:\n",
    "    print(1)\n",
    "# loop der nie ausgeführt wird:\n",
    "while False:\n",
    "    print(2)"
   ]
  },
  {
   "cell_type": "code",
   "execution_count": null,
   "id": "fff7d876",
   "metadata": {},
   "outputs": [],
   "source": [
    "# loop solange x nicht 0 ist:\n",
    "x = 10\n",
    "while x != 0:\n",
    "    print(x)\n",
    "    x = x - 1 # oder x -= 1"
   ]
  },
  {
   "cell_type": "markdown",
   "id": "8f375974",
   "metadata": {},
   "source": [
    "## break und continue"
   ]
  },
  {
   "cell_type": "code",
   "execution_count": null,
   "id": "b33bcb15",
   "metadata": {},
   "outputs": [],
   "source": [
    "# Break um aus loop \"auszubrechen\"\n",
    "for i in range(10):\n",
    "    print(i)\n",
    "    if i == 5:\n",
    "        print(\"ausbrechen!\")\n",
    "        break"
   ]
  },
  {
   "cell_type": "code",
   "execution_count": null,
   "id": "a24436cf",
   "metadata": {},
   "outputs": [],
   "source": [
    "# Zweites Beispiel\n",
    "x = 1\n",
    "while True:\n",
    "    print(x)\n",
    "    if x % 100 == 0:\n",
    "        break\n",
    "    x += 1"
   ]
  },
  {
   "cell_type": "markdown",
   "id": "3d041905",
   "metadata": {},
   "source": [
    "# continue"
   ]
  },
  {
   "cell_type": "code",
   "execution_count": null,
   "id": "1332cf99",
   "metadata": {},
   "outputs": [],
   "source": [
    "# Continue um einzelne Iterationen überspringen zu können\n",
    "for i in range(-10,11):\n",
    "    if i == 0:    # um nicht durch 0 zu teilen !!\n",
    "        print(\"überspringen\")\n",
    "        continue\n",
    "    else:\n",
    "        print(1 / i)"
   ]
  },
  {
   "cell_type": "markdown",
   "id": "b0bc147e-57c2-42a6-b8ee-7f0445b26f48",
   "metadata": {},
   "source": [
    "## Repetitionsaufgabe Geheime Botschaft\n",
    "\n",
    "Ein Spion hat eine geheime Nachricht in einem String versteckt. Deine Aufgabe ist es, diesen String zu analysieren und die versteckte Botschaft zu entschlüsseln.\n",
    "\n",
    "Die Botschaft besteht aus jedem dritten Buchstaben des Strings, beginnend beim zweiten Zeichen (Index 1). <br>\n",
    "Hänge das erste und letzte Zeichen der entschlüsselten Botschaft vorne und hinten an. <br>\n",
    "Vertausche das zweite und vorletzte Zeichen der neuen Botschaft.<br>\n",
    "Gib die endgültige geheime Botschaft aus."
   ]
  },
  {
   "cell_type": "code",
   "execution_count": 1,
   "id": "652f66db-e8e6-4345-a400-a4123027e58f",
   "metadata": {},
   "outputs": [],
   "source": [
    "geheime_Botschaft = \"aVxiyzqelD EmrsfottglpX fü^rs!F0S23985\"\n",
    "\n",
    "\n"
   ]
  }
 ],
 "metadata": {
  "kernelspec": {
   "display_name": "Python 3 (ipykernel)",
   "language": "python",
   "name": "python3"
  },
  "language_info": {
   "codemirror_mode": {
    "name": "ipython",
    "version": 3
   },
   "file_extension": ".py",
   "mimetype": "text/x-python",
   "name": "python",
   "nbconvert_exporter": "python",
   "pygments_lexer": "ipython3",
   "version": "3.9.7"
  }
 },
 "nbformat": 4,
 "nbformat_minor": 5
}
