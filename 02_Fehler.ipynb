{
 "cells": [
  {
   "cell_type": "markdown",
   "id": "1e8ed862",
   "metadata": {},
   "source": [
    "# Fehler"
   ]
  },
  {
   "cell_type": "markdown",
   "id": "14129fdf",
   "metadata": {},
   "source": [
    "Wer mehr und mehr programmiert, bei dem werden irgendwann Fehler (oder Bugs) auftreten. Das Auslösen, Verstehen und Korrigieren von Fehlern ist ein wichtiger Teil des Programmierens. Python wird - soweit möglich - alles ausführen, was gefragt ist, aber wenn es nicht möglich ist, wird es natürlich auch nicht gehen. Ist das der Fall, versucht Python zumindest noch ein paar Informationen über den Fehler zu nennen, damit du ihn korrigieren kannst."
   ]
  },
  {
   "cell_type": "markdown",
   "id": "e9c7472a",
   "metadata": {},
   "source": [
    "## Syntax Fehler"
   ]
  },
  {
   "cell_type": "markdown",
   "id": "e4ebef32",
   "metadata": {},
   "source": [
    "Syntaxfehler treten während der Kompilierung oder Interpretation des Programms auf. Sie sind auf Verstöße gegen die Grammatikregeln der Programmiersprache zurückzuführen. Sie verhindern, dass das Programm überhaupt ausgeführt wird.\n",
    "\n",
    "Beispiele: fehlende Klammern, Tippfehler in Schlüsselwörtern, falsche Reihenfolge von Befehlen."
   ]
  },
  {
   "cell_type": "markdown",
   "id": "76f09e16",
   "metadata": {},
   "source": [
    "## Beispiele"
   ]
  },
  {
   "cell_type": "code",
   "execution_count": null,
   "id": "b451be0c",
   "metadata": {},
   "outputs": [],
   "source": [
    "print \"ein Test\""
   ]
  },
  {
   "cell_type": "code",
   "execution_count": null,
   "id": "8d6d6744",
   "metadata": {},
   "outputs": [],
   "source": [
    "print(\"Hello\""
   ]
  },
  {
   "cell_type": "code",
   "execution_count": null,
   "id": "69ee28fd",
   "metadata": {},
   "outputs": [],
   "source": [
    "x = \"Informatik"
   ]
  },
  {
   "cell_type": "code",
   "execution_count": null,
   "id": "d620d620",
   "metadata": {},
   "outputs": [],
   "source": [
    "class = \"Advanced Computronics for Beginners\""
   ]
  },
  {
   "cell_type": "code",
   "execution_count": null,
   "id": "b456c58b",
   "metadata": {},
   "outputs": [],
   "source": [
    "def = \"Definition\""
   ]
  },
  {
   "cell_type": "markdown",
   "id": "31335d51",
   "metadata": {},
   "source": [
    "Schlüsselwörter dürfen nicht als Namen für Variablen gewählt werden. Eine Liste mit Schlüsselwörtern findest du hier:\n",
    "    "
   ]
  },
  {
   "cell_type": "code",
   "execution_count": 2,
   "id": "fb816a04",
   "metadata": {},
   "outputs": [
    {
     "data": {
      "image/jpeg": "[encoded data removed]",
      "text/plain": [
       "<IPython.core.display.Image object>"
      ]
     },
     "execution_count": 2,
     "metadata": {},
     "output_type": "execute_result"
    }
   ],
   "source": [
    "from IPython import display\n",
    "display.Image(\"https://pic2.zhimg.com/v2-0b5288aabcc3da5f60a32bdfe2acfacd_b.jpg\")"
   ]
  },
  {
   "cell_type": "markdown",
   "id": "fe30a5aa",
   "metadata": {},
   "source": [
    "## Laufzeit Fehler"
   ]
  },
  {
   "cell_type": "markdown",
   "id": "6098724f",
   "metadata": {},
   "source": [
    "Laufzeitfehler treten auf, wenn das Programm während der Ausführung auf ein unerwartetes Ereignis stößt.\n",
    "Sie sind nicht auf syntaktische Fehler zurückzuführen, sondern auf logische Probleme oder unerwartete Bedingungen.\n",
    "Sie führen dazu, dass das Programm während der Ausführung abbricht oder unerwartete Ergebnisse liefert.\n",
    "\n",
    "Beispiele: Division durch Null, Zugriff auf eine noch nicht bekannte Variable, Datei nicht gefunden."
   ]
  },
  {
   "cell_type": "markdown",
   "id": "8df74f66",
   "metadata": {},
   "source": [
    "## Beispiele\n"
   ]
  },
  {
   "cell_type": "code",
   "execution_count": null,
   "id": "26053cbb",
   "metadata": {},
   "outputs": [],
   "source": [
    "callMe = \"Maybe\"\n",
    "print(callme)"
   ]
  },
  {
   "cell_type": "code",
   "execution_count": null,
   "id": "05b19468",
   "metadata": {},
   "outputs": [],
   "source": [
    "print(1/0)"
   ]
  },
  {
   "cell_type": "code",
   "execution_count": null,
   "id": "f9c3763c",
   "metadata": {},
   "outputs": [],
   "source": [
    "print(\"Zehn\" + 10)"
   ]
  },
  {
   "cell_type": "code",
   "execution_count": null,
   "id": "7f5677e7",
   "metadata": {},
   "outputs": [],
   "source": [
    "print(x)\n",
    "x = 5"
   ]
  },
  {
   "cell_type": "markdown",
   "id": "49c1352a",
   "metadata": {},
   "source": [
    "## Logische Fehler\n"
   ]
  },
  {
   "cell_type": "markdown",
   "id": "4bdc97d9",
   "metadata": {},
   "source": [
    "Was ist der Fehler bei folgendem Programm?"
   ]
  },
  {
   "cell_type": "code",
   "execution_count": 1,
   "id": "b44a79d0",
   "metadata": {},
   "outputs": [
    {
     "name": "stdout",
     "output_type": "stream",
     "text": [
      "5.0\n"
     ]
    }
   ],
   "source": [
    "x = 3\n",
    "y = 4\n",
    "durchschnitt = x + y / 2\n",
    "print(durchschnitt)"
   ]
  },
  {
   "cell_type": "markdown",
   "id": "7b7675b0",
   "metadata": {},
   "source": [
    "Logische Fehler treten auf, wenn Sie das Programm falsch entworfen haben oder der Code nicht dem Entwurf entspricht (wie in dem Beispiel mit durchschnitt). Logische Fehler können schwierig zu finden sein - gerade bei längeren Programmen - aber mit der Zeit, wenn Sie besser programmieren können, werden auch logische Fehler seltener auftreten."
   ]
  },
  {
   "cell_type": "markdown",
   "id": "9cea9322",
   "metadata": {},
   "source": [
    "# Aufgaben"
   ]
  },
  {
   "cell_type": "markdown",
   "id": "6afb69f7",
   "metadata": {},
   "source": [
    "### Aufgabe 1:"
   ]
  },
  {
   "cell_type": "markdown",
   "id": "605793b8",
   "metadata": {},
   "source": [
    "Korrigieren Sie den Syntaxfehler in diesem Programm, sodass es die Summe der Zahlen von 1 bis 10 ausgibt."
   ]
  },
  {
   "cell_type": "code",
   "execution_count": null,
   "id": "a6579087",
   "metadata": {},
   "outputs": [],
   "source": [
    "print(1 + 2 + 3 + 4 + 5 + 6 + 7 + 8 + 9 + 10 +)\n"
   ]
  },
  {
   "cell_type": "code",
   "execution_count": null,
   "id": "d5c16c33",
   "metadata": {},
   "outputs": [],
   "source": []
  },
  {
   "cell_type": "markdown",
   "id": "7f881f6c",
   "metadata": {},
   "source": [
    "### Aufgabe 2:"
   ]
  },
  {
   "cell_type": "markdown",
   "id": "44cd090a",
   "metadata": {},
   "source": [
    "Korrigieren Sie den Laufzeitfehler in folgendem Programm, sodass es in der ersten Zeile Hello und in der zweiten Zeile Joe ausgibt."
   ]
  },
  {
   "cell_type": "code",
   "execution_count": 2,
   "id": "cbfbe47c",
   "metadata": {},
   "outputs": [
    {
     "name": "stdout",
     "output_type": "stream",
     "text": [
      "Hello\n"
     ]
    },
    {
     "ename": "NameError",
     "evalue": "name 'Joe' is not defined",
     "output_type": "error",
     "traceback": [
      "\u001b[0;31m---------------------------------------------------------------------------\u001b[0m",
      "\u001b[0;31mNameError\u001b[0m                                 Traceback (most recent call last)",
      "Cell \u001b[0;32mIn[2], line 2\u001b[0m\n\u001b[1;32m      1\u001b[0m \u001b[38;5;28mprint\u001b[39m(\u001b[38;5;124m\"\u001b[39m\u001b[38;5;124mHello\u001b[39m\u001b[38;5;124m\"\u001b[39m)\n\u001b[0;32m----> 2\u001b[0m username \u001b[38;5;241m=\u001b[39m \u001b[43mJoe\u001b[49m \n\u001b[1;32m      3\u001b[0m \u001b[38;5;28mprint\u001b[39m(username)\n",
      "\u001b[0;31mNameError\u001b[0m: name 'Joe' is not defined"
     ]
    }
   ],
   "source": [
    "print(\"Hello\")\n",
    "username = Joe \n",
    "print(username)"
   ]
  },
  {
   "cell_type": "code",
   "execution_count": null,
   "id": "8e649adc",
   "metadata": {},
   "outputs": [],
   "source": [
    "\n"
   ]
  },
  {
   "cell_type": "markdown",
   "id": "b75a48f5-8153-433f-abf6-b654aa621f90",
   "metadata": {},
   "source": [
    "## Aufgabe 3"
   ]
  },
  {
   "cell_type": "markdown",
   "id": "cc7f37d1-6fca-4ad3-b0f8-14a624ad5de4",
   "metadata": {},
   "source": [
    "Korrigieren Sie den Syntaxfehler in folgendem Programm, sodass es die Temperatur ausgibt."
   ]
  },
  {
   "cell_type": "code",
   "execution_count": 1,
   "id": "4d2ed762-c33d-4aef-af32-cf981878e362",
   "metadata": {},
   "outputs": [
    {
     "ename": "NameError",
     "evalue": "name 'temperatur' is not defined",
     "output_type": "error",
     "traceback": [
      "\u001b[0;31m---------------------------------------------------------------------------\u001b[0m",
      "\u001b[0;31mNameError\u001b[0m                                 Traceback (most recent call last)",
      "Cell \u001b[0;32mIn[1], line 2\u001b[0m\n\u001b[1;32m      1\u001b[0m temperatur: \u001b[38;5;124m\"\u001b[39m\u001b[38;5;124m23,4° Celsius\u001b[39m\u001b[38;5;124m\"\u001b[39m\n\u001b[0;32m----> 2\u001b[0m \u001b[38;5;28mprint\u001b[39m(\u001b[38;5;124m\"\u001b[39m\u001b[38;5;124mHeute ist es\u001b[39m\u001b[38;5;124m\"\u001b[39m \u001b[38;5;241m+\u001b[39m \u001b[43mtemperatur\u001b[49m \u001b[38;5;241m+\u001b[39m \u001b[38;5;124m\"\u001b[39m\u001b[38;5;124mGrad\u001b[39m\u001b[38;5;124m\"\u001b[39m)\n",
      "\u001b[0;31mNameError\u001b[0m: name 'temperatur' is not defined"
     ]
    }
   ],
   "source": [
    "temperatur: \"23,4° Celsius\"\n",
    "print(\"Heute ist es\" + temperatur + \"Grad\")"
   ]
  },
  {
   "cell_type": "markdown",
   "id": "e591c182-2800-41f4-bf93-a9b76a3acf5a",
   "metadata": {},
   "source": [
    "## Aufgabe 4"
   ]
  },
  {
   "cell_type": "markdown",
   "id": "9d0e62c4-ddf8-455a-9459-e0d125a4549b",
   "metadata": {},
   "source": [
    "Welche Möglichkeiten gibt es, diesen Fehler zu beheben?"
   ]
  },
  {
   "cell_type": "code",
   "execution_count": 4,
   "id": "9cc2e025-40f9-47a0-abaf-45e609e0961d",
   "metadata": {},
   "outputs": [
    {
     "ename": "TypeError",
     "evalue": "unsupported operand type(s) for /: 'str' and 'int'",
     "output_type": "error",
     "traceback": [
      "\u001b[0;31m---------------------------------------------------------------------------\u001b[0m",
      "\u001b[0;31mTypeError\u001b[0m                                 Traceback (most recent call last)",
      "Cell \u001b[0;32mIn[4], line 1\u001b[0m\n\u001b[0;32m----> 1\u001b[0m \u001b[38;5;28mprint\u001b[39m(\u001b[38;5;124;43m\"\u001b[39;49m\u001b[38;5;124;43mhallo\u001b[39;49m\u001b[38;5;124;43m\"\u001b[39;49m\u001b[43m \u001b[49m\u001b[38;5;241;43m/\u001b[39;49m\u001b[38;5;241;43m3\u001b[39;49m)\n",
      "\u001b[0;31mTypeError\u001b[0m: unsupported operand type(s) for /: 'str' and 'int'"
     ]
    }
   ],
   "source": [
    "print(\"hallo\" /3)"
   ]
  },
  {
   "cell_type": "markdown",
   "id": "ceefa4e9-a89c-485f-81c0-39eb5d0b2051",
   "metadata": {},
   "source": []
  },
  {
   "cell_type": "markdown",
   "id": "b87b8ff6",
   "metadata": {},
   "source": [
    "### Zusatzaufgabe:\n"
   ]
  },
  {
   "cell_type": "markdown",
   "id": "47b16bc8",
   "metadata": {},
   "source": [
    "Sie gehen Milch und Fleisch einkaufen (englisch: \"milk\" bzw. \"meat\"), aber diese Produkte sind mit einer Steuer (englisch: tax) belegt. Sie kaufen Milch im Wert von 2.- und Fleisch im Wert von 4.-, wobei die Steuerrate 3% beträgt.\n",
    "\n",
    "Geben Sie die Gesamtkosten der Lebensmittel aus.\n",
    "Korrigieren Sie die Fehler im folgenden Code.\n",
    "\n",
    "Korrekte Lösung: 6.18"
   ]
  },
  {
   "cell_type": "code",
   "execution_count": null,
   "id": "c10e0f90",
   "metadata": {},
   "outputs": [],
   "source": [
    "meatPrice = 4.00\n",
    "meatTax = 0.03 * meatPrice\n",
    "milkPrice = 2.00\n",
    "milkTax = 0.03 * milkPrice\n",
    "print(meatTax + meatPrice + milkTax + meatPrice)"
   ]
  }
 ],
 "metadata": {
  "kernelspec": {
   "display_name": "Python 3 (ipykernel)",
   "language": "python",
   "name": "python3"
  },
  "language_info": {
   "codemirror_mode": {
    "name": "ipython",
    "version": 3
   },
   "file_extension": ".py",
   "mimetype": "text/x-python",
   "name": "python",
   "nbconvert_exporter": "python",
   "pygments_lexer": "ipython3",
   "version": "3.9.7"
  }
 },
 "nbformat": 4,
 "nbformat_minor": 5
}
