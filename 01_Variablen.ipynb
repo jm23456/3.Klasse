{
 "cells": [
  {
   "cell_type": "markdown",
   "id": "455b9fe6",
   "metadata": {},
   "source": [
    "# Variablen"
   ]
  },
  {
   "cell_type": "markdown",
   "id": "21a04474",
   "metadata": {},
   "source": [
    "Variablen sind \"Speicherorte\" für Daten in einem Programm. Sie sind eine Möglichkeit, Informationen Namen zu geben, um sie später zu erreichen.\n",
    "\n",
    "Jede Variable hat einen Namen; ein Beispiel für einen Variablennamen ist meineGluecksZahl. Um Informationen in einer Variable zu speichern, nutzt man das Gleich-Zeichen in folgendem Kontext:\n",
    "\n",
    "```der Variablenname = der zu speichernde Wert```\n",
    "\n",
    "Programmierer und Programmiererinnen wählen in der Regel aussagekräftige Namen für ihre Variablen, die dokumentieren, wofür die Variable verwendet wird.\n",
    "\n",
    "Die Namen von Variablen können beliebig lang sein. Es dürfen sowohl Buchstaben als auch Zahlen enthalten sein, aber sie dürfen nicht mit einer Zahl beginnen. Auch kann das Unterstrich-Zeichen, _, in einem Namen vorkommen. Es wird häufig in Namen mit mehreren Wörtern verwendet, z.B. \"mein_Name\" oder \"geschwindigkeit_vom_Auto\". Der erste Buchstaben sollte "
   ]
  },
  {
   "cell_type": "code",
   "execution_count": 4,
   "id": "50764271",
   "metadata": {},
   "outputs": [],
   "source": [
    "meinJahrgang = 1995"
   ]
  },
  {
   "cell_type": "markdown",
   "id": "41b7fa04",
   "metadata": {},
   "source": [
    "Die obenstehende Python-Zeile speichert meinen Jahrgang in der Variable \"meinjahrgang\".\n",
    "Danach wird Python jedesmal, wenn du den Variablennamen meinJahrgang schreibst, den gespeicherten Wert nutzen."
   ]
  },
  {
   "cell_type": "markdown",
   "id": "7b6c707f",
   "metadata": {},
   "source": [
    "Ändern Sie die Variable \"meinJahrgang\" zu ihrem Jahrgang und führen Sie \"Run\" auf der Zeile aus. (Somit speichern wir den Wert neu)."
   ]
  },
  {
   "cell_type": "markdown",
   "id": "87027aa0",
   "metadata": {},
   "source": [
    "Hier ist ein kleines Beispiel, in dem Variablen genutzt werden. Es hat mehr als eine Code-Zeile: Python wird zunächst die erste Zeile ausführen, dann die zweite, und so weiter, bis die letzte Zeile erreicht wurde. Klicken Sie den Run-Button, um zu sehen, was es macht."
   ]
  },
  {
   "cell_type": "code",
   "execution_count": 5,
   "id": "12ae81fd",
   "metadata": {},
   "outputs": [
    {
     "name": "stdout",
     "output_type": "stream",
     "text": [
      "1995\n",
      "1996\n",
      "1995\n"
     ]
    }
   ],
   "source": [
    "print(meinJahrgang)\n",
    "print(meinJahrgang + 1)\n",
    "print(meinJahrgang)"
   ]
  },
  {
   "cell_type": "markdown",
   "id": "d347c1ca",
   "metadata": {},
   "source": [
    "Wir sehen, dass der Wert der Variable nicht geändert wurde (trotz dem + 1 rechnen). Dies liegt daran, dass wir lediglich einen print-Befehl ausgeführt haben und nicht die Variabel geändert haben.\n",
    "\n",
    "Um eine Variable tatsächlich zu ändern müssen wir sie überschreiben:"
   ]
  },
  {
   "cell_type": "code",
   "execution_count": null,
   "id": "3ee8d264",
   "metadata": {},
   "outputs": [],
   "source": [
    "print(meinJahrgang)\n",
    "meinJahrgang = meinJahrgang + 1\n",
    "print(meinJahrgang)"
   ]
  },
  {
   "cell_type": "markdown",
   "id": "8b0bc9bc",
   "metadata": {},
   "source": [
    "Hurra wir haben soeben unseren Jahrgang um ein Jahr geändert und sind ein Jahr jünger geworden."
   ]
  },
  {
   "cell_type": "markdown",
   "id": "90e26d12",
   "metadata": {},
   "source": [
    "Hier haben wir auch den Plus-Operator (+) eingeführt, der zwei Zahlen addiert. Genauso gibt es auch Operatoren für Subtraktion (-), Multiplikation (*) und Division (/). Wir werden uns diese noch genauer anschauen."
   ]
  },
  {
   "cell_type": "markdown",
   "id": "a4563365",
   "metadata": {},
   "source": [
    "### Eingabefeld"
   ]
  },
  {
   "cell_type": "markdown",
   "id": "518bb652",
   "metadata": {},
   "source": [
    "Wir als Nutzer können Python auch via Eingabeld Variablen Werte zuweisen.\n",
    "\n",
    "So können wir zum Beispiel den Nutzer Fragen wie alt Er/Sie ist, und diesen Wert in der Variable \"alter\" Speichern:"
   ]
  },
  {
   "cell_type": "code",
   "execution_count": null,
   "id": "c4e12c51",
   "metadata": {},
   "outputs": [],
   "source": [
    "alter = input(\"Wie alt bist du?\")\n",
    "print(alter)"
   ]
  },
  {
   "cell_type": "markdown",
   "id": "a5e02d7c",
   "metadata": {},
   "source": [
    "# Aufgaben"
   ]
  },
  {
   "cell_type": "markdown",
   "id": "3eb16e50",
   "metadata": {},
   "source": [
    "### Aufgabe 1:"
   ]
  },
  {
   "cell_type": "markdown",
   "id": "b30b5baa",
   "metadata": {},
   "source": [
    "Berechnen Sie von Hand, was der Wert der Variablen am Ende des folgenden Codes sein wird:\n",
    "    \n",
    "    first = 2\n",
    "    second = 3\n",
    "    third = first * second\n",
    "    second = third - first\n",
    "    first = first + second + third\n",
    "    third = second * first\n",
    "\n",
    "(Schreiben Sie sich Zeile für Zeile auf, wie der Wert der Variable nach dem Ausführen der Zeile sein wird)\n",
    "\n",
    "Nutzen Sie anschliessend das folgende Programmier-Feld, um zu überprüfen ob ihre Berechnungen stimmen:"
   ]
  },
  {
   "cell_type": "code",
   "execution_count": null,
   "id": "d07a6497",
   "metadata": {},
   "outputs": [],
   "source": []
  },
  {
   "cell_type": "markdown",
   "id": "7203d60b",
   "metadata": {},
   "source": [
    "### Aufgabe 2:"
   ]
  },
  {
   "cell_type": "markdown",
   "id": "bd556c55",
   "metadata": {},
   "source": [
    "Wieso gibt folgdender Code eine Fehlermeldung aus?"
   ]
  },
  {
   "cell_type": "code",
   "execution_count": null,
   "id": "f80e205c",
   "metadata": {},
   "outputs": [],
   "source": [
    "print(lösung)\n",
    "lösung = 3-2"
   ]
  },
  {
   "cell_type": "markdown",
   "id": "a378e577",
   "metadata": {},
   "source": []
  },
  {
   "cell_type": "markdown",
   "id": "411ae025",
   "metadata": {},
   "source": [
    "### Aufgabe 3:"
   ]
  },
  {
   "cell_type": "code",
   "execution_count": null,
   "id": "ab63705c",
   "metadata": {},
   "outputs": [],
   "source": [
    "Wieso gibt folgdender Code eine Fehlermeldung aus?"
   ]
  },
  {
   "cell_type": "code",
   "execution_count": null,
   "id": "652a606e",
   "metadata": {},
   "outputs": [],
   "source": [
    "x = 4\n",
    "print(x)\n",
    "4 = x\n",
    "print(x)"
   ]
  },
  {
   "cell_type": "markdown",
   "id": "ae449b6f",
   "metadata": {},
   "source": []
  },
  {
   "cell_type": "markdown",
   "id": "d26918ee",
   "metadata": {},
   "source": [
    "### Aufgabe 4:"
   ]
  },
  {
   "cell_type": "code",
   "execution_count": null,
   "id": "9fbbd20e",
   "metadata": {},
   "outputs": [],
   "source": [
    "Berechnen Sie von Hand, was der Wert der Variablen am Ende des folgenden Codes sein wird:\n",
    "    \n",
    "    x = 10\n",
    "    x = x + x\n",
    "    x = x - 5\n",
    "    x = x * 2\n",
    "    x = x"
   ]
  },
  {
   "cell_type": "markdown",
   "id": "dd379046",
   "metadata": {},
   "source": [
    "### Aufgabe 5:"
   ]
  },
  {
   "cell_type": "markdown",
   "id": "da1226ab",
   "metadata": {},
   "source": [
    "Schreiben Sie ein Programm, das Köpfe, Schultern, Knie und Zehen auf einer Party zählt.\n",
    "\n",
    "Eine Variable personen ist schon bekannt, und die Anzahl der Personen auf der Party ist darin bereits gespeichert.\n",
    "Der Code muss 4 Variablen definieren: \n",
    "    koepfe (Anzahl der Köpfe)\n",
    "    schultern (Anzahl der Schultern)\n",
    "    knie (Anzahl der Knie)\n",
    "    zehen (Anzahl der Zehen)\n",
    "\n",
    "Geben Sie die Werte der Variablen mittels print() aus."
   ]
  },
  {
   "cell_type": "code",
   "execution_count": null,
   "id": "d286995b",
   "metadata": {},
   "outputs": [],
   "source": []
  },
  {
   "cell_type": "markdown",
   "id": "862b8985",
   "metadata": {},
   "source": [
    "### Aufgabe 6:"
   ]
  },
  {
   "cell_type": "markdown",
   "id": "b50f4ce6",
   "metadata": {},
   "source": [
    "Schreiben Sie ein Programm, das die Werte zweier Variablen vertauscht.\n",
    "Es sind zwei Variablen x und y vordefiniert, die numerische Werte enthalten.\n",
    "Nach der Ausführung des Programms muss der alte Wert von x in der Variable y zu finden sein und der alte Wert von y in der Variable x."
   ]
  },
  {
   "cell_type": "code",
   "execution_count": null,
   "id": "9e64e248",
   "metadata": {},
   "outputs": [],
   "source": []
  },
  {
   "cell_type": "markdown",
   "id": "9ce0d0b6",
   "metadata": {},
   "source": [
    "### Aufgabe 7:"
   ]
  },
  {
   "cell_type": "markdown",
   "id": "3a230cfc",
   "metadata": {},
   "source": [
    "Schreiben Sie ein Programm, welches den Nutzer nach seinem/ihrem Namen fragt, und anschliessend \"Hallo (name)\" ausgibt."
   ]
  },
  {
   "cell_type": "code",
   "execution_count": null,
   "id": "e32a0b6a",
   "metadata": {},
   "outputs": [],
   "source": []
  },
  {
   "cell_type": "code",
   "execution_count": null,
   "id": "c0fd6ed0",
   "metadata": {},
   "outputs": [],
   "source": []
  }
 ],
 "metadata": {
  "kernelspec": {
   "display_name": "Python 3 (ipykernel)",
   "language": "python",
   "name": "python3"
  },
  "language_info": {
   "codemirror_mode": {
    "name": "ipython",
    "version": 3
   },
   "file_extension": ".py",
   "mimetype": "text/x-python",
   "name": "python",
   "nbconvert_exporter": "python",
   "pygments_lexer": "ipython3",
   "version": "3.9.7"
  }
 },
 "nbformat": 4,
 "nbformat_minor": 5
}
