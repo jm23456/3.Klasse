{
 "cells": [
  {
   "cell_type": "markdown",
   "id": "455b9fe6",
   "metadata": {},
   "source": [
    "# Erste Schritte"
   ]
  },
  {
   "cell_type": "markdown",
   "id": "87027aa0",
   "metadata": {},
   "source": [
    "Ein Computerprogramm ist eine Folge von Befehlen, beschrieben in Wörtern, Zahlen und Symbolen. So, wie jeder gesprochene Satz in einer menschlichen Sprache wie Deutsch oder Englisch ausgedrückt wird, wird jedes Programm in einer Programmiersprache ausgedrückt. Einige bekannte Programmiersprachen sind Python, C++, JavaScript und PHP. Unsere Auswahl fiel auf Python, da es sowohl einfach genug für Einsteiger als auch leistungsfähig genug für moderne Anwendungen ist. Alle Programmiersprachen bauen auf den selben Prinzipien auf, also können Sie einfach weitere lernen, wenn Sie schon eine kennst."
   ]
  },
  {
   "cell_type": "markdown",
   "id": "d3b95ce2",
   "metadata": {},
   "source": [
    "Führen Sie eine erste Zeile Code aus indem Sie auf \"Run\" klicken."
   ]
  },
  {
   "cell_type": "code",
   "execution_count": null,
   "id": "12ae81fd",
   "metadata": {},
   "outputs": [],
   "source": [
    "print(\"Hallo Welt\")"
   ]
  },
  {
   "cell_type": "markdown",
   "id": "1a9f7b2e",
   "metadata": {},
   "source": [
    "Wenn Sie ein Programm ausführen, können Sie auch dessen Ausgabe sehen. Dieses Beispiel-Programm hat genau einen Befehl, print(\"Hallo, Welt!\"), und erzeugt eine einzeilige Ausgabe,\n",
    "\n",
    "Hallo, Welt!"
   ]
  },
  {
   "cell_type": "markdown",
   "id": "be90551e",
   "metadata": {},
   "source": [
    "Hier ist eine Analyse von dem, was dieses Programm macht:\n",
    "    print ist der Name eines Python-Befehls, der Text ausgibt.\n",
    "    Die Klammern () nach dem Print-Befehl enthalten das, was du ausgeben möchtest.\n",
    "    Die Anführungsstriche \" \" sind eine Art Behälter für den Text Hallo, Welt!.\n",
    "Ohne Anführungsstriche würde Python annehmen, dass Hallo als Befehl gemeint ist. Das würde einen Fehler produzieren, da es keinen solchen Befehl gibt."
   ]
  },
  {
   "cell_type": "markdown",
   "id": "92d8f24b",
   "metadata": {},
   "source": [
    "Schauen wir uns doch mal an, was genau passiert, wenn man die Anführungsstriche weglässt:"
   ]
  },
  {
   "cell_type": "code",
   "execution_count": null,
   "id": "c24e32a7",
   "metadata": {},
   "outputs": [],
   "source": [
    "print(Hallo, Welt)"
   ]
  },
  {
   "cell_type": "markdown",
   "id": "5e330110",
   "metadata": {},
   "source": [
    "Hier ist das Programm abgestürzt: Das heißt, wir haben dem Computer einen falschen Befehl gegeben, der zu einem Fehler und zum Programmende führte."
   ]
  },
  {
   "cell_type": "markdown",
   "id": "392729ae",
   "metadata": {},
   "source": [
    "## Aufgaben"
   ]
  },
  {
   "cell_type": "markdown",
   "id": "70906a78",
   "metadata": {},
   "source": [
    "### Aufgabe 1 "
   ]
  },
  {
   "cell_type": "markdown",
   "id": "f88d9329",
   "metadata": {},
   "source": [
    "Schreiben Sie ein Programm, das folgende Ausgabe erzeugt:\n",
    "    Bonjour, tout le monde!"
   ]
  },
  {
   "cell_type": "markdown",
   "id": "87d998ef",
   "metadata": {},
   "source": [
    "### Aufgabe 2"
   ]
  },
  {
   "cell_type": "markdown",
   "id": "0d3fd4a1",
   "metadata": {},
   "source": [
    "Schreiben Sie ein Programm, welches zwei Wörter miteinander verbindet:\n",
    "    -> Wörter verbinden kann man indem man sie mit einem + Zeichen aneinanderhängt: \"Du\"+\"rchsage\"."
   ]
  },
  {
   "cell_type": "code",
   "execution_count": null,
   "id": "d171cb87",
   "metadata": {
    "scrolled": false
   },
   "outputs": [],
   "source": []
  },
  {
   "cell_type": "markdown",
   "id": "3ed270e0",
   "metadata": {},
   "source": [
    "### Aufgabe 3"
   ]
  },
  {
   "cell_type": "markdown",
   "id": "c6e2ca21",
   "metadata": {},
   "source": [
    "Wir können auch Wörter mehrfach aneinanderreihen. Um dies zu tun können wir ein Wort multiplizieren. Ähnlich wie bei einer mathematischen Multiplikation, schreiben wir x * Wort um das Wort x mal auszugeben.\n",
    "(Bsp. print(3*\"KZI\")\n",
    "Nutzen Sie diese Informationen um Ihren Namen 10'000 mal Auszugeben."
   ]
  },
  {
   "cell_type": "code",
   "execution_count": null,
   "id": "d2791cea",
   "metadata": {},
   "outputs": [],
   "source": []
  },
  {
   "cell_type": "markdown",
   "id": "e8c7ea04",
   "metadata": {},
   "source": [
    "Was passiert wenn der Faktor zu gross wird?"
   ]
  },
  {
   "cell_type": "code",
   "execution_count": null,
   "id": "c481cc88",
   "metadata": {},
   "outputs": [],
   "source": []
  },
  {
   "cell_type": "markdown",
   "id": "151c583f",
   "metadata": {},
   "source": [
    "### Aufgabe 4"
   ]
  },
  {
   "cell_type": "markdown",
   "id": "6cb2a7f0",
   "metadata": {},
   "source": [
    "Um einen Zeilenumbruch in der Ausgabe zu generieren, können wir folgendes im Text einführen:\n",
    "    \\n\n",
    "An dieser Stelle wird der Text nun geteilt.\n",
    "Schreiben Sie folgenden Text in die Konsole:\n",
    "\n",
    "Kantonsschule\n",
    "\n",
    "Zimmerberg\n",
    "\n",
    "2023\n"
   ]
  },
  {
   "cell_type": "code",
   "execution_count": null,
   "id": "e6af1909",
   "metadata": {},
   "outputs": [],
   "source": []
  },
  {
   "cell_type": "code",
   "execution_count": null,
   "id": "3588103c",
   "metadata": {},
   "outputs": [],
   "source": []
  }
 ],
 "metadata": {
  "kernelspec": {
   "display_name": "Python 3 (ipykernel)",
   "language": "python",
   "name": "python3"
  },
  "language_info": {
   "codemirror_mode": {
    "name": "ipython",
    "version": 3
   },
   "file_extension": ".py",
   "mimetype": "text/x-python",
   "name": "python",
   "nbconvert_exporter": "python",
   "pygments_lexer": "ipython3",
   "version": "3.9.7"
  }
 },
 "nbformat": 4,
 "nbformat_minor": 5
}
