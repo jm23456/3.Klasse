{
 "cells": [
  {
   "cell_type": "markdown",
   "id": "c074f3e5-8ec1-4c03-b7bb-ae6801f961a3",
   "metadata": {},
   "source": [
    "# Repetition"
   ]
  },
  {
   "cell_type": "markdown",
   "id": "8132321c-c509-4868-a345-831dd9bb6098",
   "metadata": {},
   "source": [
    "### Aufgabe 1"
   ]
  },
  {
   "cell_type": "markdown",
   "id": "e526f7f6-7a01-49c1-89e1-54e69cba6d17",
   "metadata": {},
   "source": [
    "Definiere eine Variable mit der Höhe vom Matterhorn und eine Variable mit den Höhenmeter von Wädenswil."
   ]
  },
  {
   "cell_type": "code",
   "execution_count": null,
   "id": "706e1cf6-62f1-483f-a3dc-ea857330299b",
   "metadata": {},
   "outputs": [],
   "source": []
  },
  {
   "cell_type": "markdown",
   "id": "931381fe-b301-4bbe-8425-7072b1195689",
   "metadata": {},
   "source": [
    "### Aufgabe 2"
   ]
  },
  {
   "cell_type": "markdown",
   "id": "52d7d622-13df-4dd6-aa15-5fda00cdcb4c",
   "metadata": {},
   "source": [
    "Schreibe ein Programm, welches die zwei zuvor definierten Variablen addiert."
   ]
  },
  {
   "cell_type": "code",
   "execution_count": null,
   "id": "25dcfaf3-44c5-457e-b853-9eba08efa217",
   "metadata": {},
   "outputs": [],
   "source": []
  },
  {
   "cell_type": "markdown",
   "id": "ba1cbe26-ba44-4fad-b783-95838fd54cb4",
   "metadata": {},
   "source": [
    "### Aufgabe 3"
   ]
  },
  {
   "cell_type": "markdown",
   "id": "5eb1ba81-f9be-4c38-ade7-cf02bff7e667",
   "metadata": {},
   "source": [
    "Schreibe ein Programm, welches die Fläche eines Kreises berechnet mit einem Radius von 4cm. (verwende für Pi 3.142)"
   ]
  },
  {
   "cell_type": "code",
   "execution_count": null,
   "id": "7aec6609-a557-415e-aa34-b347770e8215",
   "metadata": {},
   "outputs": [],
   "source": []
  },
  {
   "cell_type": "markdown",
   "id": "e73ffcb3-42ea-4e77-9f64-b8c58e2cdb4b",
   "metadata": {},
   "source": [
    "### Aufgabe 4"
   ]
  },
  {
   "cell_type": "markdown",
   "id": "9157cb64-010e-410b-8baa-4ea6ae7a1ef9",
   "metadata": {},
   "source": [
    "Schreibe ein Programm, welches den Benutzer nach seinem Lieblingsessen fragt und dieses dann 3 Mal nacheinander ausgibt."
   ]
  },
  {
   "cell_type": "code",
   "execution_count": null,
   "id": "ed7d5867-7334-4ac8-955d-dc9a07ce4f9c",
   "metadata": {},
   "outputs": [],
   "source": []
  },
  {
   "cell_type": "markdown",
   "id": "b1d607e3-1519-4e5f-84c3-72b7679ef0d9",
   "metadata": {},
   "source": [
    "### Aufgabe 5"
   ]
  },
  {
   "cell_type": "markdown",
   "id": "563e64db-d816-4884-a5a2-77b13d3fa453",
   "metadata": {},
   "source": [
    "Was für einen Fehler gibt das folgende Programm aus?"
   ]
  },
  {
   "cell_type": "code",
   "execution_count": null,
   "id": "554a7459-6f87-4995-a04f-8caa0d679cf2",
   "metadata": {},
   "outputs": [],
   "source": [
    "x = 9\n",
    "y = 4\n",
    "z = 7\n",
    "durchschnitt = x + y + z / 2\n",
    "print(f\"Der Durchschnitt von {x}, {y}, {z} ist: {durchschnitt}\")"
   ]
  },
  {
   "cell_type": "markdown",
   "id": "626d7f48-8280-466b-8b9d-53b7412f342b",
   "metadata": {},
   "source": []
  },
  {
   "cell_type": "markdown",
   "id": "fdc18d04-3578-49ee-8419-0c71518db0e7",
   "metadata": {},
   "source": [
    "### Aufgabe 6"
   ]
  },
  {
   "cell_type": "markdown",
   "id": "6f6b7891-f581-4cae-b705-656213c1c16d",
   "metadata": {},
   "source": [
    "Schreibe das Programm von Aufgabe 5 so, dass es keinen Fehler mehr hat."
   ]
  },
  {
   "cell_type": "code",
   "execution_count": null,
   "id": "ffcfb6b4-7a59-4b70-87f9-aebc859f2dbe",
   "metadata": {},
   "outputs": [],
   "source": []
  }
 ],
 "metadata": {
  "kernelspec": {
   "display_name": "Python 3 (ipykernel)",
   "language": "python",
   "name": "python3"
  },
  "language_info": {
   "codemirror_mode": {
    "name": "ipython",
    "version": 3
   },
   "file_extension": ".py",
   "mimetype": "text/x-python",
   "name": "python",
   "nbconvert_exporter": "python",
   "pygments_lexer": "ipython3",
   "version": "3.9.7"
  }
 },
 "nbformat": 4,
 "nbformat_minor": 5
}
